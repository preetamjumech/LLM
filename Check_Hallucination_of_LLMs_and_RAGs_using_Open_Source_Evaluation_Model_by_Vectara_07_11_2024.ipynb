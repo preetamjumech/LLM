{
  "nbformat": 4,
  "nbformat_minor": 0,
  "metadata": {
    "colab": {
      "provenance": [],
      "authorship_tag": "ABX9TyMXh9o6Lfub7pd2FGcWhRU8",
      "include_colab_link": true
    },
    "kernelspec": {
      "name": "python3",
      "display_name": "Python 3"
    },
    "language_info": {
      "name": "python"
    }
  },
  "cells": [
    {
      "cell_type": "markdown",
      "metadata": {
        "id": "view-in-github",
        "colab_type": "text"
      },
      "source": [
        "<a href=\"https://colab.research.google.com/github/preetamjumech/LLM/blob/main/Check_Hallucination_of_LLMs_and_RAGs_using_Open_Source_Evaluation_Model_by_Vectara_07_11_2024.ipynb\" target=\"_parent\"><img src=\"https://colab.research.google.com/assets/colab-badge.svg\" alt=\"Open In Colab\"/></a>"
      ]
    },
    {
      "cell_type": "code",
      "execution_count": 5,
      "metadata": {
        "id": "kn-JLlfvKrXO"
      },
      "outputs": [],
      "source": [
        "from transformers import AutoModelForSequenceClassification"
      ]
    },
    {
      "cell_type": "code",
      "source": [
        "pairs = [ [\"A man walks into a bar and buys a drink\", \"A bloke swigs alcohol at a pub\"],\n",
        "          [\"A person on a horse jumps over a broken down airplane.\", \"A person is at a diner, ordering an omelette.\"],\n",
        "          [\"A person on a horse jumps over a broken down airplane.\", \"A person is outdoors, on a horse.\"],\n",
        "          [\"A boy is jumping on skateboard in the middle of a red bridge.\", \"The boy skates down the sidewalk on a blue bridge\"],\n",
        "          [\"A man with blond-hair, and a brown shirt drinking out of a public water fountain.\", \"A blond drinking water in public.\"],\n",
        "          [\"A man with blond-hair, and a brown shirt drinking out of a public water fountain.\", \"A blond man wearing a brown shirt is reading a book.\"],\n",
        "          [\"Mark Wahlberg was a fan of Manny.\", \"Manny was a fan of Mark Wahlberg.\"]\n",
        "      ]"
      ],
      "metadata": {
        "collapsed": true,
        "id": "JsVgpC28WJfm"
      },
      "execution_count": 6,
      "outputs": []
    },
    {
      "cell_type": "code",
      "source": [
        "model = AutoModelForSequenceClassification.from_pretrained(\n",
        "    'vectara/hallucination_evaluation_model', trust_remote_code=True)\n",
        "\n",
        "# Step 2: Use the model to predict\n",
        "scores = model.predict(pairs)\n",
        "scores"
      ],
      "metadata": {
        "colab": {
          "base_uri": "https://localhost:8080/"
        },
        "id": "UNDlMyOyXjfl",
        "outputId": "dbfc6318-b9e4-4683-82d7-e418155d0230"
      },
      "execution_count": 8,
      "outputs": [
        {
          "output_type": "stream",
          "name": "stderr",
          "text": [
            "You are using a model of type HHEMv2Config to instantiate a model of type HHEMv2. This is not supported for all configurations of models and can yield errors.\n"
          ]
        },
        {
          "output_type": "execute_result",
          "data": {
            "text/plain": [
              "tensor([0.0852, 0.0114, 0.8969, 0.0061, 0.9677, 0.0050, 0.0543])"
            ]
          },
          "metadata": {},
          "execution_count": 8
        }
      ]
    },
    {
      "cell_type": "code",
      "source": [
        "import numpy as np\n",
        "\n",
        "# Convert the values to one decimal point\n",
        "score_one_decimal = np.around(scores, decimals=1)\n",
        "\n",
        "# Convert the values to percentage with one decimal point\n",
        "score_percentage = np.around(scores * 100, decimals=1)\n",
        "print(score_one_decimal)\n",
        "print(score_percentage)"
      ],
      "metadata": {
        "colab": {
          "base_uri": "https://localhost:8080/"
        },
        "id": "afysIYkMQxV4",
        "outputId": "8aed039a-0013-4e07-fabe-4d0be276bdd2"
      },
      "execution_count": 10,
      "outputs": [
        {
          "output_type": "stream",
          "name": "stdout",
          "text": [
            "tensor([0.1000, 0.0000, 0.9000, 0.0000, 1.0000, 0.0000, 0.1000])\n",
            "tensor([ 8.5000,  1.1000, 89.7000,  0.6000, 96.8000,  0.5000,  5.4000])\n"
          ]
        }
      ]
    },
    {
      "cell_type": "code",
      "source": [],
      "metadata": {
        "id": "ByY4Cca_QxYx"
      },
      "execution_count": null,
      "outputs": []
    },
    {
      "cell_type": "code",
      "source": [],
      "metadata": {
        "id": "8jJsGintQxbM"
      },
      "execution_count": null,
      "outputs": []
    }
  ]
}