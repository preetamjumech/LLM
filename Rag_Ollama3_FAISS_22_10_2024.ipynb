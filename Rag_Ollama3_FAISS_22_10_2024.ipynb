{
  "nbformat": 4,
  "nbformat_minor": 0,
  "metadata": {
    "colab": {
      "provenance": [],
      "authorship_tag": "ABX9TyM6ZISyb1s1UBoBFMzSqaOh",
      "include_colab_link": true
    },
    "kernelspec": {
      "name": "python3",
      "display_name": "Python 3"
    },
    "language_info": {
      "name": "python"
    }
  },
  "cells": [
    {
      "cell_type": "markdown",
      "metadata": {
        "id": "view-in-github",
        "colab_type": "text"
      },
      "source": [
        "<a href=\"https://colab.research.google.com/github/preetamjumech/LLM/blob/main/Rag_Ollama3_FAISS_22_10_2024.ipynb\" target=\"_parent\"><img src=\"https://colab.research.google.com/assets/colab-badge.svg\" alt=\"Open In Colab\"/></a>"
      ]
    },
    {
      "cell_type": "code",
      "execution_count": null,
      "metadata": {
        "id": "hdMVPGeLWvWt"
      },
      "outputs": [],
      "source": [
        "#!pip install langchain_community==0.2.4\n",
        "#!pip install langchain==0.2.3\n",
        "#!pip install faiss_cpu==1.8.0\n",
        "#!pip install unstructured==0.14.5\n",
        "#!pip install unstructured[pdf]==0.14.5\n",
        "#!pip install transformers==4.41.2\n",
        "#!pip install sentence_transformers==3.0.1\n",
        "#!pip install streamlit"
      ]
    },
    {
      "cell_type": "code",
      "source": [
        "import streamlit as st\n",
        "from langchain_community.llms import Ollama\n",
        "from langchain.document_loaders import UnstructuredFileLoader\n",
        "from langchain_community.vectorstores import FAISS\n",
        "from langchain.text_splitter import CharacterTextSplitter\n",
        "from langchain_community.embeddings import OllamaEmbeddings\n",
        "from langchain.chains import RetrievalQA\n",
        "\n",
        "\n",
        "llm = Ollama(model=\"llama3:instruct\",\n",
        "             temperature = 0)\n",
        "# Set page configuration\n",
        "\n",
        "\n",
        "st.set_page_config(page_title=\"Document Q&A App\", layout=\"wide\")\n",
        "col1, col2 = st.columns([1, 4])  # Adjust the ratios as needed\n",
        "\n",
        "with col1:\n",
        "    st.image(\"logo.png\")\n",
        "\n",
        "with col2:\n",
        "    st.markdown(\"<h1 style='text-align: center;'>🧠 RAG : Q&A with your own Documents</h1>\", unsafe_allow_html=True)\n",
        "\n",
        "\n",
        "# Sidebar for instructions and steps with increased font size\n",
        "st.sidebar.markdown(\"<h2 style='font-size: 20px;'>General Instructions</h2>\", unsafe_allow_html=True)\n",
        "st.sidebar.markdown(\"<h4 style='font-size: 16px;'>Steps to Use the App:</h4>\", unsafe_allow_html=True)\n",
        "st.sidebar.markdown(\"1. Upload your PDF document.\")\n",
        "st.sidebar.markdown(\"2. Create embeddings from the document.\")\n",
        "st.sidebar.markdown(\"3. Ask questions based on the document content.\")\n",
        "\n",
        "# Adding some spacing before the main content\n",
        "st.markdown(\"<br>\", unsafe_allow_html=True)\n",
        "\n",
        "# Section 1: Document Upload\n",
        "st.header(\"📄 Upload Document \")\n",
        "uploaded_file = st.file_uploader(\"Upload a PDF document\", type=\"pdf\")\n",
        "if uploaded_file is not None:\n",
        "    # Save the uploaded file temporarily\n",
        "    with open(\"uploaded_document.pdf\", \"wb\") as f:\n",
        "        f.write(uploaded_file.getbuffer())\n",
        "    st.success(\"✅ Document uploaded!\")\n",
        "\n",
        "    # Clear embeddings message\n",
        "    if 'embeddings_status' in st.session_state:\n",
        "        del st.session_state['embeddings_status']\n",
        "\n",
        "# Adding extra spacing\n",
        "st.markdown(\"<br>\", unsafe_allow_html=True)\n",
        "\n",
        "# Section 2: Create Embeddings\n",
        "st.header(\"🔗 Create Embeddings\")\n",
        "if st.button(\"Create Embeddings\") and uploaded_file is not None:\n",
        "    loader = UnstructuredFileLoader(\"uploaded_document.pdf\")\n",
        "    documents = loader.load()\n",
        "\n",
        "    text_splitter = CharacterTextSplitter(separator=\"/n\", chunk_size=1000, chunk_overlap=250)\n",
        "    texts = text_splitter.split_documents(documents)\n",
        "\n",
        "    embeddings = OllamaEmbeddings(model=\"nomic-embed-text\")\n",
        "    knowledge_base = FAISS.from_documents(texts, embeddings)\n",
        "\n",
        "    # Store knowledge_base in session state\n",
        "    st.session_state.knowledge_base = knowledge_base\n",
        "\n",
        "    # Set embeddings status\n",
        "    st.session_state.embeddings_status = \"✨ Embeddings created!\"\n",
        "\n",
        "# Display embeddings status\n",
        "# Display embeddings status\n",
        "if 'embeddings_status' in st.session_state:\n",
        "    st.markdown(\n",
        "        \"<h3 style='color: green;'>✅ Embeddings created!</h3>\",\n",
        "        unsafe_allow_html=True\n",
        "    )\n",
        "\n",
        "# Adding some spacing between sections\n",
        "st.markdown(\"<br>\", unsafe_allow_html=True)\n",
        "\n",
        "# Section 3: Question Answering\n",
        "st.header(\"❓ Question Answering\")\n",
        "question = st.text_input(\"Ask a question about the document\")\n",
        "if st.button(\"Get Answer\") and question and 'knowledge_base' in st.session_state:\n",
        "    qa_chain = RetrievalQA.from_chain_type(llm, retriever=st.session_state.knowledge_base.as_retriever())\n",
        "    response = qa_chain.invoke({\"query\": question})\n",
        "    st.write(\"📝 Answer:\", response[\"result\"])\n"
      ],
      "metadata": {
        "id": "1sMjfUueXSIW"
      },
      "execution_count": null,
      "outputs": []
    }
  ]
}