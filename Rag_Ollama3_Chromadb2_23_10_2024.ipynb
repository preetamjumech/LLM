{
  "nbformat": 4,
  "nbformat_minor": 0,
  "metadata": {
    "colab": {
      "provenance": [],
      "authorship_tag": "ABX9TyMfNydDpVB+KITpIdwNvELJ",
      "include_colab_link": true
    },
    "kernelspec": {
      "name": "python3",
      "display_name": "Python 3"
    },
    "language_info": {
      "name": "python"
    }
  },
  "cells": [
    {
      "cell_type": "markdown",
      "metadata": {
        "id": "view-in-github",
        "colab_type": "text"
      },
      "source": [
        "<a href=\"https://colab.research.google.com/github/preetamjumech/LLM/blob/main/Rag_Ollama3_Chromadb2_23_10_2024.ipynb\" target=\"_parent\"><img src=\"https://colab.research.google.com/assets/colab-badge.svg\" alt=\"Open In Colab\"/></a>"
      ]
    },
    {
      "cell_type": "code",
      "execution_count": null,
      "metadata": {
        "id": "MmFVSF0SzjmH"
      },
      "outputs": [],
      "source": [
        "#!pip install ollama\n",
        "#!pip install chromadb\n",
        "#!pip install feedparser\n",
        "#!pip install streamlit"
      ]
    },
    {
      "cell_type": "code",
      "source": [
        "import ollama\n",
        "import chromadb\n",
        "import feedparser\n",
        "\n",
        "rss_feed_link = \"https://rss.nytimes.com/services/xml/rss/nyt/Technology.xml\"\n",
        "collection_name = \"nyt_tech_feed\"\n",
        "\n",
        "feed = feedparser.parse(rss_feed_link)\n",
        "entries = feed.entries\n",
        "# print(entries)\n",
        "\n",
        "documents = []\n",
        "metadatas = []\n",
        "ids = []\n",
        "\n",
        "\n",
        "for entry in entries:\n",
        "    title = entry.title\n",
        "    link = entry.link\n",
        "    content = entry.summary\n",
        "    tags = \", \".join(t[\"term\"] for t in entry.tags)\n",
        "\n",
        "    documents.append(f\"# {title}\\n{content}\")\n",
        "    metadatas.append({\"title\": title, \"link\": link, \"tags\": tags})\n",
        "    ids.append(link)\n",
        "\n",
        "\n",
        "# print(documents[0])\n",
        "# print(metadatas[0])\n",
        "# print(ids[0])\n",
        "\n",
        "client = chromadb.Client()\n",
        "\n",
        "collection = client.get_or_create_collection(collection_name)\n",
        "\n",
        "collection.add(\n",
        "    documents=documents,\n",
        "    metadatas=metadatas,\n",
        "    ids=ids\n",
        ")\n",
        "\n",
        "prompt = \"list top 3 most intersting AI related news with summaries and link\"\n",
        "query_result = collection.query(query_texts=[prompt])\n",
        "context = query_result[\"documents\"][0]\n",
        "\n",
        "stream = ollama.chat(\n",
        "model = \"llama3:instruct\",\n",
        "messages= [\n",
        "    {\"role\": \"system\",\n",
        "    \"content\" : f\"Answer the questions based on the news feed given here only. If you donot know the answer, say I donot know. The news feed content is here: \\n\\n------------------{context}-------------------\\n\\n \"\n",
        "    },\n",
        "    {\n",
        "        \"role\": \"user\",\n",
        "        \"content\": prompt\n",
        "    }\n",
        "],\n",
        "    stream= True\n",
        "\n",
        ")\n",
        "\n",
        "for chunk in stream:\n",
        "    print(chunk[\"message\"][\"content\"], end = \"\")"
      ],
      "metadata": {
        "id": "wQwJ1TEHzk--"
      },
      "execution_count": null,
      "outputs": []
    }
  ]
}