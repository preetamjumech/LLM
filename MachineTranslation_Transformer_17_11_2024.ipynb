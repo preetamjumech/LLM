{
  "nbformat": 4,
  "nbformat_minor": 0,
  "metadata": {
    "colab": {
      "provenance": [],
      "authorship_tag": "ABX9TyMIaL6S0ORsQ3bGjiPVD4I6",
      "include_colab_link": true
    },
    "kernelspec": {
      "name": "python3",
      "display_name": "Python 3"
    },
    "language_info": {
      "name": "python"
    }
  },
  "cells": [
    {
      "cell_type": "markdown",
      "metadata": {
        "id": "view-in-github",
        "colab_type": "text"
      },
      "source": [
        "<a href=\"https://colab.research.google.com/github/preetamjumech/LLM/blob/main/MachineTranslation_Transformer_17_11_2024.ipynb\" target=\"_parent\"><img src=\"https://colab.research.google.com/assets/colab-badge.svg\" alt=\"Open In Colab\"/></a>"
      ]
    },
    {
      "cell_type": "code",
      "execution_count": 1,
      "metadata": {
        "colab": {
          "base_uri": "https://localhost:8080/",
          "height": 35
        },
        "id": "g0vqW-lrYHAo",
        "outputId": "c9c57732-f820-4bb7-9d41-7bd5936685f4"
      },
      "outputs": [
        {
          "output_type": "execute_result",
          "data": {
            "text/plain": [
              "'3.5.0'"
            ],
            "application/vnd.google.colaboratory.intrinsic+json": {
              "type": "string"
            }
          },
          "metadata": {},
          "execution_count": 1
        }
      ],
      "source": [
        "import keras\n",
        "\n",
        "keras.__version__"
      ]
    },
    {
      "cell_type": "code",
      "source": [
        "import re\n",
        "import string\n",
        "import random\n",
        "import pathlib\n",
        "\n",
        "import numpy as np\n",
        "import tensorflow as tf\n",
        "\n",
        "from tensorflow import keras\n",
        "from tensorflow.keras import layers\n",
        "from tensorflow.keras.layers import TextVectorization"
      ],
      "metadata": {
        "id": "xP9OGGOObQJj"
      },
      "execution_count": 2,
      "outputs": []
    },
    {
      "cell_type": "code",
      "source": [
        "with open('/content/fra.txt') as f:\n",
        "    lines = f.read().split(\"\\n\")[:-1]\n",
        "\n",
        "text_pairs = []\n",
        "\n",
        "for line in lines:\n",
        "    eng, fra = line.split(\"\\t\")\n",
        "    fra = \"[start] \" + fra + \" [end]\"\n",
        "\n",
        "    text_pairs.append((eng, fra))"
      ],
      "metadata": {
        "id": "2AXpQHJ2bQML"
      },
      "execution_count": 3,
      "outputs": []
    },
    {
      "cell_type": "code",
      "source": [
        "for _ in range(10):\n",
        "    print(random.choice(text_pairs))"
      ],
      "metadata": {
        "colab": {
          "base_uri": "https://localhost:8080/"
        },
        "id": "KyC-FpU1bQOl",
        "outputId": "c50201dc-f271-4e41-be0b-a9a420e8daff"
      },
      "execution_count": 4,
      "outputs": [
        {
          "output_type": "stream",
          "name": "stdout",
          "text": [
            "('I want to see your boss.', '[start] Je veux voir votre patronne. [end]')\n",
            "('I need you to fix this.', \"[start] J'ai besoin que vous corrigiez ceci. [end]\")\n",
            "('Cut the cloth diagonally.', \"[start] Coupez l'étoffe en diagonale. [end]\")\n",
            "('They all cheated.', '[start] Elles ont toutes triché. [end]')\n",
            "('See to it that all the doors are locked before you go out.', '[start] Vérifiez bien que toutes les portes sont fermées à clef avant que vous ne partiez. [end]')\n",
            "('I corrected it.', \"[start] Je l'ai corrigée. [end]\")\n",
            "(\"I don't know if I can stay.\", \"[start] J'ignore si je peux rester. [end]\")\n",
            "('Our neighbor has broken a rib.', \"[start] Notre voisine s'est cassée une côte. [end]\")\n",
            "('May I eat a little of it?', '[start] Est-ce que je peux en manger un peu\\u202f? [end]')\n",
            "('Can I borrow your car?', '[start] Puis-je emprunter votre voiture\\u202f? [end]')\n"
          ]
        }
      ]
    },
    {
      "cell_type": "code",
      "source": [
        "text_pairs = text_pairs[:1000]\n",
        "random.shuffle(text_pairs)\n",
        "\n",
        "num_val_samples = int(0.15 * len(text_pairs))\n",
        "\n",
        "num_train_samples = len(text_pairs) - 2 * num_val_samples\n",
        "\n",
        "train_pairs = text_pairs[:num_train_samples]\n",
        "val_pairs = text_pairs[num_train_samples : num_train_samples + num_val_samples]\n",
        "test_pairs = text_pairs[num_train_samples + num_val_samples :]\n",
        "\n",
        "print(f\"{len(text_pairs)} total pairs\")\n",
        "print(f\"{len(train_pairs)} training pairs\")\n",
        "print(f\"{len(val_pairs)} validation pairs\")\n",
        "print(f\"{len(test_pairs)} test pairs\")"
      ],
      "metadata": {
        "colab": {
          "base_uri": "https://localhost:8080/"
        },
        "id": "tulYszMUbQTU",
        "outputId": "9973c937-35f6-4ae7-ae01-6d5602372428"
      },
      "execution_count": 5,
      "outputs": [
        {
          "output_type": "stream",
          "name": "stdout",
          "text": [
            "1000 total pairs\n",
            "700 training pairs\n",
            "150 validation pairs\n",
            "150 test pairs\n"
          ]
        }
      ]
    },
    {
      "cell_type": "code",
      "source": [
        "strip_chars = string.punctuation\n",
        "strip_chars = strip_chars.replace(\"[\", \"\")\n",
        "strip_chars = strip_chars.replace(\"]\", \"\")\n",
        "\n",
        "vocab_size = 15000\n",
        "sequence_length = 20\n",
        "batch_size = 64\n",
        "\n",
        "def custom_standardization(input_string):\n",
        "    lowercase = tf.strings.lower(input_string)\n",
        "\n",
        "    return tf.strings.regex_replace(lowercase, \"[%s]\" % re.escape(strip_chars), \"\")\n",
        "\n",
        "\n",
        "eng_vectorization = TextVectorization(\n",
        "    max_tokens = vocab_size,\n",
        "    output_mode = \"int\",\n",
        "    output_sequence_length = sequence_length,\n",
        ")\n",
        "\n",
        "fra_vectorization = TextVectorization(\n",
        "    max_tokens = vocab_size,\n",
        "    output_mode = \"int\",\n",
        "    output_sequence_length = sequence_length + 1,\n",
        "    standardize = custom_standardization,\n",
        ")\n"
      ],
      "metadata": {
        "id": "F2GzowQzbQWD"
      },
      "execution_count": 6,
      "outputs": []
    },
    {
      "cell_type": "code",
      "source": [
        "train_eng_texts = [pair[0] for pair in train_pairs]\n",
        "train_fra_texts = [pair[1] for pair in train_pairs]\n",
        "\n",
        "eng_vectorization.adapt(train_eng_texts)\n",
        "fra_vectorization.adapt(train_fra_texts)"
      ],
      "metadata": {
        "id": "c23QIZncbuJ-"
      },
      "execution_count": 7,
      "outputs": []
    },
    {
      "cell_type": "code",
      "source": [
        "vocab_inp_size = len(eng_vectorization.get_vocabulary())\n",
        "\n",
        "vocab_inp_size"
      ],
      "metadata": {
        "colab": {
          "base_uri": "https://localhost:8080/"
        },
        "id": "JL-SRb8WbuM-",
        "outputId": "68c61de7-eed7-4a7e-d33f-05984a65c208"
      },
      "execution_count": 8,
      "outputs": [
        {
          "output_type": "execute_result",
          "data": {
            "text/plain": [
              "338"
            ]
          },
          "metadata": {},
          "execution_count": 8
        }
      ]
    },
    {
      "cell_type": "code",
      "source": [
        "eng_vectorization.get_vocabulary()[:15]"
      ],
      "metadata": {
        "colab": {
          "base_uri": "https://localhost:8080/"
        },
        "id": "qrx0tsuobuPV",
        "outputId": "cd840ae5-c0b5-4785-fe48-8f5f3c34af58"
      },
      "execution_count": 9,
      "outputs": [
        {
          "output_type": "execute_result",
          "data": {
            "text/plain": [
              "['',\n",
              " '[UNK]',\n",
              " 'i',\n",
              " 'im',\n",
              " 'it',\n",
              " 'go',\n",
              " 'me',\n",
              " 'tom',\n",
              " 'we',\n",
              " 'its',\n",
              " 'up',\n",
              " 'be',\n",
              " 'get',\n",
              " 'you',\n",
              " 'this']"
            ]
          },
          "metadata": {},
          "execution_count": 9
        }
      ]
    },
    {
      "cell_type": "code",
      "source": [
        "vocab_out_size = len(fra_vectorization.get_vocabulary())\n",
        "\n",
        "vocab_out_size"
      ],
      "metadata": {
        "colab": {
          "base_uri": "https://localhost:8080/"
        },
        "id": "9Ud9gctHbuRv",
        "outputId": "863b9664-07e7-4976-f509-0c81943a3c37"
      },
      "execution_count": 10,
      "outputs": [
        {
          "output_type": "execute_result",
          "data": {
            "text/plain": [
              "670"
            ]
          },
          "metadata": {},
          "execution_count": 10
        }
      ]
    },
    {
      "cell_type": "code",
      "source": [
        "fra_vectorization.get_vocabulary()[:15]"
      ],
      "metadata": {
        "colab": {
          "base_uri": "https://localhost:8080/"
        },
        "id": "PEVq0co5buWe",
        "outputId": "d5de72d3-e4e6-4194-94f7-eb5f082422de"
      },
      "execution_count": 11,
      "outputs": [
        {
          "output_type": "execute_result",
          "data": {
            "text/plain": [
              "['',\n",
              " '[UNK]',\n",
              " '[start]',\n",
              " '[end]',\n",
              " 'je',\n",
              " 'suis',\n",
              " 'nous',\n",
              " 'tom',\n",
              " 'cest',\n",
              " 'me',\n",
              " 'jai',\n",
              " 'il',\n",
              " 'ça',\n",
              " 'est',\n",
              " 'de']"
            ]
          },
          "metadata": {},
          "execution_count": 11
        }
      ]
    },
    {
      "cell_type": "code",
      "source": [
        "def format_dataset(eng, fra):\n",
        "    eng = eng_vectorization(eng)\n",
        "    fra = fra_vectorization(fra)\n",
        "\n",
        "    # ({english tokens, french tokens}, french tokens shifted by 1)\n",
        "    return (\n",
        "        {\n",
        "            \"encoder_inputs\": eng,\n",
        "            \"decoder_inputs\": fra[:, :-1],\n",
        "        },\n",
        "        fra[:, 1:],\n",
        "    )\n",
        "\n",
        "\n",
        "def make_dataset(pairs):\n",
        "    eng_texts, fra_texts = zip(*pairs)\n",
        "\n",
        "    eng_texts = list(eng_texts)\n",
        "    fra_texts = list(fra_texts)\n",
        "\n",
        "    dataset = tf.data.Dataset.from_tensor_slices((eng_texts, fra_texts))\n",
        "\n",
        "    dataset = dataset.batch(batch_size)\n",
        "\n",
        "    dataset = dataset.map(format_dataset)\n",
        "\n",
        "    return dataset.shuffle(2048).prefetch(16).cache()\n",
        "\n",
        "\n",
        "train_ds = make_dataset(train_pairs)\n",
        "val_ds = make_dataset(val_pairs)"
      ],
      "metadata": {
        "id": "YoVh6rJYbubt"
      },
      "execution_count": 12,
      "outputs": []
    },
    {
      "cell_type": "code",
      "source": [
        " inputs, targets = next(iter(train_ds))\n",
        "\n",
        " print(f'inputs[\"encoder_inputs\"].shape: {inputs[\"encoder_inputs\"].shape}')\n",
        " print(f'inputs[\"decoder_inputs\"].shape: {inputs[\"decoder_inputs\"].shape}')\n",
        " print(f\"targets.shape: {targets.shape}\")"
      ],
      "metadata": {
        "colab": {
          "base_uri": "https://localhost:8080/"
        },
        "id": "v41bgjRZbugY",
        "outputId": "b8a14760-0f56-4005-9083-42b0a4b54b15"
      },
      "execution_count": 13,
      "outputs": [
        {
          "output_type": "stream",
          "name": "stdout",
          "text": [
            "inputs[\"encoder_inputs\"].shape: (64, 20)\n",
            "inputs[\"decoder_inputs\"].shape: (64, 20)\n",
            "targets.shape: (64, 20)\n"
          ]
        }
      ]
    },
    {
      "cell_type": "code",
      "source": [
        "inputs[\"encoder_inputs\"]"
      ],
      "metadata": {
        "colab": {
          "base_uri": "https://localhost:8080/"
        },
        "id": "ZR-iS4h8cA7o",
        "outputId": "f4410235-7633-480f-db5c-5f710ce5511f"
      },
      "execution_count": 14,
      "outputs": [
        {
          "output_type": "execute_result",
          "data": {
            "text/plain": [
              "<tf.Tensor: shape=(64, 20), dtype=int64, numpy=\n",
              "array([[109,   2,   5, ...,   0,   0,   0],\n",
              "       [ 27,   4,   0, ...,   0,   0,   0],\n",
              "       [  2,  87,  35, ...,   0,   0,   0],\n",
              "       ...,\n",
              "       [ 68,  28,   0, ...,   0,   0,   0],\n",
              "       [133,  10,   0, ...,   0,   0,   0],\n",
              "       [  8,  66,   0, ...,   0,   0,   0]])>"
            ]
          },
          "metadata": {},
          "execution_count": 14
        }
      ]
    },
    {
      "cell_type": "code",
      "source": [
        "inputs[\"decoder_inputs\"]"
      ],
      "metadata": {
        "colab": {
          "base_uri": "https://localhost:8080/"
        },
        "id": "tJQc7yEzcA-w",
        "outputId": "d411ccc2-54b9-42d9-b06f-cb097d479a56"
      },
      "execution_count": 15,
      "outputs": [
        {
          "output_type": "execute_result",
          "data": {
            "text/plain": [
              "<tf.Tensor: shape=(64, 20), dtype=int64, numpy=\n",
              "array([[  2,  89,  61, ...,   0,   0,   0],\n",
              "       [  2, 363,   3, ...,   0,   0,   0],\n",
              "       [  2,   4,   9, ...,   0,   0,   0],\n",
              "       ...,\n",
              "       [  2,  77,   3, ...,   0,   0,   0],\n",
              "       [  2, 448,   3, ...,   0,   0,   0],\n",
              "       [  2,   6,  27, ...,   0,   0,   0]])>"
            ]
          },
          "metadata": {},
          "execution_count": 15
        }
      ]
    },
    {
      "cell_type": "code",
      "source": [
        "targets"
      ],
      "metadata": {
        "colab": {
          "base_uri": "https://localhost:8080/"
        },
        "id": "VK6rLkXQcBA-",
        "outputId": "be92a205-97a2-45d5-91b4-3e5b75389c1e"
      },
      "execution_count": 16,
      "outputs": [
        {
          "output_type": "execute_result",
          "data": {
            "text/plain": [
              "<tf.Tensor: shape=(64, 20), dtype=int64, numpy=\n",
              "array([[ 89,  61,  28, ...,   0,   0,   0],\n",
              "       [363,   3,   0, ...,   0,   0,   0],\n",
              "       [  4,   9,   5, ...,   0,   0,   0],\n",
              "       ...,\n",
              "       [ 77,   3,   0, ...,   0,   0,   0],\n",
              "       [448,   3,   0, ...,   0,   0,   0],\n",
              "       [  6,  27, 569, ...,   0,   0,   0]])>"
            ]
          },
          "metadata": {},
          "execution_count": 16
        }
      ]
    },
    {
      "cell_type": "code",
      "source": [
        "class TransformerEncoder(layers.Layer):\n",
        "    def __init__(self, embed_dim, dense_dim, num_heads, **kwargs):\n",
        "        super().__init__(**kwargs)\n",
        "\n",
        "        self.embed_dim = embed_dim\n",
        "        self.dense_dim = dense_dim\n",
        "        self.num_heads = num_heads\n",
        "\n",
        "        self.attention = layers.MultiHeadAttention(\n",
        "            num_heads = num_heads, key_dim = embed_dim\n",
        "        )\n",
        "\n",
        "        self.dense_proj = keras.Sequential(\n",
        "            [\n",
        "                layers.Dense(dense_dim, activation = \"relu\"),\n",
        "                layers.Dense(embed_dim),\n",
        "            ]\n",
        "        )\n",
        "\n",
        "        self.layernorm_1 = layers.LayerNormalization()\n",
        "        self.layernorm_2 = layers.LayerNormalization()\n",
        "\n",
        "        self.supports_masking = True\n",
        "\n",
        "    def call(self, inputs, mask = None):\n",
        "        attention_output = self.attention(query = inputs, value = inputs, key = inputs)\n",
        "\n",
        "        proj_input = self.layernorm_1(inputs + attention_output)\n",
        "\n",
        "        proj_output = self.dense_proj(proj_input)\n",
        "\n",
        "        return self.layernorm_2(proj_input + proj_output)\n",
        "\n",
        "    def get_config(self):\n",
        "        config = super().get_config()\n",
        "\n",
        "        config.update(\n",
        "            {\n",
        "                \"embed_dim\": self.embed_dim,\n",
        "                \"dense_dim\": self.dense_dim,\n",
        "                \"num_heads\": self.num_heads,\n",
        "            }\n",
        "        )\n",
        "\n",
        "        return config"
      ],
      "metadata": {
        "id": "LzY9KSIHcBDg"
      },
      "execution_count": 17,
      "outputs": []
    },
    {
      "cell_type": "code",
      "source": [
        "class PositionalEmbedding(layers.Layer):\n",
        "    def __init__(self, sequence_length, vocab_size, embed_dim, **kwargs):\n",
        "        super().__init__(**kwargs)\n",
        "\n",
        "        self.token_embeddings = layers.Embedding(\n",
        "            input_dim = vocab_size, output_dim = embed_dim\n",
        "        )\n",
        "\n",
        "        self.position_embeddings = layers.Embedding(\n",
        "            input_dim = sequence_length, output_dim = embed_dim\n",
        "        )\n",
        "\n",
        "        self.sequence_length = sequence_length\n",
        "        self.vocab_size = vocab_size\n",
        "        self.embed_dim = embed_dim\n",
        "\n",
        "    def call(self, inputs):\n",
        "        length = tf.shape(inputs)[-1]\n",
        "        positions = tf.range(start = 0, limit = length, delta = 1)\n",
        "\n",
        "        embedded_tokens = self.token_embeddings(inputs)\n",
        "        embedded_positions = self.position_embeddings(positions)\n",
        "\n",
        "        return embedded_tokens + embedded_positions\n",
        "\n",
        "    def compute_mask(self, inputs, mask = None):\n",
        "        # return tf.math.not_equal(inputs, 0)\n",
        "         return layers.Lambda(lambda x: tf.not_equal(tf.cast(x, tf.int64), 0))(inputs)\n",
        "\n",
        "    def get_config(self):\n",
        "        config = super().get_config()\n",
        "\n",
        "        config.update(\n",
        "            {\n",
        "                \"sequence_length\": self.sequence_length,\n",
        "                \"vocab_size\": self.vocab_size,\n",
        "                \"embed_dim\": self.embed_dim,\n",
        "            }\n",
        "        )\n",
        "\n",
        "        return config"
      ],
      "metadata": {
        "id": "Hq0MtUdBcBGD"
      },
      "execution_count": 27,
      "outputs": []
    },
    {
      "cell_type": "code",
      "source": [
        "class TransformerDecoder(layers.Layer):\n",
        "    def __init__(self, embed_dim, latent_dim, num_heads, **kwargs):\n",
        "        super().__init__(**kwargs)\n",
        "\n",
        "        self.embed_dim = embed_dim\n",
        "        self.latent_dim = latent_dim\n",
        "        self.num_heads = num_heads\n",
        "\n",
        "        self.attention_1 = layers.MultiHeadAttention(\n",
        "            num_heads = num_heads, key_dim = embed_dim\n",
        "        )\n",
        "        self.attention_2 = layers.MultiHeadAttention(\n",
        "            num_heads = num_heads, key_dim = embed_dim\n",
        "        )\n",
        "\n",
        "        self.dense_proj = keras.Sequential(\n",
        "            [\n",
        "                layers.Dense(latent_dim, activation = \"relu\"),\n",
        "                layers.Dense(embed_dim),\n",
        "            ]\n",
        "        )\n",
        "        self.layernorm_1 = layers.LayerNormalization()\n",
        "        self.layernorm_2 = layers.LayerNormalization()\n",
        "        self.layernorm_3 = layers.LayerNormalization()\n",
        "\n",
        "        self.add = layers.Add()  # instead of `+` to preserve mask\n",
        "\n",
        "        self.supports_masking = True\n",
        "\n",
        "    def call(self, inputs, encoder_outputs, mask = None):\n",
        "        attention_output_1 = self.attention_1(\n",
        "            query = inputs, value = inputs, key = inputs, use_causal_mask = True\n",
        "        )\n",
        "        out_1 = self.layernorm_1(self.add([inputs, attention_output_1]))\n",
        "\n",
        "        attention_output_2 = self.attention_2(\n",
        "            query = out_1,\n",
        "            value = encoder_outputs,\n",
        "            key = encoder_outputs,\n",
        "        )\n",
        "        out_2 = self.layernorm_2(self.add([out_1, attention_output_2]))\n",
        "\n",
        "        proj_output = self.dense_proj(out_2)\n",
        "\n",
        "        return self.layernorm_3(self.add([out_2, proj_output]))\n",
        "\n",
        "    def get_config(self):\n",
        "        config = super().get_config()\n",
        "        config.update(\n",
        "            {\n",
        "                \"embed_dim\": self.embed_dim,\n",
        "                \"latent_dim\": self.latent_dim,\n",
        "                \"num_heads\": self.num_heads,\n",
        "            }\n",
        "        )\n",
        "        return config"
      ],
      "metadata": {
        "id": "hWOLueqycR6x"
      },
      "execution_count": 28,
      "outputs": []
    },
    {
      "cell_type": "code",
      "source": [
        "embed_dim = 256\n",
        "latent_dim = 2048\n",
        "num_heads = 8\n",
        "\n",
        "# Encoder\n",
        "encoder_inputs = keras.Input(shape = (None,), dtype = \"int64\", name = \"encoder_inputs\")\n",
        "\n",
        "x = PositionalEmbedding(sequence_length, vocab_size, embed_dim)(encoder_inputs)\n",
        "\n",
        "encoder_outputs = TransformerEncoder(embed_dim, latent_dim, num_heads)(x)\n",
        "\n",
        "encoder = keras.Model(encoder_inputs, encoder_outputs)\n",
        "\n",
        "# Decoder\n",
        "decoder_inputs = keras.Input(shape = (None,), dtype = \"int64\", name = \"decoder_inputs\")\n",
        "\n",
        "encoded_seq_inputs = keras.Input(shape = (None, embed_dim), name = \"decoder_state_inputs\")\n",
        "\n",
        "x = PositionalEmbedding(sequence_length, vocab_size, embed_dim)(decoder_inputs)\n",
        "\n",
        "x = TransformerDecoder(embed_dim, latent_dim, num_heads)(x, encoded_seq_inputs)\n",
        "\n",
        "x = layers.Dropout(0.5)(x)\n",
        "decoder_outputs = layers.Dense(vocab_size, activation = \"softmax\")(x)\n",
        "\n",
        "decoder = keras.Model([decoder_inputs, encoded_seq_inputs], decoder_outputs)\n",
        "\n",
        "decoder_outputs = decoder([decoder_inputs, encoder_outputs])\n",
        "\n",
        "# Transformer\n",
        "transformer = keras.Model(\n",
        "    [encoder_inputs, decoder_inputs], decoder_outputs, name = \"transformer\"\n",
        ")\n"
      ],
      "metadata": {
        "colab": {
          "base_uri": "https://localhost:8080/"
        },
        "id": "S9-GF5QLcR9v",
        "outputId": "a2c4fc2e-b9de-4590-f92c-37944c63f05c"
      },
      "execution_count": 29,
      "outputs": [
        {
          "output_type": "stream",
          "name": "stderr",
          "text": [
            "/usr/local/lib/python3.10/dist-packages/keras/src/layers/layer.py:934: UserWarning: Layer 'functional_3' (of type Functional) was passed an input with a mask attached to it. However, this layer does not support masking and will therefore destroy the mask information. Downstream layers will not see the mask.\n",
            "  warnings.warn(\n"
          ]
        }
      ]
    },
    {
      "cell_type": "code",
      "source": [
        "epochs = 30  # This should be at least 30 for convergence\n",
        "\n",
        "transformer.summary()\n",
        "\n",
        "transformer.compile(\n",
        "    \"rmsprop\", loss = \"sparse_categorical_crossentropy\", metrics = [\"accuracy\"]\n",
        ")\n",
        "\n",
        "transformer.fit(train_ds, epochs = epochs, validation_data = val_ds)"
      ],
      "metadata": {
        "colab": {
          "base_uri": "https://localhost:8080/",
          "height": 1000
        },
        "id": "vPViWuLucSCX",
        "outputId": "49de63f6-e8f2-47d9-d5bc-cc10eb534603"
      },
      "execution_count": 30,
      "outputs": [
        {
          "output_type": "display_data",
          "data": {
            "text/plain": [
              "\u001b[1mModel: \"transformer\"\u001b[0m\n"
            ],
            "text/html": [
              "<pre style=\"white-space:pre;overflow-x:auto;line-height:normal;font-family:Menlo,'DejaVu Sans Mono',consolas,'Courier New',monospace\"><span style=\"font-weight: bold\">Model: \"transformer\"</span>\n",
              "</pre>\n"
            ]
          },
          "metadata": {}
        },
        {
          "output_type": "display_data",
          "data": {
            "text/plain": [
              "┏━━━━━━━━━━━━━━━━━━━━━━━━━━━┳━━━━━━━━━━━━━━━━━━━━━━━━┳━━━━━━━━━━━━━━━━┳━━━━━━━━━━━━━━━━━━━━━━━━┓\n",
              "┃\u001b[1m \u001b[0m\u001b[1mLayer (type)             \u001b[0m\u001b[1m \u001b[0m┃\u001b[1m \u001b[0m\u001b[1mOutput Shape          \u001b[0m\u001b[1m \u001b[0m┃\u001b[1m \u001b[0m\u001b[1m       Param #\u001b[0m\u001b[1m \u001b[0m┃\u001b[1m \u001b[0m\u001b[1mConnected to          \u001b[0m\u001b[1m \u001b[0m┃\n",
              "┡━━━━━━━━━━━━━━━━━━━━━━━━━━━╇━━━━━━━━━━━━━━━━━━━━━━━━╇━━━━━━━━━━━━━━━━╇━━━━━━━━━━━━━━━━━━━━━━━━┩\n",
              "│ encoder_inputs            │ (\u001b[38;5;45mNone\u001b[0m, \u001b[38;5;45mNone\u001b[0m)           │              \u001b[38;5;34m0\u001b[0m │ -                      │\n",
              "│ (\u001b[38;5;33mInputLayer\u001b[0m)              │                        │                │                        │\n",
              "├───────────────────────────┼────────────────────────┼────────────────┼────────────────────────┤\n",
              "│ positional_embedding_3    │ (\u001b[38;5;45mNone\u001b[0m, \u001b[38;5;45mNone\u001b[0m, \u001b[38;5;34m256\u001b[0m)      │      \u001b[38;5;34m3,845,120\u001b[0m │ encoder_inputs[\u001b[38;5;34m0\u001b[0m][\u001b[38;5;34m0\u001b[0m]   │\n",
              "│ (\u001b[38;5;33mPositionalEmbedding\u001b[0m)     │                        │                │                        │\n",
              "├───────────────────────────┼────────────────────────┼────────────────┼────────────────────────┤\n",
              "│ lambda (\u001b[38;5;33mLambda\u001b[0m)           │ (\u001b[38;5;45mNone\u001b[0m, \u001b[38;5;45mNone\u001b[0m)           │              \u001b[38;5;34m0\u001b[0m │ encoder_inputs[\u001b[38;5;34m0\u001b[0m][\u001b[38;5;34m0\u001b[0m]   │\n",
              "├───────────────────────────┼────────────────────────┼────────────────┼────────────────────────┤\n",
              "│ decoder_inputs            │ (\u001b[38;5;45mNone\u001b[0m, \u001b[38;5;45mNone\u001b[0m)           │              \u001b[38;5;34m0\u001b[0m │ -                      │\n",
              "│ (\u001b[38;5;33mInputLayer\u001b[0m)              │                        │                │                        │\n",
              "├───────────────────────────┼────────────────────────┼────────────────┼────────────────────────┤\n",
              "│ transformer_encoder       │ (\u001b[38;5;45mNone\u001b[0m, \u001b[38;5;45mNone\u001b[0m, \u001b[38;5;34m256\u001b[0m)      │      \u001b[38;5;34m3,155,456\u001b[0m │ positional_embedding_… │\n",
              "│ (\u001b[38;5;33mTransformerEncoder\u001b[0m)      │                        │                │ lambda[\u001b[38;5;34m0\u001b[0m][\u001b[38;5;34m0\u001b[0m]           │\n",
              "├───────────────────────────┼────────────────────────┼────────────────┼────────────────────────┤\n",
              "│ functional_3 (\u001b[38;5;33mFunctional\u001b[0m) │ (\u001b[38;5;45mNone\u001b[0m, \u001b[38;5;45mNone\u001b[0m, \u001b[38;5;34m15000\u001b[0m)    │     \u001b[38;5;34m12,959,640\u001b[0m │ decoder_inputs[\u001b[38;5;34m0\u001b[0m][\u001b[38;5;34m0\u001b[0m],  │\n",
              "│                           │                        │                │ transformer_encoder[\u001b[38;5;34m0\u001b[0m… │\n",
              "│                           │                        │                │ lambda[\u001b[38;5;34m0\u001b[0m][\u001b[38;5;34m0\u001b[0m]           │\n",
              "└───────────────────────────┴────────────────────────┴────────────────┴────────────────────────┘\n"
            ],
            "text/html": [
              "<pre style=\"white-space:pre;overflow-x:auto;line-height:normal;font-family:Menlo,'DejaVu Sans Mono',consolas,'Courier New',monospace\">┏━━━━━━━━━━━━━━━━━━━━━━━━━━━┳━━━━━━━━━━━━━━━━━━━━━━━━┳━━━━━━━━━━━━━━━━┳━━━━━━━━━━━━━━━━━━━━━━━━┓\n",
              "┃<span style=\"font-weight: bold\"> Layer (type)              </span>┃<span style=\"font-weight: bold\"> Output Shape           </span>┃<span style=\"font-weight: bold\">        Param # </span>┃<span style=\"font-weight: bold\"> Connected to           </span>┃\n",
              "┡━━━━━━━━━━━━━━━━━━━━━━━━━━━╇━━━━━━━━━━━━━━━━━━━━━━━━╇━━━━━━━━━━━━━━━━╇━━━━━━━━━━━━━━━━━━━━━━━━┩\n",
              "│ encoder_inputs            │ (<span style=\"color: #00d7ff; text-decoration-color: #00d7ff\">None</span>, <span style=\"color: #00d7ff; text-decoration-color: #00d7ff\">None</span>)           │              <span style=\"color: #00af00; text-decoration-color: #00af00\">0</span> │ -                      │\n",
              "│ (<span style=\"color: #0087ff; text-decoration-color: #0087ff\">InputLayer</span>)              │                        │                │                        │\n",
              "├───────────────────────────┼────────────────────────┼────────────────┼────────────────────────┤\n",
              "│ positional_embedding_3    │ (<span style=\"color: #00d7ff; text-decoration-color: #00d7ff\">None</span>, <span style=\"color: #00d7ff; text-decoration-color: #00d7ff\">None</span>, <span style=\"color: #00af00; text-decoration-color: #00af00\">256</span>)      │      <span style=\"color: #00af00; text-decoration-color: #00af00\">3,845,120</span> │ encoder_inputs[<span style=\"color: #00af00; text-decoration-color: #00af00\">0</span>][<span style=\"color: #00af00; text-decoration-color: #00af00\">0</span>]   │\n",
              "│ (<span style=\"color: #0087ff; text-decoration-color: #0087ff\">PositionalEmbedding</span>)     │                        │                │                        │\n",
              "├───────────────────────────┼────────────────────────┼────────────────┼────────────────────────┤\n",
              "│ lambda (<span style=\"color: #0087ff; text-decoration-color: #0087ff\">Lambda</span>)           │ (<span style=\"color: #00d7ff; text-decoration-color: #00d7ff\">None</span>, <span style=\"color: #00d7ff; text-decoration-color: #00d7ff\">None</span>)           │              <span style=\"color: #00af00; text-decoration-color: #00af00\">0</span> │ encoder_inputs[<span style=\"color: #00af00; text-decoration-color: #00af00\">0</span>][<span style=\"color: #00af00; text-decoration-color: #00af00\">0</span>]   │\n",
              "├───────────────────────────┼────────────────────────┼────────────────┼────────────────────────┤\n",
              "│ decoder_inputs            │ (<span style=\"color: #00d7ff; text-decoration-color: #00d7ff\">None</span>, <span style=\"color: #00d7ff; text-decoration-color: #00d7ff\">None</span>)           │              <span style=\"color: #00af00; text-decoration-color: #00af00\">0</span> │ -                      │\n",
              "│ (<span style=\"color: #0087ff; text-decoration-color: #0087ff\">InputLayer</span>)              │                        │                │                        │\n",
              "├───────────────────────────┼────────────────────────┼────────────────┼────────────────────────┤\n",
              "│ transformer_encoder       │ (<span style=\"color: #00d7ff; text-decoration-color: #00d7ff\">None</span>, <span style=\"color: #00d7ff; text-decoration-color: #00d7ff\">None</span>, <span style=\"color: #00af00; text-decoration-color: #00af00\">256</span>)      │      <span style=\"color: #00af00; text-decoration-color: #00af00\">3,155,456</span> │ positional_embedding_… │\n",
              "│ (<span style=\"color: #0087ff; text-decoration-color: #0087ff\">TransformerEncoder</span>)      │                        │                │ lambda[<span style=\"color: #00af00; text-decoration-color: #00af00\">0</span>][<span style=\"color: #00af00; text-decoration-color: #00af00\">0</span>]           │\n",
              "├───────────────────────────┼────────────────────────┼────────────────┼────────────────────────┤\n",
              "│ functional_3 (<span style=\"color: #0087ff; text-decoration-color: #0087ff\">Functional</span>) │ (<span style=\"color: #00d7ff; text-decoration-color: #00d7ff\">None</span>, <span style=\"color: #00d7ff; text-decoration-color: #00d7ff\">None</span>, <span style=\"color: #00af00; text-decoration-color: #00af00\">15000</span>)    │     <span style=\"color: #00af00; text-decoration-color: #00af00\">12,959,640</span> │ decoder_inputs[<span style=\"color: #00af00; text-decoration-color: #00af00\">0</span>][<span style=\"color: #00af00; text-decoration-color: #00af00\">0</span>],  │\n",
              "│                           │                        │                │ transformer_encoder[<span style=\"color: #00af00; text-decoration-color: #00af00\">0</span>… │\n",
              "│                           │                        │                │ lambda[<span style=\"color: #00af00; text-decoration-color: #00af00\">0</span>][<span style=\"color: #00af00; text-decoration-color: #00af00\">0</span>]           │\n",
              "└───────────────────────────┴────────────────────────┴────────────────┴────────────────────────┘\n",
              "</pre>\n"
            ]
          },
          "metadata": {}
        },
        {
          "output_type": "display_data",
          "data": {
            "text/plain": [
              "\u001b[1m Total params: \u001b[0m\u001b[38;5;34m19,960,216\u001b[0m (76.14 MB)\n"
            ],
            "text/html": [
              "<pre style=\"white-space:pre;overflow-x:auto;line-height:normal;font-family:Menlo,'DejaVu Sans Mono',consolas,'Courier New',monospace\"><span style=\"font-weight: bold\"> Total params: </span><span style=\"color: #00af00; text-decoration-color: #00af00\">19,960,216</span> (76.14 MB)\n",
              "</pre>\n"
            ]
          },
          "metadata": {}
        },
        {
          "output_type": "display_data",
          "data": {
            "text/plain": [
              "\u001b[1m Trainable params: \u001b[0m\u001b[38;5;34m19,960,216\u001b[0m (76.14 MB)\n"
            ],
            "text/html": [
              "<pre style=\"white-space:pre;overflow-x:auto;line-height:normal;font-family:Menlo,'DejaVu Sans Mono',consolas,'Courier New',monospace\"><span style=\"font-weight: bold\"> Trainable params: </span><span style=\"color: #00af00; text-decoration-color: #00af00\">19,960,216</span> (76.14 MB)\n",
              "</pre>\n"
            ]
          },
          "metadata": {}
        },
        {
          "output_type": "display_data",
          "data": {
            "text/plain": [
              "\u001b[1m Non-trainable params: \u001b[0m\u001b[38;5;34m0\u001b[0m (0.00 B)\n"
            ],
            "text/html": [
              "<pre style=\"white-space:pre;overflow-x:auto;line-height:normal;font-family:Menlo,'DejaVu Sans Mono',consolas,'Courier New',monospace\"><span style=\"font-weight: bold\"> Non-trainable params: </span><span style=\"color: #00af00; text-decoration-color: #00af00\">0</span> (0.00 B)\n",
              "</pre>\n"
            ]
          },
          "metadata": {}
        },
        {
          "output_type": "stream",
          "name": "stdout",
          "text": [
            "Epoch 1/30\n"
          ]
        },
        {
          "output_type": "stream",
          "name": "stderr",
          "text": [
            "/usr/local/lib/python3.10/dist-packages/keras/src/layers/layer.py:934: UserWarning: Layer 'query' (of type EinsumDense) was passed an input with a mask attached to it. However, this layer does not support masking and will therefore destroy the mask information. Downstream layers will not see the mask.\n",
            "  warnings.warn(\n",
            "/usr/local/lib/python3.10/dist-packages/keras/src/layers/layer.py:934: UserWarning: Layer 'key' (of type EinsumDense) was passed an input with a mask attached to it. However, this layer does not support masking and will therefore destroy the mask information. Downstream layers will not see the mask.\n",
            "  warnings.warn(\n",
            "/usr/local/lib/python3.10/dist-packages/keras/src/layers/layer.py:934: UserWarning: Layer 'value' (of type EinsumDense) was passed an input with a mask attached to it. However, this layer does not support masking and will therefore destroy the mask information. Downstream layers will not see the mask.\n",
            "  warnings.warn(\n",
            "/usr/local/lib/python3.10/dist-packages/keras/src/layers/layer.py:934: UserWarning: Layer 'sequential_1' (of type Sequential) was passed an input with a mask attached to it. However, this layer does not support masking and will therefore destroy the mask information. Downstream layers will not see the mask.\n",
            "  warnings.warn(\n"
          ]
        },
        {
          "output_type": "stream",
          "name": "stdout",
          "text": [
            "\u001b[1m11/11\u001b[0m \u001b[32m━━━━━━━━━━━━━━━━━━━━\u001b[0m\u001b[37m\u001b[0m \u001b[1m67s\u001b[0m 5s/step - accuracy: 0.0327 - loss: 8.7975 - val_accuracy: 0.0607 - val_loss: 7.1932\n",
            "Epoch 2/30\n",
            "\u001b[1m11/11\u001b[0m \u001b[32m━━━━━━━━━━━━━━━━━━━━\u001b[0m\u001b[37m\u001b[0m \u001b[1m77s\u001b[0m 5s/step - accuracy: 0.0554 - loss: 6.6723 - val_accuracy: 0.0517 - val_loss: 6.0434\n",
            "Epoch 3/30\n",
            "\u001b[1m11/11\u001b[0m \u001b[32m━━━━━━━━━━━━━━━━━━━━\u001b[0m\u001b[37m\u001b[0m \u001b[1m82s\u001b[0m 5s/step - accuracy: 0.0510 - loss: 5.5097 - val_accuracy: 0.0477 - val_loss: 5.4029\n",
            "Epoch 4/30\n",
            "\u001b[1m11/11\u001b[0m \u001b[32m━━━━━━━━━━━━━━━━━━━━\u001b[0m\u001b[37m\u001b[0m \u001b[1m82s\u001b[0m 5s/step - accuracy: 0.0514 - loss: 4.7894 - val_accuracy: 0.0670 - val_loss: 5.0768\n",
            "Epoch 5/30\n",
            "\u001b[1m11/11\u001b[0m \u001b[32m━━━━━━━━━━━━━━━━━━━━\u001b[0m\u001b[37m\u001b[0m \u001b[1m57s\u001b[0m 5s/step - accuracy: 0.0556 - loss: 4.3827 - val_accuracy: 0.0583 - val_loss: 4.7956\n",
            "Epoch 6/30\n",
            "\u001b[1m11/11\u001b[0m \u001b[32m━━━━━━━━━━━━━━━━━━━━\u001b[0m\u001b[37m\u001b[0m \u001b[1m64s\u001b[0m 6s/step - accuracy: 0.0589 - loss: 3.8696 - val_accuracy: 0.0590 - val_loss: 4.4964\n",
            "Epoch 7/30\n",
            "\u001b[1m11/11\u001b[0m \u001b[32m━━━━━━━━━━━━━━━━━━━━\u001b[0m\u001b[37m\u001b[0m \u001b[1m75s\u001b[0m 5s/step - accuracy: 0.0646 - loss: 3.4435 - val_accuracy: 0.0477 - val_loss: 4.4164\n",
            "Epoch 8/30\n",
            "\u001b[1m11/11\u001b[0m \u001b[32m━━━━━━━━━━━━━━━━━━━━\u001b[0m\u001b[37m\u001b[0m \u001b[1m81s\u001b[0m 5s/step - accuracy: 0.0648 - loss: 3.1639 - val_accuracy: 0.0663 - val_loss: 4.0796\n",
            "Epoch 9/30\n",
            "\u001b[1m11/11\u001b[0m \u001b[32m━━━━━━━━━━━━━━━━━━━━\u001b[0m\u001b[37m\u001b[0m \u001b[1m83s\u001b[0m 5s/step - accuracy: 0.0701 - loss: 2.7725 - val_accuracy: 0.0570 - val_loss: 3.8100\n",
            "Epoch 10/30\n",
            "\u001b[1m11/11\u001b[0m \u001b[32m━━━━━━━━━━━━━━━━━━━━\u001b[0m\u001b[37m\u001b[0m \u001b[1m81s\u001b[0m 5s/step - accuracy: 0.0713 - loss: 2.3958 - val_accuracy: 0.0600 - val_loss: 3.6202\n",
            "Epoch 11/30\n",
            "\u001b[1m11/11\u001b[0m \u001b[32m━━━━━━━━━━━━━━━━━━━━\u001b[0m\u001b[37m\u001b[0m \u001b[1m82s\u001b[0m 5s/step - accuracy: 0.0738 - loss: 2.1010 - val_accuracy: 0.0627 - val_loss: 3.4624\n",
            "Epoch 12/30\n",
            "\u001b[1m11/11\u001b[0m \u001b[32m━━━━━━━━━━━━━━━━━━━━\u001b[0m\u001b[37m\u001b[0m \u001b[1m56s\u001b[0m 5s/step - accuracy: 0.0789 - loss: 1.8515 - val_accuracy: 0.0663 - val_loss: 3.3153\n",
            "Epoch 13/30\n",
            "\u001b[1m11/11\u001b[0m \u001b[32m━━━━━━━━━━━━━━━━━━━━\u001b[0m\u001b[37m\u001b[0m \u001b[1m82s\u001b[0m 5s/step - accuracy: 0.0838 - loss: 1.6172 - val_accuracy: 0.0693 - val_loss: 3.2295\n",
            "Epoch 14/30\n",
            "\u001b[1m11/11\u001b[0m \u001b[32m━━━━━━━━━━━━━━━━━━━━\u001b[0m\u001b[37m\u001b[0m \u001b[1m66s\u001b[0m 6s/step - accuracy: 0.0891 - loss: 1.3951 - val_accuracy: 0.0840 - val_loss: 3.1018\n",
            "Epoch 15/30\n",
            "\u001b[1m11/11\u001b[0m \u001b[32m━━━━━━━━━━━━━━━━━━━━\u001b[0m\u001b[37m\u001b[0m \u001b[1m56s\u001b[0m 5s/step - accuracy: 0.0975 - loss: 1.2139 - val_accuracy: 0.0853 - val_loss: 3.0263\n",
            "Epoch 16/30\n",
            "\u001b[1m11/11\u001b[0m \u001b[32m━━━━━━━━━━━━━━━━━━━━\u001b[0m\u001b[37m\u001b[0m \u001b[1m83s\u001b[0m 5s/step - accuracy: 0.1018 - loss: 1.0365 - val_accuracy: 0.0730 - val_loss: 2.9410\n",
            "Epoch 17/30\n",
            "\u001b[1m11/11\u001b[0m \u001b[32m━━━━━━━━━━━━━━━━━━━━\u001b[0m\u001b[37m\u001b[0m \u001b[1m81s\u001b[0m 5s/step - accuracy: 0.1041 - loss: 0.8822 - val_accuracy: 0.0873 - val_loss: 2.8508\n",
            "Epoch 18/30\n",
            "\u001b[1m11/11\u001b[0m \u001b[32m━━━━━━━━━━━━━━━━━━━━\u001b[0m\u001b[37m\u001b[0m \u001b[1m82s\u001b[0m 5s/step - accuracy: 0.1099 - loss: 0.7389 - val_accuracy: 0.0817 - val_loss: 2.7890\n",
            "Epoch 19/30\n",
            "\u001b[1m11/11\u001b[0m \u001b[32m━━━━━━━━━━━━━━━━━━━━\u001b[0m\u001b[37m\u001b[0m \u001b[1m56s\u001b[0m 5s/step - accuracy: 0.1070 - loss: 0.6360 - val_accuracy: 0.0887 - val_loss: 2.7380\n",
            "Epoch 20/30\n",
            "\u001b[1m11/11\u001b[0m \u001b[32m━━━━━━━━━━━━━━━━━━━━\u001b[0m\u001b[37m\u001b[0m \u001b[1m57s\u001b[0m 5s/step - accuracy: 0.1106 - loss: 0.5343 - val_accuracy: 0.0757 - val_loss: 2.6460\n",
            "Epoch 21/30\n",
            "\u001b[1m11/11\u001b[0m \u001b[32m━━━━━━━━━━━━━━━━━━━━\u001b[0m\u001b[37m\u001b[0m \u001b[1m82s\u001b[0m 5s/step - accuracy: 0.1094 - loss: 0.4543 - val_accuracy: 0.0903 - val_loss: 2.6354\n",
            "Epoch 22/30\n",
            "\u001b[1m11/11\u001b[0m \u001b[32m━━━━━━━━━━━━━━━━━━━━\u001b[0m\u001b[37m\u001b[0m \u001b[1m91s\u001b[0m 6s/step - accuracy: 0.1147 - loss: 0.3654 - val_accuracy: 0.0903 - val_loss: 2.5920\n",
            "Epoch 23/30\n",
            "\u001b[1m11/11\u001b[0m \u001b[32m━━━━━━━━━━━━━━━━━━━━\u001b[0m\u001b[37m\u001b[0m \u001b[1m73s\u001b[0m 5s/step - accuracy: 0.1167 - loss: 0.2884 - val_accuracy: 0.0803 - val_loss: 2.5513\n",
            "Epoch 24/30\n",
            "\u001b[1m11/11\u001b[0m \u001b[32m━━━━━━━━━━━━━━━━━━━━\u001b[0m\u001b[37m\u001b[0m \u001b[1m82s\u001b[0m 5s/step - accuracy: 0.1138 - loss: 0.2078 - val_accuracy: 0.0907 - val_loss: 2.5141\n",
            "Epoch 25/30\n",
            "\u001b[1m11/11\u001b[0m \u001b[32m━━━━━━━━━━━━━━━━━━━━\u001b[0m\u001b[37m\u001b[0m \u001b[1m82s\u001b[0m 5s/step - accuracy: 0.1125 - loss: 0.1644 - val_accuracy: 0.0810 - val_loss: 2.5010\n",
            "Epoch 26/30\n",
            "\u001b[1m11/11\u001b[0m \u001b[32m━━━━━━━━━━━━━━━━━━━━\u001b[0m\u001b[37m\u001b[0m \u001b[1m56s\u001b[0m 5s/step - accuracy: 0.1110 - loss: 0.1297 - val_accuracy: 0.0770 - val_loss: 2.5076\n",
            "Epoch 27/30\n",
            "\u001b[1m11/11\u001b[0m \u001b[32m━━━━━━━━━━━━━━━━━━━━\u001b[0m\u001b[37m\u001b[0m \u001b[1m81s\u001b[0m 5s/step - accuracy: 0.1080 - loss: 0.0961 - val_accuracy: 0.0867 - val_loss: 2.5100\n",
            "Epoch 28/30\n",
            "\u001b[1m11/11\u001b[0m \u001b[32m━━━━━━━━━━━━━━━━━━━━\u001b[0m\u001b[37m\u001b[0m \u001b[1m83s\u001b[0m 5s/step - accuracy: 0.1088 - loss: 0.0723 - val_accuracy: 0.0863 - val_loss: 2.4988\n",
            "Epoch 29/30\n",
            "\u001b[1m11/11\u001b[0m \u001b[32m━━━━━━━━━━━━━━━━━━━━\u001b[0m\u001b[37m\u001b[0m \u001b[1m56s\u001b[0m 5s/step - accuracy: 0.1106 - loss: 0.0574 - val_accuracy: 0.0787 - val_loss: 2.5030\n",
            "Epoch 30/30\n",
            "\u001b[1m11/11\u001b[0m \u001b[32m━━━━━━━━━━━━━━━━━━━━\u001b[0m\u001b[37m\u001b[0m \u001b[1m89s\u001b[0m 6s/step - accuracy: 0.1109 - loss: 0.0459 - val_accuracy: 0.0780 - val_loss: 2.4902\n"
          ]
        },
        {
          "output_type": "execute_result",
          "data": {
            "text/plain": [
              "<keras.src.callbacks.history.History at 0x7e275295fa00>"
            ]
          },
          "metadata": {},
          "execution_count": 30
        }
      ]
    },
    {
      "cell_type": "code",
      "source": [
        "fra_vocab = fra_vectorization.get_vocabulary()\n",
        "fra_index_lookup = dict(zip(range(len(fra_vocab)), fra_vocab))\n",
        "max_decoded_sentence_length = 20\n",
        "\n",
        "def decode_sequence(input_sentence):\n",
        "    tokenized_input_sentence = eng_vectorization([input_sentence])\n",
        "    decoded_sentence = \"[start]\"\n",
        "\n",
        "\n",
        "    for i in range(max_decoded_sentence_length):\n",
        "        # Tokenize the sentence generated so far\n",
        "        tokenized_target_sentence = fra_vectorization([decoded_sentence])[:, :-1]\n",
        "\n",
        "        # Predict the next word in the sequence using input sentence and\n",
        "        # tokenized representation of sentence so far\n",
        "        predictions = transformer([tokenized_input_sentence, tokenized_target_sentence])\n",
        "\n",
        "        # Look up the index of the current predicted word\n",
        "        sampled_token_index = np.argmax(predictions[0, i, :])\n",
        "\n",
        "        # Find the corresponding token from the vocabulary\n",
        "        sampled_token = fra_index_lookup[sampled_token_index]\n",
        "\n",
        "        # Add the predicted word to the decoded text so far\n",
        "        decoded_sentence += \" \" + sampled_token\n",
        "\n",
        "        if sampled_token == \"[end]\":\n",
        "            break\n",
        "\n",
        "    return decoded_sentence"
      ],
      "metadata": {
        "id": "XEhs8QzEcSFA"
      },
      "execution_count": 31,
      "outputs": []
    },
    {
      "cell_type": "code",
      "source": [
        "test_eng_texts = [pair[0] for pair in test_pairs]\n",
        "\n",
        "for _ in range(30):\n",
        "    ip = random.choice(test_eng_texts)\n",
        "    print(\"input :\",ip)\n",
        "    print(\"translation :\", decode_sequence(ip))"
      ],
      "metadata": {
        "colab": {
          "base_uri": "https://localhost:8080/"
        },
        "id": "bhqqy5qacSHX",
        "outputId": "97a2b8a9-9957-4c01-8d08-65aa5d35c2f6"
      },
      "execution_count": 32,
      "outputs": [
        {
          "output_type": "stream",
          "name": "stdout",
          "text": [
            "input : I'm tidy.\n",
            "translation : [start] jeus [end]\n",
            "input : Stay down.\n",
            "translation : [start] aller baissé  salut salut salut salut Ça vous salut vous vous vous en salut en vous salut salut vous\n",
            "input : Go inside.\n",
            "translation : [start] jadore suis  vous salut vous suis Ça vous salut vous suis vous vous salut en suis salut salut vous\n",
            "input : Really?\n",
            "translation : [start] jadore oh  vous salut vous salut Ça vous salut vous vous vous vous salut en vous salut salut vous\n",
            "input : I'll call.\n",
            "translation : [start] y appelle  vous salut vous salut Ça vous salut vous vous vous vous salut en vous salut salut vous\n",
            "input : Come on.\n",
            "translation : [start] ici quittez ici ici ici ici ici ici ici ici ici ici ici ici ici ici ici ici ici ici\n",
            "input : Go home.\n",
            "translation : [start] jabandonne suis  vous salut vous suis Ça vous salut vous suis vous vous salut en suis salut salut vous\n",
            "input : Let's go!\n",
            "translation : [start] je suis  suis salut vous suis suis vous suis vous suis vous vous salut suis suis salut suis vous\n",
            "input : Tom walks.\n",
            "translation : [start] allez marche [end]\n",
            "input : Come in.\n",
            "translation : [start] moi ma  vous salut vous salut Ça vous salut vous vous vous vous salut en vous salut salut moi\n",
            "input : Let me go!\n",
            "translation : [start] nous suis  suis salut vous suis suis vous suis vous suis vous vous salut en suis salut suis vous\n",
            "input : I refuse.\n",
            "translation : [start] touchez le  vous salut vous salut Ça vous salut vous vous vous vous salut en vous salut salut vous\n",
            "input : Take mine.\n",
            "translation : [start] restez la  vous salut vous salut Ça vous vous vous vous vous vous salut vous vous salut salut vous\n",
            "input : Let's go!\n",
            "translation : [start] je suis  suis salut vous suis suis vous suis vous suis vous vous salut suis suis salut suis vous\n",
            "input : Take mine.\n",
            "translation : [start] restez la  vous salut vous salut Ça vous vous vous vous vous vous salut vous vous salut salut vous\n",
            "input : They swam.\n",
            "translation : [start] jai  certain vous salut vous salut Ça vous salut vous vous vous vous salut en vous salut salut vous\n",
            "input : Hi.\n",
            "translation : [start] jadore oh  vous salut vous salut Ça vous salut vous vous vous vous salut en vous salut salut vous\n",
            "input : I hope so.\n",
            "translation : [start] jadore oh [end]\n",
            "input : Tom's fat.\n",
            "translation : [start] plus te  vous salut vous salut Ça vous salut vous vous vous vous salut en vous salut salut vous\n",
            "input : How cute!\n",
            "translation : [start] jadore oh  vous salut vous salut Ça vous salut vous vous vous vous salut en vous salut salut vous\n",
            "input : Leave it.\n",
            "translation : [start] je éloigné [end]\n",
            "input : I'm fast.\n",
            "translation : [start] jadore suis  vous salut vous salut Ça vous salut vous suis vous vous salut en vous salut salut vous\n",
            "input : No way!\n",
            "translation : [start] je capté   vous salut vous salut Ça vous salut vous suis vous vous salut en vous salut salut vous\n",
            "input : I'm loyal.\n",
            "translation : [start] jadore suis  vous salut vous salut Ça vous salut vous suis vous vous salut en vous salut salut vous\n",
            "input : I looked.\n",
            "translation : [start] jadore oh  vous salut vous salut Ça vous salut vous vous vous vous salut en vous salut salut vous\n",
            "input : Save Tom.\n",
            "translation : [start] tom tom tom tom tom tom tom tom tom tom tom tom tom tom tom tom tom tom tom tom\n",
            "input : I'm cold.\n",
            "translation : [start] continuez [end]\n",
            "input : How cute!\n",
            "translation : [start] jadore oh  vous salut vous salut Ça vous salut vous vous vous vous salut en vous salut salut vous\n",
            "input : Catch Tom.\n",
            "translation : [start] tom tom tom tom tom tom tom tom tom tom tom tom tom tom tom tom tom tom tom tom\n",
            "input : Oh please!\n",
            "translation : [start] jai  certain vous salut vous salut Ça vous salut vous suis vous vous salut en vous salut salut vous\n"
          ]
        }
      ]
    },
    {
      "cell_type": "code",
      "source": [
        "for test_pair in test_pairs[:30]:\n",
        "    input_sentence = test_pair[0]\n",
        "    reference_sentence = test_pair[1]\n",
        "\n",
        "    translated_sentence = decode_sequence(input_sentence)\n",
        "    translated_sentence = (\n",
        "        translated_sentence.replace(\"[PAD]\", \"\")\n",
        "        .replace(\"[start]\", \"\")\n",
        "        .replace(\"[end]\", \"\")\n",
        "        .strip()\n",
        "    )\n",
        "\n",
        "    reference_sentence = (\n",
        "        reference_sentence.replace(\"[PAD]\", \"\")\n",
        "        .replace(\"[start]\", \"\")\n",
        "        .replace(\"[end]\", \"\")\n",
        "        .strip()\n",
        "    )\n",
        "\n",
        "    print(\"English: \", input_sentence)\n",
        "    print(\"Translation: \", reference_sentence)\n",
        "    print(\"Prediction: \", translated_sentence)"
      ],
      "metadata": {
        "colab": {
          "base_uri": "https://localhost:8080/"
        },
        "id": "iOKEko-TcSJ3",
        "outputId": "8e6b26bf-bbd3-47db-ee46-b53b4c29f24a"
      },
      "execution_count": 33,
      "outputs": [
        {
          "output_type": "stream",
          "name": "stdout",
          "text": [
            "English:  Tom walks.\n",
            "Translation:  Tom marche.\n",
            "Prediction:  allez marche\n",
            "English:  I am fat.\n",
            "Translation:  Je suis gras.\n",
            "Prediction:  à plus\n",
            "English:  Come over.\n",
            "Translation:  Viens chez nous !\n",
            "Prediction:  jen a  vous salut vous salut Ça vous salut vous vous vous vous salut en vous salut salut vous\n",
            "English:  I'll cook.\n",
            "Translation:  Je cuisinerai.\n",
            "Prediction:  jadore moi\n",
            "English:  Use this.\n",
            "Translation:  Utilisez ceci.\n",
            "Prediction:  de ceci de de de de de de ceci de de ceci de de ceci de ceci de de de\n",
            "English:  Take mine.\n",
            "Translation:  Prends le mien.\n",
            "Prediction:  restez la  vous salut vous salut Ça vous vous vous vous vous vous salut vous vous salut salut vous\n",
            "English:  I'm clean.\n",
            "Translation:  J'ai décroché.\n",
            "Prediction:  jeus suis  vous salut vous salut Ça vous salut vous suis vous vous salut en vous salut salut vous\n",
            "English:  Keep this.\n",
            "Translation:  Gardez ceci.\n",
            "Prediction:  de ceci de ceci de ceci de ceci de de ceci de de de ceci de ceci de ceci de\n",
            "English:  Wow!\n",
            "Translation:  Ça alors !\n",
            "Prediction:  jadore oh  vous salut vous salut Ça vous salut vous vous vous vous salut en vous salut salut vous\n",
            "English:  I'm sorry.\n",
            "Translation:  Excuse-moi.\n",
            "Prediction:  je\n",
            "English:  I'm sorry.\n",
            "Translation:  Désolé.\n",
            "Prediction:  je\n",
            "English:  Ask Tom.\n",
            "Translation:  Demande à Tom.\n",
            "Prediction:  tom tom tom tom tom tom tom tom tom tom tom tom tom tom tom tom tom tom tom tom\n",
            "English:  Leave me.\n",
            "Translation:  Laissez-moi !\n",
            "Prediction:  nous partir  allongé nous nous nous nous nous nous nous nous moi nous nous partir  nous moi nous nous nous\n",
            "English:  Tom left.\n",
            "Translation:  Tom est parti.\n",
            "Prediction:  tenez sont  vous salut vous salut Ça vous salut vous vous vous vous salut en vous salut salut vous\n",
            "English:  Tom's sad.\n",
            "Translation:  Tom est triste.\n",
            "Prediction:  confiance triste  vous salut vous salut Ça vous vous vous vous vous vous salut en vous salut salut vous\n",
            "English:  Say hello.\n",
            "Translation:  Dis bonjour.\n",
            "Prediction:  dégage  bonjour  vous salut vous salut Ça vous salut vous vous vous vous salut en vous salut salut vous\n",
            "English:  I'll help.\n",
            "Translation:  J'aiderai.\n",
            "Prediction:  je éloigné\n",
            "English:  Who quit?\n",
            "Translation:  Qui démissionne ?\n",
            "Prediction:  jadore oh\n",
            "English:  Tom left.\n",
            "Translation:  Tom partit.\n",
            "Prediction:  tenez sont  vous salut vous salut Ça vous salut vous vous vous vous salut en vous salut salut vous\n",
            "English:  Come over!\n",
            "Translation:  Venez !\n",
            "Prediction:  jen a  vous salut vous salut Ça vous salut vous vous vous vous salut en vous salut salut vous\n",
            "English:  Go away!\n",
            "Translation:  Pars !\n",
            "Prediction:  les suis  vous salut vous suis Ça vous salut vous suis vous vous salut en suis salut salut vous\n",
            "English:  Tom's mad.\n",
            "Translation:  Tom est en colère.\n",
            "Prediction:  taistoi est  vous salut vous salut Ça vous salut vous vous vous vous salut en vous salut salut vous\n",
            "English:  Stay here.\n",
            "Translation:  Reste ici !\n",
            "Prediction:  en ici  vous salut vous salut Ça vous salut vous vous vous en salut en vous salut salut vous\n",
            "English:  I cried.\n",
            "Translation:  J'ai pleuré.\n",
            "Prediction:  jétais pardon   vous salut vous salut Ça vous salut vous vous vous vous salut en vous salut salut vous\n",
            "English:  We did it.\n",
            "Translation:  Nous avons réussi !\n",
            "Prediction:  fait je\n",
            "English:  Help us.\n",
            "Translation:  Aidez-nous !\n",
            "Prediction:  sois\n",
            "English:  Calm down!\n",
            "Translation:  Calmez-vous !\n",
            "Prediction:  aller baissé  vous salut vous salut Ça vous salut vous suis vous en salut en vous salut salut vous\n",
            "English:  Take care!\n",
            "Translation:  Prends soin de toi !\n",
            "Prediction:  tiens soin\n",
            "English:  Hi.\n",
            "Translation:  Salut !\n",
            "Prediction:  jadore oh  vous salut vous salut Ça vous salut vous vous vous vous salut en vous salut salut vous\n",
            "English:  Stay thin.\n",
            "Translation:  Reste mince !\n",
            "Prediction:  jadore oh  vous salut vous salut Ça vous salut vous vous vous vous salut en vous salut salut vous\n"
          ]
        }
      ]
    }
  ]
}