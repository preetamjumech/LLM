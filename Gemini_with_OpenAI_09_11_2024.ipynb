{
  "nbformat": 4,
  "nbformat_minor": 0,
  "metadata": {
    "colab": {
      "provenance": [],
      "authorship_tag": "ABX9TyNqyDS+y31Miqs80oJIzgag",
      "include_colab_link": true
    },
    "kernelspec": {
      "name": "python3",
      "display_name": "Python 3"
    },
    "language_info": {
      "name": "python"
    }
  },
  "cells": [
    {
      "cell_type": "markdown",
      "metadata": {
        "id": "view-in-github",
        "colab_type": "text"
      },
      "source": [
        "<a href=\"https://colab.research.google.com/github/preetamjumech/LLM/blob/main/Gemini_with_OpenAI_09_11_2024.ipynb\" target=\"_parent\"><img src=\"https://colab.research.google.com/assets/colab-badge.svg\" alt=\"Open In Colab\"/></a>"
      ]
    },
    {
      "cell_type": "code",
      "execution_count": 1,
      "metadata": {
        "colab": {
          "base_uri": "https://localhost:8080/"
        },
        "id": "u2tzxTv2-qJ_",
        "outputId": "1be74144-a2a9-47aa-8cf7-bd563d0e8bc3"
      },
      "outputs": [
        {
          "output_type": "stream",
          "name": "stdout",
          "text": [
            "Requirement already satisfied: openai in /usr/local/lib/python3.10/dist-packages (1.52.2)\n",
            "Requirement already satisfied: anyio<5,>=3.5.0 in /usr/local/lib/python3.10/dist-packages (from openai) (3.7.1)\n",
            "Requirement already satisfied: distro<2,>=1.7.0 in /usr/local/lib/python3.10/dist-packages (from openai) (1.9.0)\n",
            "Requirement already satisfied: httpx<1,>=0.23.0 in /usr/local/lib/python3.10/dist-packages (from openai) (0.27.2)\n",
            "Requirement already satisfied: jiter<1,>=0.4.0 in /usr/local/lib/python3.10/dist-packages (from openai) (0.6.1)\n",
            "Requirement already satisfied: pydantic<3,>=1.9.0 in /usr/local/lib/python3.10/dist-packages (from openai) (2.9.2)\n",
            "Requirement already satisfied: sniffio in /usr/local/lib/python3.10/dist-packages (from openai) (1.3.1)\n",
            "Requirement already satisfied: tqdm>4 in /usr/local/lib/python3.10/dist-packages (from openai) (4.66.6)\n",
            "Requirement already satisfied: typing-extensions<5,>=4.11 in /usr/local/lib/python3.10/dist-packages (from openai) (4.12.2)\n",
            "Requirement already satisfied: idna>=2.8 in /usr/local/lib/python3.10/dist-packages (from anyio<5,>=3.5.0->openai) (3.10)\n",
            "Requirement already satisfied: exceptiongroup in /usr/local/lib/python3.10/dist-packages (from anyio<5,>=3.5.0->openai) (1.2.2)\n",
            "Requirement already satisfied: certifi in /usr/local/lib/python3.10/dist-packages (from httpx<1,>=0.23.0->openai) (2024.8.30)\n",
            "Requirement already satisfied: httpcore==1.* in /usr/local/lib/python3.10/dist-packages (from httpx<1,>=0.23.0->openai) (1.0.6)\n",
            "Requirement already satisfied: h11<0.15,>=0.13 in /usr/local/lib/python3.10/dist-packages (from httpcore==1.*->httpx<1,>=0.23.0->openai) (0.14.0)\n",
            "Requirement already satisfied: annotated-types>=0.6.0 in /usr/local/lib/python3.10/dist-packages (from pydantic<3,>=1.9.0->openai) (0.7.0)\n",
            "Requirement already satisfied: pydantic-core==2.23.4 in /usr/local/lib/python3.10/dist-packages (from pydantic<3,>=1.9.0->openai) (2.23.4)\n"
          ]
        }
      ],
      "source": [
        "!pip install openai"
      ]
    },
    {
      "cell_type": "code",
      "source": [
        "from google.colab import userdata\n",
        "GEMINI_API_KEY = userdata.get('GEMINI_API_KEY')"
      ],
      "metadata": {
        "id": "XiaLja20AR-i"
      },
      "execution_count": 2,
      "outputs": []
    },
    {
      "cell_type": "code",
      "source": [
        "import json\n",
        "from openai import OpenAI"
      ],
      "metadata": {
        "id": "4YpDpPPwAiRP"
      },
      "execution_count": 4,
      "outputs": []
    },
    {
      "cell_type": "code",
      "source": [
        "client = OpenAI(\n",
        "    api_key = GEMINI_API_KEY,\n",
        "    base_url = \"https://generativelanguage.googleapis.com/v1beta/\"\n",
        ")"
      ],
      "metadata": {
        "id": "Q7dUSOywBMrJ"
      },
      "execution_count": 5,
      "outputs": []
    },
    {
      "cell_type": "code",
      "source": [
        "response = client.chat.completions.create(\n",
        "    model=\"gemini-1.5-flash\",\n",
        "    messages=[\n",
        "        {\"role\": \"system\", \"content\": \"You are a helpful coding assistant.\"},\n",
        "        {\"role\": \"user\", \"content\": \"write a fastapi code for a sentiment analysis\"}\n",
        "    ]\n",
        "\n",
        ")"
      ],
      "metadata": {
        "id": "cLQUTCQWBmd3"
      },
      "execution_count": 6,
      "outputs": []
    },
    {
      "cell_type": "code",
      "source": [
        "print(response)"
      ],
      "metadata": {
        "colab": {
          "base_uri": "https://localhost:8080/"
        },
        "id": "c7yeBf5YBmg6",
        "outputId": "3387a6d5-3d19-436b-ceaf-bc6a369ecefc"
      },
      "execution_count": 7,
      "outputs": [
        {
          "output_type": "stream",
          "name": "stdout",
          "text": [
            "ChatCompletion(id=None, choices=[Choice(finish_reason='stop', index=0, logprobs=None, message=ChatCompletionMessage(content='```python\\nfrom fastapi import FastAPI, Form\\nfrom pydantic import BaseModel\\nfrom transformers import pipeline\\n\\napp = FastAPI()\\n\\n# Load the sentiment analysis pipeline\\nclassifier = pipeline(\"sentiment-analysis\", model=\"distilbert-base-uncased-finetuned-sst-3-literal-labels\")\\n\\nclass SentimentRequest(BaseModel):\\n    text: str\\n\\n@app.post(\"/sentiment\")\\nasync def analyze_sentiment(request: SentimentRequest):\\n    \"\"\"\\n    Analyzes the sentiment of the given text.\\n\\n    Args:\\n        request: A SentimentRequest object containing the text to analyze.\\n\\n    Returns:\\n        A dictionary containing the sentiment label and score.\\n    \"\"\"\\n    result = classifier(request.text)[0]\\n    return {\"label\": result[\\'label\\'], \"score\": result[\\'score\\']}\\n```\\n\\n**Explanation:**\\n\\n1. **Import necessary libraries:**\\n   - `fastapi`: for creating the API\\n   - `pydantic`: for data validation\\n   - `transformers`: for loading the sentiment analysis pipeline\\n\\n2. **Create a FastAPI app:**\\n   - `app = FastAPI()` initializes the FastAPI application.\\n\\n3. **Load the sentiment analysis pipeline:**\\n   - `classifier = pipeline(\"sentiment-analysis\", model=\"distilbert-base-uncased-finetuned-sst-3-literal-labels\")` loads the pre-trained DistilBERT model for sentiment analysis.\\n\\n4. **Define a Pydantic model for input:**\\n   - `class SentimentRequest(BaseModel):` defines a model to validate the input data.\\n   - `text: str`: specifies that the input should contain a string representing the text.\\n\\n5. **Create an API endpoint:**\\n   - `@app.post(\"/sentiment\")`: defines an endpoint for POST requests at the path `/sentiment`.\\n   - `async def analyze_sentiment(request: SentimentRequest):`: defines an asynchronous function to handle the requests.\\n   - The function takes a `SentimentRequest` object as input.\\n\\n6. **Analyze the sentiment:**\\n   - `result = classifier(request.text)[0]`: performs sentiment analysis on the input text using the loaded pipeline.\\n   - The `[0]` extracts the first element from the returned list, which is the sentiment analysis result.\\n\\n7. **Return the result:**\\n   - `return {\"label\": result[\\'label\\'], \"score\": result[\\'score\\']}`: returns a dictionary containing the sentiment label (e.g., \"POSITIVE\", \"NEGATIVE\", \"NEUTRAL\") and the corresponding score.\\n\\n**To run the code:**\\n\\n1. Install the required libraries:\\n   ```bash\\n   pip install fastapi uvicorn pydantic transformers\\n   ```\\n2. Save the code as `sentiment_app.py`.\\n3. Run the app:\\n   ```bash\\n   uvicorn sentiment_app:app --reload\\n   ```\\n4. Access the API at `http://127.0.0.1:8000/docs` to see the documentation and try out the endpoint.\\n\\n**Example usage:**\\n\\n```bash\\ncurl -X POST -H \"Content-Type: application/json\" -d \\'{\"text\": \"This is an amazing movie!\"}\\' http://127.0.0.1:8000/sentiment\\n```\\n\\n**Output:**\\n\\n```json\\n{\\n  \"label\": \"POSITIVE\",\\n  \"score\": 0.9998\\n}\\n```\\n', refusal=None, role='model', audio=None, function_call=None, tool_calls=[]))], created=1731175048, model='gemini-1.5-flash', object='chat.completion', service_tier=None, system_fingerprint=None, usage=None)\n"
          ]
        }
      ]
    },
    {
      "cell_type": "code",
      "source": [
        "print(json.dumps(response.choices[0].message.__dict__))"
      ],
      "metadata": {
        "colab": {
          "base_uri": "https://localhost:8080/"
        },
        "id": "JBIMgBUDBmji",
        "outputId": "84038a1b-a774-4cc6-b8ad-2b9bc7cdec73"
      },
      "execution_count": 9,
      "outputs": [
        {
          "output_type": "stream",
          "name": "stdout",
          "text": [
            "{\"content\": \"```python\\nfrom fastapi import FastAPI, Form\\nfrom pydantic import BaseModel\\nfrom transformers import pipeline\\n\\napp = FastAPI()\\n\\n# Load the sentiment analysis pipeline\\nclassifier = pipeline(\\\"sentiment-analysis\\\", model=\\\"distilbert-base-uncased-finetuned-sst-3-literal-labels\\\")\\n\\nclass SentimentRequest(BaseModel):\\n    text: str\\n\\n@app.post(\\\"/sentiment\\\")\\nasync def analyze_sentiment(request: SentimentRequest):\\n    \\\"\\\"\\\"\\n    Analyzes the sentiment of the given text.\\n\\n    Args:\\n        request: A SentimentRequest object containing the text to analyze.\\n\\n    Returns:\\n        A dictionary containing the sentiment label and score.\\n    \\\"\\\"\\\"\\n    result = classifier(request.text)[0]\\n    return {\\\"label\\\": result['label'], \\\"score\\\": result['score']}\\n```\\n\\n**Explanation:**\\n\\n1. **Import necessary libraries:**\\n   - `fastapi`: for creating the API\\n   - `pydantic`: for data validation\\n   - `transformers`: for loading the sentiment analysis pipeline\\n\\n2. **Create a FastAPI app:**\\n   - `app = FastAPI()` initializes the FastAPI application.\\n\\n3. **Load the sentiment analysis pipeline:**\\n   - `classifier = pipeline(\\\"sentiment-analysis\\\", model=\\\"distilbert-base-uncased-finetuned-sst-3-literal-labels\\\")` loads the pre-trained DistilBERT model for sentiment analysis.\\n\\n4. **Define a Pydantic model for input:**\\n   - `class SentimentRequest(BaseModel):` defines a model to validate the input data.\\n   - `text: str`: specifies that the input should contain a string representing the text.\\n\\n5. **Create an API endpoint:**\\n   - `@app.post(\\\"/sentiment\\\")`: defines an endpoint for POST requests at the path `/sentiment`.\\n   - `async def analyze_sentiment(request: SentimentRequest):`: defines an asynchronous function to handle the requests.\\n   - The function takes a `SentimentRequest` object as input.\\n\\n6. **Analyze the sentiment:**\\n   - `result = classifier(request.text)[0]`: performs sentiment analysis on the input text using the loaded pipeline.\\n   - The `[0]` extracts the first element from the returned list, which is the sentiment analysis result.\\n\\n7. **Return the result:**\\n   - `return {\\\"label\\\": result['label'], \\\"score\\\": result['score']}`: returns a dictionary containing the sentiment label (e.g., \\\"POSITIVE\\\", \\\"NEGATIVE\\\", \\\"NEUTRAL\\\") and the corresponding score.\\n\\n**To run the code:**\\n\\n1. Install the required libraries:\\n   ```bash\\n   pip install fastapi uvicorn pydantic transformers\\n   ```\\n2. Save the code as `sentiment_app.py`.\\n3. Run the app:\\n   ```bash\\n   uvicorn sentiment_app:app --reload\\n   ```\\n4. Access the API at `http://127.0.0.1:8000/docs` to see the documentation and try out the endpoint.\\n\\n**Example usage:**\\n\\n```bash\\ncurl -X POST -H \\\"Content-Type: application/json\\\" -d '{\\\"text\\\": \\\"This is an amazing movie!\\\"}' http://127.0.0.1:8000/sentiment\\n```\\n\\n**Output:**\\n\\n```json\\n{\\n  \\\"label\\\": \\\"POSITIVE\\\",\\n  \\\"score\\\": 0.9998\\n}\\n```\\n\", \"refusal\": null, \"role\": \"model\", \"audio\": null, \"function_call\": null, \"tool_calls\": []}\n"
          ]
        }
      ]
    },
    {
      "cell_type": "code",
      "source": [
        "print(json.dumps(response.choices[0].message.__dict__, indent= 2, ensure_ascii= False))"
      ],
      "metadata": {
        "colab": {
          "base_uri": "https://localhost:8080/"
        },
        "id": "OIFrHo4UE7zu",
        "outputId": "8bceffd5-40ec-4c44-d878-ca456fa11ddb"
      },
      "execution_count": 10,
      "outputs": [
        {
          "output_type": "stream",
          "name": "stdout",
          "text": [
            "{\n",
            "  \"content\": \"```python\\nfrom fastapi import FastAPI, Form\\nfrom pydantic import BaseModel\\nfrom transformers import pipeline\\n\\napp = FastAPI()\\n\\n# Load the sentiment analysis pipeline\\nclassifier = pipeline(\\\"sentiment-analysis\\\", model=\\\"distilbert-base-uncased-finetuned-sst-3-literal-labels\\\")\\n\\nclass SentimentRequest(BaseModel):\\n    text: str\\n\\n@app.post(\\\"/sentiment\\\")\\nasync def analyze_sentiment(request: SentimentRequest):\\n    \\\"\\\"\\\"\\n    Analyzes the sentiment of the given text.\\n\\n    Args:\\n        request: A SentimentRequest object containing the text to analyze.\\n\\n    Returns:\\n        A dictionary containing the sentiment label and score.\\n    \\\"\\\"\\\"\\n    result = classifier(request.text)[0]\\n    return {\\\"label\\\": result['label'], \\\"score\\\": result['score']}\\n```\\n\\n**Explanation:**\\n\\n1. **Import necessary libraries:**\\n   - `fastapi`: for creating the API\\n   - `pydantic`: for data validation\\n   - `transformers`: for loading the sentiment analysis pipeline\\n\\n2. **Create a FastAPI app:**\\n   - `app = FastAPI()` initializes the FastAPI application.\\n\\n3. **Load the sentiment analysis pipeline:**\\n   - `classifier = pipeline(\\\"sentiment-analysis\\\", model=\\\"distilbert-base-uncased-finetuned-sst-3-literal-labels\\\")` loads the pre-trained DistilBERT model for sentiment analysis.\\n\\n4. **Define a Pydantic model for input:**\\n   - `class SentimentRequest(BaseModel):` defines a model to validate the input data.\\n   - `text: str`: specifies that the input should contain a string representing the text.\\n\\n5. **Create an API endpoint:**\\n   - `@app.post(\\\"/sentiment\\\")`: defines an endpoint for POST requests at the path `/sentiment`.\\n   - `async def analyze_sentiment(request: SentimentRequest):`: defines an asynchronous function to handle the requests.\\n   - The function takes a `SentimentRequest` object as input.\\n\\n6. **Analyze the sentiment:**\\n   - `result = classifier(request.text)[0]`: performs sentiment analysis on the input text using the loaded pipeline.\\n   - The `[0]` extracts the first element from the returned list, which is the sentiment analysis result.\\n\\n7. **Return the result:**\\n   - `return {\\\"label\\\": result['label'], \\\"score\\\": result['score']}`: returns a dictionary containing the sentiment label (e.g., \\\"POSITIVE\\\", \\\"NEGATIVE\\\", \\\"NEUTRAL\\\") and the corresponding score.\\n\\n**To run the code:**\\n\\n1. Install the required libraries:\\n   ```bash\\n   pip install fastapi uvicorn pydantic transformers\\n   ```\\n2. Save the code as `sentiment_app.py`.\\n3. Run the app:\\n   ```bash\\n   uvicorn sentiment_app:app --reload\\n   ```\\n4. Access the API at `http://127.0.0.1:8000/docs` to see the documentation and try out the endpoint.\\n\\n**Example usage:**\\n\\n```bash\\ncurl -X POST -H \\\"Content-Type: application/json\\\" -d '{\\\"text\\\": \\\"This is an amazing movie!\\\"}' http://127.0.0.1:8000/sentiment\\n```\\n\\n**Output:**\\n\\n```json\\n{\\n  \\\"label\\\": \\\"POSITIVE\\\",\\n  \\\"score\\\": 0.9998\\n}\\n```\\n\",\n",
            "  \"refusal\": null,\n",
            "  \"role\": \"model\",\n",
            "  \"audio\": null,\n",
            "  \"function_call\": null,\n",
            "  \"tool_calls\": []\n",
            "}\n"
          ]
        }
      ]
    },
    {
      "cell_type": "code",
      "source": [],
      "metadata": {
        "id": "gakXkTlCFGhx"
      },
      "execution_count": null,
      "outputs": []
    }
  ]
}