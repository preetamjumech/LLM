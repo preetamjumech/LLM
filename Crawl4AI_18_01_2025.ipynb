{
  "nbformat": 4,
  "nbformat_minor": 0,
  "metadata": {
    "colab": {
      "provenance": [],
      "authorship_tag": "ABX9TyPRd2yPq6NXYsjnUH4Zde4G",
      "include_colab_link": true
    },
    "kernelspec": {
      "name": "python3",
      "display_name": "Python 3"
    },
    "language_info": {
      "name": "python"
    }
  },
  "cells": [
    {
      "cell_type": "markdown",
      "metadata": {
        "id": "view-in-github",
        "colab_type": "text"
      },
      "source": [
        "<a href=\"https://colab.research.google.com/github/preetamjumech/LLM/blob/main/Crawl4AI_18_01_2025.ipynb\" target=\"_parent\"><img src=\"https://colab.research.google.com/assets/colab-badge.svg\" alt=\"Open In Colab\"/></a>"
      ]
    },
    {
      "cell_type": "code",
      "execution_count": 8,
      "metadata": {
        "id": "RyqrR1b7YwAa"
      },
      "outputs": [],
      "source": [
        "!pip install -U crawl4ai -q"
      ]
    },
    {
      "cell_type": "code",
      "source": [
        "import nest_asyncio\n",
        "import asyncio\n",
        "from crawl4ai import AsyncWebCrawler\n",
        "\n",
        "# Patch the event loop for nested use in Colab\n",
        "nest_asyncio.apply()\n",
        "\n",
        "async def main():\n",
        "    async with AsyncWebCrawler() as crawler:\n",
        "        # Scrape the website\n",
        "        result = await crawler.arun(\n",
        "            url=\"https://www.nbcnews.com/business\",\n",
        "        )\n",
        "        # Output the data in Markdown format\n",
        "        print(result.markdown[:1000])  # Print the first 1000 characters for preview\n",
        "\n",
        "# Run the async function\n",
        "await main()\n"
      ],
      "metadata": {
        "colab": {
          "base_uri": "https://localhost:8080/"
        },
        "id": "wt1ii6FRkqjq",
        "outputId": "b1c82af8-aa97-4f4f-f314-c95997f16708"
      },
      "execution_count": 29,
      "outputs": [
        {
          "output_type": "stream",
          "name": "stdout",
          "text": [
            "[INIT].... → Crawl4AI 0.4.247\n",
            "[COMPLETE] ● Database backup created at: /root/.crawl4ai/crawl4ai.db.backup_20250118_182825\n",
            "[INIT].... → Starting database migration...\n",
            "[COMPLETE] ● Migration completed. 0 records processed.\n",
            "[FETCH]... ↓ https://www.nbcnews.com/business... | Status: True | Time: 6.68s\n",
            "[SCRAPE].. ◆ Processed https://www.nbcnews.com/business... | Time: 457ms\n",
            "[COMPLETE] ● https://www.nbcnews.com/business... | Status: True | Total: 8.33s\n",
            "IE 11 is not supported. For an optimal experience visit our site on another browser.\n",
            "Skip to Content\n",
            "[NBC News Logo](https://www.nbcnews.com/<https:/www.nbcnews.com>)\n",
            "Sponsored By\n",
            "  * [Israel-Hamas ceasefire](https://www.nbcnews.com/<https:/www.nbcnews.com/news/world/live-blog/israel-hamas-ceasefire-live-updates-rcna188245>)\n",
            "  * [Trump transition](https://www.nbcnews.com/<https:/www.nbcnews.com/politics/donald-trump/live-blog/inauguration-2025-trump-transition-live-updates-rcna187206>)\n",
            "  * [NFL playoffs](https://www.nbcnews.com/<https:/www.nbcnews.com/sports/nfl/live-blog/nfl-playoffs-chiefs-texans-lions-commanders-watch-live-updates-rcna187704>)\n",
            "  * [U.S. News](https://www.nbcnews.com/<https:/www.nbcnews.com/us-news>)\n",
            "  * [Politics](https://www.nbcnews.com/<https:/www.nbcnews.com/politics>)\n",
            "  * [World](https://www.nbcnews.com/<https:/www.nbcnews.com/world>)\n",
            "  * Local\n",
            "  * [New York](https://www.nbcnews.com/<https:/www.nbcnews.com/new-york>)\n",
            "  * [Los Angeles](https://www.nbcnews.com/<ht\n"
          ]
        }
      ]
    },
    {
      "cell_type": "code",
      "source": [
        "!pip install playwright\n",
        "!playwright install\n",
        "!apt-get update && apt-get install -y libnss3 libatk1.0-0 libx11-xcb1 libxcomposite1 libxdamage1 libxrandr2 libgbm1 libasound2 libpangocairo-1.0-0 libgtk-3-0 libx11-dev"
      ],
      "metadata": {
        "colab": {
          "base_uri": "https://localhost:8080/"
        },
        "id": "1Xt-IEL6kqmm",
        "outputId": "848fc9fe-535f-4eee-8e8d-54ec9f52e6a8"
      },
      "execution_count": 24,
      "outputs": [
        {
          "output_type": "stream",
          "name": "stdout",
          "text": [
            "Requirement already satisfied: playwright in /usr/local/lib/python3.11/dist-packages (1.49.1)\n",
            "Requirement already satisfied: greenlet==3.1.1 in /usr/local/lib/python3.11/dist-packages (from playwright) (3.1.1)\n",
            "Requirement already satisfied: pyee==12.0.0 in /usr/local/lib/python3.11/dist-packages (from playwright) (12.0.0)\n",
            "Requirement already satisfied: typing-extensions in /usr/local/lib/python3.11/dist-packages (from pyee==12.0.0->playwright) (4.12.2)\n",
            "Downloading Chromium 131.0.6778.33 (playwright build v1148) from https://playwright.azureedge.net/builds/chromium/1148/chromium-linux.zip\n",
            "161.3 MiB [] 0% 0.0s161.3 MiB [] 0% 29.4s161.3 MiB [] 0% 18.9s161.3 MiB [] 0% 18.7s161.3 MiB [] 0% 22.3s161.3 MiB [] 0% 22.4s161.3 MiB [] 0% 16.5s161.3 MiB [] 0% 13.2s161.3 MiB [] 1% 12.0s161.3 MiB [] 1% 9.4s161.3 MiB [] 2% 8.2s161.3 MiB [] 2% 7.2s161.3 MiB [] 2% 7.1s161.3 MiB [] 3% 6.5s161.3 MiB [] 3% 6.2s161.3 MiB [] 4% 5.8s161.3 MiB [] 4% 5.5s161.3 MiB [] 5% 5.3s161.3 MiB [] 5% 5.5s161.3 MiB [] 5% 5.2s161.3 MiB [] 6% 5.1s161.3 MiB [] 6% 4.9s161.3 MiB [] 6% 5.0s161.3 MiB [] 7% 5.2s161.3 MiB [] 7% 5.3s161.3 MiB [] 7% 5.4s161.3 MiB [] 8% 5.3s161.3 MiB [] 9% 5.0s161.3 MiB [] 9% 4.9s161.3 MiB [] 10% 4.8s161.3 MiB [] 11% 4.8s161.3 MiB [] 11% 4.7s161.3 MiB [] 12% 4.6s161.3 MiB [] 12% 4.5s161.3 MiB [] 13% 4.3s161.3 MiB [] 13% 4.2s161.3 MiB [] 14% 4.2s161.3 MiB [] 14% 4.4s161.3 MiB [] 15% 4.3s161.3 MiB [] 15% 4.2s161.3 MiB [] 16% 4.2s161.3 MiB [] 17% 4.1s161.3 MiB [] 17% 4.0s161.3 MiB [] 18% 4.0s161.3 MiB [] 18% 3.9s161.3 MiB [] 19% 3.8s161.3 MiB [] 20% 3.8s161.3 MiB [] 20% 3.7s161.3 MiB [] 21% 3.6s161.3 MiB [] 22% 3.5s161.3 MiB [] 23% 3.4s161.3 MiB [] 23% 3.5s161.3 MiB [] 23% 3.4s161.3 MiB [] 24% 3.4s161.3 MiB [] 24% 3.5s161.3 MiB [] 25% 3.5s161.3 MiB [] 25% 3.4s161.3 MiB [] 26% 3.4s161.3 MiB [] 26% 3.3s161.3 MiB [] 27% 3.2s161.3 MiB [] 28% 3.2s161.3 MiB [] 28% 3.1s161.3 MiB [] 29% 3.1s161.3 MiB [] 29% 3.2s161.3 MiB [] 30% 3.2s161.3 MiB [] 30% 3.1s161.3 MiB [] 31% 3.0s161.3 MiB [] 32% 2.9s161.3 MiB [] 33% 2.9s161.3 MiB [] 33% 2.8s161.3 MiB [] 34% 2.8s161.3 MiB [] 35% 2.8s161.3 MiB [] 35% 2.7s161.3 MiB [] 36% 2.7s161.3 MiB [] 37% 2.6s161.3 MiB [] 38% 2.6s161.3 MiB [] 38% 2.5s161.3 MiB [] 39% 2.5s161.3 MiB [] 40% 2.4s161.3 MiB [] 41% 2.4s161.3 MiB [] 41% 2.3s161.3 MiB [] 42% 2.3s161.3 MiB [] 43% 2.3s161.3 MiB [] 43% 2.2s161.3 MiB [] 44% 2.2s161.3 MiB [] 45% 2.1s161.3 MiB [] 46% 2.1s161.3 MiB [] 47% 2.1s161.3 MiB [] 48% 2.0s161.3 MiB [] 49% 1.9s161.3 MiB [] 50% 1.9s161.3 MiB [] 51% 1.8s161.3 MiB [] 52% 1.8s161.3 MiB [] 53% 1.7s161.3 MiB [] 54% 1.7s161.3 MiB [] 55% 1.6s161.3 MiB [] 56% 1.6s161.3 MiB [] 57% 1.5s161.3 MiB [] 58% 1.5s161.3 MiB [] 59% 1.5s161.3 MiB [] 59% 1.4s161.3 MiB [] 60% 1.4s161.3 MiB [] 61% 1.4s161.3 MiB [] 62% 1.3s161.3 MiB [] 63% 1.3s161.3 MiB [] 64% 1.2s161.3 MiB [] 65% 1.2s161.3 MiB [] 66% 1.2s161.3 MiB [] 67% 1.1s161.3 MiB [] 68% 1.1s161.3 MiB [] 69% 1.0s161.3 MiB [] 70% 1.0s161.3 MiB [] 71% 1.0s161.3 MiB [] 72% 1.0s161.3 MiB [] 72% 0.9s161.3 MiB [] 73% 0.9s161.3 MiB [] 74% 0.9s161.3 MiB [] 74% 0.8s161.3 MiB [] 75% 0.8s161.3 MiB [] 76% 0.8s161.3 MiB [] 77% 0.8s161.3 MiB [] 78% 0.7s161.3 MiB [] 79% 0.7s161.3 MiB [] 80% 0.7s161.3 MiB [] 81% 0.6s161.3 MiB [] 82% 0.6s161.3 MiB [] 83% 0.6s161.3 MiB [] 84% 0.6s161.3 MiB [] 84% 0.5s161.3 MiB [] 85% 0.5s161.3 MiB [] 86% 0.5s161.3 MiB [] 87% 0.5s161.3 MiB [] 87% 0.4s161.3 MiB [] 88% 0.4s161.3 MiB [] 89% 0.4s161.3 MiB [] 90% 0.3s161.3 MiB [] 91% 0.3s161.3 MiB [] 92% 0.3s161.3 MiB [] 92% 0.2s161.3 MiB [] 93% 0.2s161.3 MiB [] 94% 0.2s161.3 MiB [] 95% 0.2s161.3 MiB [] 95% 0.1s161.3 MiB [] 96% 0.1s161.3 MiB [] 97% 0.1s161.3 MiB [] 98% 0.1s161.3 MiB [] 98% 0.0s161.3 MiB [] 99% 0.0s161.3 MiB [] 100% 0.0s\n",
            "Chromium 131.0.6778.33 (playwright build v1148) downloaded to /root/.cache/ms-playwright/chromium-1148\n",
            "Downloading Chromium Headless Shell 131.0.6778.33 (playwright build v1148) from https://playwright.azureedge.net/builds/chromium/1148/chromium-headless-shell-linux.zip\n",
            "100.9 MiB [] 0% 0.0s100.9 MiB [] 0% 18.4s100.9 MiB [] 0% 15.5s100.9 MiB [] 0% 8.1s100.9 MiB [] 1% 4.2s100.9 MiB [] 2% 3.8s100.9 MiB [] 2% 4.2s100.9 MiB [] 2% 4.3s100.9 MiB [] 2% 4.5s100.9 MiB [] 3% 4.8s100.9 MiB [] 3% 4.9s100.9 MiB [] 3% 5.3s100.9 MiB [] 3% 5.5s100.9 MiB [] 4% 5.1s100.9 MiB [] 4% 5.2s100.9 MiB [] 5% 4.5s100.9 MiB [] 6% 4.2s100.9 MiB [] 7% 4.0s100.9 MiB [] 7% 4.1s100.9 MiB [] 7% 4.3s100.9 MiB [] 7% 4.7s100.9 MiB [] 7% 4.9s100.9 MiB [] 7% 5.0s100.9 MiB [] 7% 5.4s100.9 MiB [] 7% 5.7s100.9 MiB [] 8% 5.7s100.9 MiB [] 8% 5.8s100.9 MiB [] 8% 5.9s100.9 MiB [] 8% 6.0s100.9 MiB [] 8% 6.1s100.9 MiB [] 9% 6.2s100.9 MiB [] 9% 6.3s100.9 MiB [] 10% 6.2s100.9 MiB [] 10% 6.1s100.9 MiB [] 10% 6.4s100.9 MiB [] 10% 6.2s100.9 MiB [] 10% 6.3s100.9 MiB [] 11% 6.3s100.9 MiB [] 11% 6.4s100.9 MiB [] 11% 6.5s100.9 MiB [] 12% 6.5s100.9 MiB [] 12% 6.6s100.9 MiB [] 12% 6.7s100.9 MiB [] 12% 6.8s100.9 MiB [] 12% 6.9s100.9 MiB [] 12% 7.0s100.9 MiB [] 12% 7.1s100.9 MiB [] 12% 7.2s100.9 MiB [] 12% 7.3s100.9 MiB [] 13% 7.3s100.9 MiB [] 13% 7.4s100.9 MiB [] 13% 7.5s100.9 MiB [] 13% 7.6s100.9 MiB [] 13% 7.7s100.9 MiB [] 14% 7.7s100.9 MiB [] 14% 7.8s100.9 MiB [] 14% 8.0s100.9 MiB [] 14% 8.1s100.9 MiB [] 14% 8.2s100.9 MiB [] 14% 8.3s100.9 MiB [] 14% 8.4s100.9 MiB [] 15% 8.5s100.9 MiB [] 15% 8.6s100.9 MiB [] 15% 8.7s100.9 MiB [] 16% 8.5s100.9 MiB [] 16% 8.6s100.9 MiB [] 16% 8.7s100.9 MiB [] 17% 8.8s100.9 MiB [] 17% 8.9s100.9 MiB [] 17% 8.8s100.9 MiB [] 17% 8.7s100.9 MiB [] 18% 8.6s100.9 MiB [] 18% 8.5s100.9 MiB [] 19% 8.1s100.9 MiB [] 19% 8.0s100.9 MiB [] 20% 7.8s100.9 MiB [] 20% 7.7s100.9 MiB [] 21% 7.5s100.9 MiB [] 22% 7.3s100.9 MiB [] 22% 7.1s100.9 MiB [] 23% 7.0s100.9 MiB [] 23% 7.1s100.9 MiB [] 23% 7.0s100.9 MiB [] 24% 6.8s100.9 MiB [] 24% 6.7s100.9 MiB [] 25% 6.7s100.9 MiB [] 25% 6.6s100.9 MiB [] 25% 6.5s100.9 MiB [] 26% 6.5s100.9 MiB [] 27% 6.4s100.9 MiB [] 27% 6.3s100.9 MiB [] 27% 6.2s100.9 MiB [] 28% 6.1s100.9 MiB [] 28% 6.0s100.9 MiB [] 29% 6.0s100.9 MiB [] 29% 6.2s100.9 MiB [] 30% 5.9s100.9 MiB [] 31% 5.8s100.9 MiB [] 31% 5.7s100.9 MiB [] 32% 5.7s100.9 MiB [] 32% 5.5s100.9 MiB [] 33% 5.4s100.9 MiB [] 34% 5.3s100.9 MiB [] 35% 5.2s100.9 MiB [] 35% 5.1s100.9 MiB [] 36% 5.0s100.9 MiB [] 37% 4.9s100.9 MiB [] 37% 4.8s100.9 MiB [] 38% 4.8s100.9 MiB [] 38% 4.7s100.9 MiB [] 40% 4.5s100.9 MiB [] 40% 4.4s100.9 MiB [] 41% 4.2s100.9 MiB [] 42% 4.1s100.9 MiB [] 43% 4.1s100.9 MiB [] 43% 4.0s100.9 MiB [] 44% 4.0s100.9 MiB [] 44% 3.9s100.9 MiB [] 45% 3.9s100.9 MiB [] 46% 3.8s100.9 MiB [] 47% 3.6s100.9 MiB [] 48% 3.5s100.9 MiB [] 49% 3.4s100.9 MiB [] 50% 3.3s100.9 MiB [] 51% 3.2s100.9 MiB [] 52% 3.1s100.9 MiB [] 53% 3.0s100.9 MiB [] 54% 2.9s100.9 MiB [] 55% 2.9s100.9 MiB [] 55% 2.8s100.9 MiB [] 56% 2.8s100.9 MiB [] 56% 2.7s100.9 MiB [] 57% 2.7s100.9 MiB [] 58% 2.6s100.9 MiB [] 59% 2.6s100.9 MiB [] 59% 2.5s100.9 MiB [] 60% 2.5s100.9 MiB [] 60% 2.4s100.9 MiB [] 61% 2.4s100.9 MiB [] 62% 2.3s100.9 MiB [] 63% 2.3s100.9 MiB [] 63% 2.2s100.9 MiB [] 64% 2.2s100.9 MiB [] 64% 2.1s100.9 MiB [] 65% 2.1s100.9 MiB [] 66% 2.0s100.9 MiB [] 67% 1.9s100.9 MiB [] 68% 1.9s100.9 MiB [] 69% 1.8s100.9 MiB [] 70% 1.7s100.9 MiB [] 71% 1.6s100.9 MiB [] 72% 1.6s100.9 MiB [] 73% 1.5s100.9 MiB [] 74% 1.5s100.9 MiB [] 74% 1.4s100.9 MiB [] 75% 1.4s100.9 MiB [] 76% 1.3s100.9 MiB [] 77% 1.3s100.9 MiB [] 78% 1.2s100.9 MiB [] 79% 1.1s100.9 MiB [] 80% 1.1s100.9 MiB [] 81% 1.0s100.9 MiB [] 82% 1.0s100.9 MiB [] 82% 0.9s100.9 MiB [] 83% 0.9s100.9 MiB [] 84% 0.8s100.9 MiB [] 85% 0.8s100.9 MiB [] 85% 0.7s100.9 MiB [] 86% 0.7s100.9 MiB [] 87% 0.7s100.9 MiB [] 88% 0.6s100.9 MiB [] 89% 0.6s100.9 MiB [] 89% 0.5s100.9 MiB [] 90% 0.5s100.9 MiB [] 91% 0.5s100.9 MiB [] 91% 0.4s100.9 MiB [] 92% 0.4s100.9 MiB [] 93% 0.3s100.9 MiB [] 94% 0.3s100.9 MiB [] 95% 0.3s100.9 MiB [] 95% 0.2s100.9 MiB [] 96% 0.2s100.9 MiB [] 97% 0.1s100.9 MiB [] 98% 0.1s100.9 MiB [] 99% 0.0s100.9 MiB [] 100% 0.0s\n",
            "Chromium Headless Shell 131.0.6778.33 (playwright build v1148) downloaded to /root/.cache/ms-playwright/chromium_headless_shell-1148\n",
            "Downloading Firefox 132.0 (playwright build v1466) from https://playwright.azureedge.net/builds/firefox/1466/firefox-ubuntu-22.04.zip\n",
            "87.6 MiB [] 0% 0.0s87.6 MiB [] 0% 15.9s87.6 MiB [] 0% 12.3s87.6 MiB [] 0% 7.6s87.6 MiB [] 0% 11.4s87.6 MiB [] 1% 9.1s87.6 MiB [] 1% 9.2s87.6 MiB [] 1% 7.8s87.6 MiB [] 2% 7.5s87.6 MiB [] 2% 7.3s87.6 MiB [] 2% 7.0s87.6 MiB [] 3% 6.3s87.6 MiB [] 3% 5.8s87.6 MiB [] 4% 4.9s87.6 MiB [] 5% 4.6s87.6 MiB [] 5% 4.8s87.6 MiB [] 6% 4.9s87.6 MiB [] 6% 5.0s87.6 MiB [] 6% 5.1s87.6 MiB [] 6% 5.2s87.6 MiB [] 7% 5.2s87.6 MiB [] 7% 5.1s87.6 MiB [] 8% 4.8s87.6 MiB [] 9% 4.5s87.6 MiB [] 10% 4.3s87.6 MiB [] 10% 4.4s87.6 MiB [] 10% 4.5s87.6 MiB [] 11% 4.6s87.6 MiB [] 11% 4.5s87.6 MiB [] 12% 4.4s87.6 MiB [] 12% 4.3s87.6 MiB [] 12% 4.4s87.6 MiB [] 13% 4.3s87.6 MiB [] 14% 4.3s87.6 MiB [] 15% 4.2s87.6 MiB [] 17% 3.8s87.6 MiB [] 18% 3.7s87.6 MiB [] 18% 3.6s87.6 MiB [] 19% 3.5s87.6 MiB [] 20% 3.5s87.6 MiB [] 21% 3.5s87.6 MiB [] 21% 3.4s87.6 MiB [] 22% 3.4s87.6 MiB [] 23% 3.2s87.6 MiB [] 24% 3.1s87.6 MiB [] 25% 3.1s87.6 MiB [] 26% 3.0s87.6 MiB [] 26% 3.1s87.6 MiB [] 28% 2.8s87.6 MiB [] 30% 2.7s87.6 MiB [] 31% 2.5s87.6 MiB [] 32% 2.4s87.6 MiB [] 34% 2.3s87.6 MiB [] 35% 2.3s87.6 MiB [] 36% 2.1s87.6 MiB [] 38% 2.0s87.6 MiB [] 40% 1.9s87.6 MiB [] 41% 1.8s87.6 MiB [] 42% 1.7s87.6 MiB [] 43% 1.7s87.6 MiB [] 44% 1.7s87.6 MiB [] 45% 1.7s87.6 MiB [] 45% 1.6s87.6 MiB [] 47% 1.6s87.6 MiB [] 48% 1.5s87.6 MiB [] 50% 1.4s87.6 MiB [] 51% 1.4s87.6 MiB [] 52% 1.3s87.6 MiB [] 53% 1.3s87.6 MiB [] 54% 1.3s87.6 MiB [] 55% 1.3s87.6 MiB [] 55% 1.4s87.6 MiB [] 55% 1.5s87.6 MiB [] 56% 1.5s87.6 MiB [] 56% 1.4s87.6 MiB [] 57% 1.4s87.6 MiB [] 59% 1.3s87.6 MiB [] 61% 1.2s87.6 MiB [] 64% 1.1s87.6 MiB [] 65% 1.0s87.6 MiB [] 66% 1.0s87.6 MiB [] 67% 1.0s87.6 MiB [] 68% 0.9s87.6 MiB [] 70% 0.9s87.6 MiB [] 72% 0.8s87.6 MiB [] 73% 0.7s87.6 MiB [] 75% 0.7s87.6 MiB [] 76% 0.7s87.6 MiB [] 78% 0.6s87.6 MiB [] 79% 0.6s87.6 MiB [] 81% 0.5s87.6 MiB [] 83% 0.4s87.6 MiB [] 85% 0.4s87.6 MiB [] 86% 0.3s87.6 MiB [] 88% 0.3s87.6 MiB [] 90% 0.3s87.6 MiB [] 90% 0.2s87.6 MiB [] 91% 0.2s87.6 MiB [] 93% 0.2s87.6 MiB [] 95% 0.1s87.6 MiB [] 97% 0.0s87.6 MiB [] 98% 0.0s87.6 MiB [] 100% 0.0s\n",
            "Firefox 132.0 (playwright build v1466) downloaded to /root/.cache/ms-playwright/firefox-1466\n",
            "Downloading Webkit 18.2 (playwright build v2104) from https://playwright.azureedge.net/builds/webkit/2104/webkit-ubuntu-22.04.zip\n",
            "95.5 MiB [] 0% 0.0s95.5 MiB [] 0% 23.3s95.5 MiB [] 0% 14.3s95.5 MiB [] 0% 7.9s95.5 MiB [] 0% 9.3s95.5 MiB [] 0% 8.7s95.5 MiB [] 1% 5.0s95.5 MiB [] 3% 3.7s95.5 MiB [] 3% 3.2s95.5 MiB [] 5% 2.8s95.5 MiB [] 5% 2.7s95.5 MiB [] 6% 2.6s95.5 MiB [] 7% 2.7s95.5 MiB [] 8% 2.5s95.5 MiB [] 9% 2.3s95.5 MiB [] 11% 2.1s95.5 MiB [] 11% 2.3s95.5 MiB [] 12% 2.4s95.5 MiB [] 13% 2.3s95.5 MiB [] 15% 2.1s95.5 MiB [] 16% 2.1s95.5 MiB [] 17% 2.0s95.5 MiB [] 18% 2.0s95.5 MiB [] 18% 2.1s95.5 MiB [] 19% 2.0s95.5 MiB [] 20% 1.9s95.5 MiB [] 21% 1.9s95.5 MiB [] 23% 1.7s95.5 MiB [] 24% 1.8s95.5 MiB [] 25% 1.8s95.5 MiB [] 26% 1.7s95.5 MiB [] 29% 1.5s95.5 MiB [] 31% 1.4s95.5 MiB [] 32% 1.4s95.5 MiB [] 35% 1.3s95.5 MiB [] 36% 1.2s95.5 MiB [] 37% 1.2s95.5 MiB [] 38% 1.2s95.5 MiB [] 39% 1.2s95.5 MiB [] 40% 1.2s95.5 MiB [] 42% 1.1s95.5 MiB [] 43% 1.0s95.5 MiB [] 45% 1.0s95.5 MiB [] 46% 1.0s95.5 MiB [] 47% 1.0s95.5 MiB [] 48% 1.0s95.5 MiB [] 49% 1.0s95.5 MiB [] 50% 1.0s95.5 MiB [] 53% 0.9s95.5 MiB [] 54% 0.8s95.5 MiB [] 56% 0.8s95.5 MiB [] 57% 0.8s95.5 MiB [] 58% 0.8s95.5 MiB [] 59% 0.7s95.5 MiB [] 60% 0.7s95.5 MiB [] 61% 0.7s95.5 MiB [] 62% 0.7s95.5 MiB [] 63% 0.7s95.5 MiB [] 64% 0.7s95.5 MiB [] 65% 0.7s95.5 MiB [] 66% 0.6s95.5 MiB [] 67% 0.6s95.5 MiB [] 68% 0.6s95.5 MiB [] 69% 0.6s95.5 MiB [] 70% 0.6s95.5 MiB [] 71% 0.5s95.5 MiB [] 73% 0.5s95.5 MiB [] 74% 0.5s95.5 MiB [] 75% 0.5s95.5 MiB [] 76% 0.5s95.5 MiB [] 77% 0.4s95.5 MiB [] 78% 0.4s95.5 MiB [] 79% 0.4s95.5 MiB [] 81% 0.4s95.5 MiB [] 82% 0.3s95.5 MiB [] 83% 0.3s95.5 MiB [] 84% 0.3s95.5 MiB [] 85% 0.3s95.5 MiB [] 86% 0.3s95.5 MiB [] 87% 0.3s95.5 MiB [] 88% 0.2s95.5 MiB [] 89% 0.2s95.5 MiB [] 90% 0.2s95.5 MiB [] 91% 0.2s95.5 MiB [] 92% 0.2s95.5 MiB [] 93% 0.1s95.5 MiB [] 94% 0.1s95.5 MiB [] 95% 0.1s95.5 MiB [] 96% 0.1s95.5 MiB [] 98% 0.0s95.5 MiB [] 99% 0.0s95.5 MiB [] 100% 0.0s\n",
            "Webkit 18.2 (playwright build v2104) downloaded to /root/.cache/ms-playwright/webkit-2104\n",
            "Downloading FFMPEG playwright build v1010 from https://playwright.azureedge.net/builds/ffmpeg/1010/ffmpeg-linux.zip\n",
            "2.3 MiB [] 0% 0.0s2.3 MiB [] 3% 0.5s2.3 MiB [] 11% 0.3s2.3 MiB [] 20% 0.2s2.3 MiB [] 59% 0.0s2.3 MiB [] 100% 0.0s\n",
            "FFMPEG playwright build v1010 downloaded to /root/.cache/ms-playwright/ffmpeg-1010\n",
            "Playwright Host validation warning: \n",
            "╔══════════════════════════════════════════════════════╗\n",
            "║ Host system is missing dependencies to run browsers. ║\n",
            "║ Missing libraries:                                   ║\n",
            "║     libwoff2dec.so.1.0.2                             ║\n",
            "║     libgstgl-1.0.so.0                                ║\n",
            "║     libgstcodecparsers-1.0.so.0                      ║\n",
            "║     libavif.so.13                                    ║\n",
            "║     libharfbuzz-icu.so.0                             ║\n",
            "║     libenchant-2.so.2                                ║\n",
            "║     libsecret-1.so.0                                 ║\n",
            "║     libhyphen.so.0                                   ║\n",
            "║     libmanette-0.2.so.0                              ║\n",
            "╚══════════════════════════════════════════════════════╝\n",
            "    at validateDependenciesLinux (/usr/local/lib/python3.11/dist-packages/playwright/driver/package/lib/server/registry/dependencies.js:216:9)\n",
            "    at process.processTicksAndRejections (node:internal/process/task_queues:105:5)\n",
            "    at async Registry._validateHostRequirements (/usr/local/lib/python3.11/dist-packages/playwright/driver/package/lib/server/registry/index.js:753:43)\n",
            "    at async Registry._validateHostRequirementsForExecutableIfNeeded (/usr/local/lib/python3.11/dist-packages/playwright/driver/package/lib/server/registry/index.js:851:7)\n",
            "    at async Registry.validateHostRequirementsForExecutablesIfNeeded (/usr/local/lib/python3.11/dist-packages/playwright/driver/package/lib/server/registry/index.js:840:43)\n",
            "    at async t.<anonymous> (/usr/local/lib/python3.11/dist-packages/playwright/driver/package/lib/cli/program.js:137:7)\n",
            "Get:1 https://cloud.r-project.org/bin/linux/ubuntu jammy-cran40/ InRelease [3,626 B]\n",
            "Get:2 https://developer.download.nvidia.com/compute/cuda/repos/ubuntu2204/x86_64  InRelease [1,581 B]\n",
            "Hit:3 http://archive.ubuntu.com/ubuntu jammy InRelease\n",
            "Get:4 https://r2u.stat.illinois.edu/ubuntu jammy InRelease [6,555 B]\n",
            "Get:5 http://security.ubuntu.com/ubuntu jammy-security InRelease [129 kB]\n",
            "Get:6 http://archive.ubuntu.com/ubuntu jammy-updates InRelease [128 kB]\n",
            "Get:7 https://cloud.r-project.org/bin/linux/ubuntu jammy-cran40/ Packages [62.5 kB]\n",
            "Hit:8 https://ppa.launchpadcontent.net/deadsnakes/ppa/ubuntu jammy InRelease\n",
            "Hit:9 https://ppa.launchpadcontent.net/graphics-drivers/ppa/ubuntu jammy InRelease\n",
            "Get:10 https://developer.download.nvidia.com/compute/cuda/repos/ubuntu2204/x86_64  Packages [1,234 kB]\n",
            "Hit:11 https://ppa.launchpadcontent.net/ubuntugis/ppa/ubuntu jammy InRelease\n",
            "Get:12 http://archive.ubuntu.com/ubuntu jammy-backports InRelease [127 kB]\n",
            "Get:13 https://r2u.stat.illinois.edu/ubuntu jammy/main amd64 Packages [2,645 kB]\n",
            "Get:14 https://r2u.stat.illinois.edu/ubuntu jammy/main all Packages [8,611 kB]\n",
            "Get:15 http://security.ubuntu.com/ubuntu jammy-security/universe amd64 Packages [1,228 kB]\n",
            "Get:16 http://archive.ubuntu.com/ubuntu jammy-updates/main amd64 Packages [2,859 kB]\n",
            "Get:17 http://security.ubuntu.com/ubuntu jammy-security/main amd64 Packages [2,560 kB]\n",
            "Get:18 http://archive.ubuntu.com/ubuntu jammy-updates/universe amd64 Packages [1,519 kB]\n",
            "Fetched 21.1 MB in 3s (7,557 kB/s)\n",
            "Reading package lists... Done\n",
            "W: Skipping acquire of configured file 'main/source/Sources' as repository 'https://r2u.stat.illinois.edu/ubuntu jammy InRelease' does not seem to provide it (sources.list entry misspelt?)\n",
            "Reading package lists... Done\n",
            "Building dependency tree... Done\n",
            "Reading state information... Done\n",
            "libasound2 is already the newest version (1.2.6.1-1ubuntu1).\n",
            "libasound2 set to manually installed.\n",
            "libatk1.0-0 is already the newest version (2.36.0-3build1).\n",
            "libatk1.0-0 set to manually installed.\n",
            "libxcomposite1 is already the newest version (1:0.4.5-1build2).\n",
            "libxcomposite1 set to manually installed.\n",
            "libxdamage1 is already the newest version (1:1.1.5-2build2).\n",
            "libxdamage1 set to manually installed.\n",
            "libxrandr2 is already the newest version (2:1.5.2-1build1).\n",
            "libxrandr2 set to manually installed.\n",
            "libgbm1 is already the newest version (23.2.1-1ubuntu3.1~22.04.3).\n",
            "libgbm1 set to manually installed.\n",
            "libgtk-3-0 is already the newest version (3.24.33-1ubuntu2.2).\n",
            "libgtk-3-0 set to manually installed.\n",
            "libnss3 is already the newest version (2:3.98-0ubuntu0.22.04.2).\n",
            "libnss3 set to manually installed.\n",
            "libpangocairo-1.0-0 is already the newest version (1.50.6+ds-2ubuntu1).\n",
            "libpangocairo-1.0-0 set to manually installed.\n",
            "libx11-dev is already the newest version (2:1.7.5-1ubuntu0.3).\n",
            "libx11-dev set to manually installed.\n",
            "libx11-xcb1 is already the newest version (2:1.7.5-1ubuntu0.3).\n",
            "libx11-xcb1 set to manually installed.\n",
            "0 upgraded, 0 newly installed, 0 to remove and 57 not upgraded.\n"
          ]
        }
      ]
    },
    {
      "cell_type": "code",
      "source": [
        "!pip install html2text"
      ],
      "metadata": {
        "colab": {
          "base_uri": "https://localhost:8080/"
        },
        "id": "Pz6rbiAHqqWv",
        "outputId": "0953c1b8-32d8-4226-d622-434cedc0265d"
      },
      "execution_count": 27,
      "outputs": [
        {
          "output_type": "stream",
          "name": "stdout",
          "text": [
            "Collecting html2text\n",
            "  Downloading html2text-2024.2.26.tar.gz (56 kB)\n",
            "     ━━━━━━━━━━━━━━━━━━━━━━━━━━━━━━━━━━━━━━━━ 56.5/56.5 kB 3.0 MB/s eta 0:00:00\n",
            "\u001b[?25h  Preparing metadata (setup.py) ... \u001b[?25l\u001b[?25hdone\n",
            "Building wheels for collected packages: html2text\n",
            "  Building wheel for html2text (setup.py) ... \u001b[?25l\u001b[?25hdone\n",
            "  Created wheel for html2text: filename=html2text-2024.2.26-py3-none-any.whl size=33111 sha256=679eb3cea48126c3971eb9cc0591628fc3ec4f1f970c862606617f3117a09043\n",
            "  Stored in directory: /root/.cache/pip/wheels/23/58/7c/d9c8c4d924a1ac2b621add1b2c1d30b639629a33cfdfde6a45\n",
            "Successfully built html2text\n",
            "Installing collected packages: html2text\n",
            "Successfully installed html2text-2024.2.26\n"
          ]
        }
      ]
    },
    {
      "cell_type": "code",
      "source": [
        "import nest_asyncio\n",
        "import asyncio\n",
        "from playwright.async_api import async_playwright\n",
        "import html2text  # Converts HTML to Markdown\n",
        "\n",
        "# Patch the event loop for nested use in Colab\n",
        "nest_asyncio.apply()\n",
        "\n",
        "async def main():\n",
        "    async with async_playwright() as p:\n",
        "        # Launch a Chromium browser in headless mode\n",
        "        browser = await p.chromium.launch(headless=True)\n",
        "        context = await browser.new_context()\n",
        "        page = await context.new_page()\n",
        "\n",
        "        # Navigate to the desired URL\n",
        "        url = \"https://www.nbcnews.com/business\"\n",
        "        await page.goto(url)\n",
        "\n",
        "        # Extract the page content as HTML\n",
        "        html_content = await page.content()\n",
        "\n",
        "        # Convert HTML to Markdown\n",
        "        markdown_converter = html2text.HTML2Text()\n",
        "        markdown_converter.ignore_links = False  # Keep hyperlinks in Markdown\n",
        "        markdown_content = markdown_converter.handle(html_content)\n",
        "\n",
        "        # Print the Markdown content\n",
        "        print(markdown_content[:1000])  # Print the first 1000 characters for preview\n",
        "\n",
        "        # Close the browser\n",
        "        await browser.close()\n",
        "\n",
        "# Use `await` to call the async function directly in Colab\n",
        "await main()"
      ],
      "metadata": {
        "colab": {
          "base_uri": "https://localhost:8080/"
        },
        "id": "e9k1aHk-p0W4",
        "outputId": "2ce6942d-399d-4775-912e-2626b5dc5aa0"
      },
      "execution_count": 28,
      "outputs": [
        {
          "output_type": "stream",
          "name": "stdout",
          "text": [
            "IE 11 is not supported. For an optimal experience visit our site on another\n",
            "browser.\n",
            "\n",
            "Skip to Content\n",
            "\n",
            "[NBC News Logo](https://www.nbcnews.com)\n",
            "\n",
            "Sponsored By\n",
            "\n",
            "  * [Israel-Hamas ceasefire](https://www.nbcnews.com/news/world/live-blog/israel-hamas-ceasefire-live-updates-rcna188245)\n",
            "  * [Trump transition](https://www.nbcnews.com/politics/donald-trump/live-blog/inauguration-2025-trump-transition-live-updates-rcna187206)\n",
            "  * [NFL playoffs](https://www.nbcnews.com/sports/nfl/live-blog/nfl-playoffs-chiefs-texans-lions-commanders-watch-live-updates-rcna187704)\n",
            "  * [U.S. News](https://www.nbcnews.com/us-news)\n",
            "  * [Politics](https://www.nbcnews.com/politics)\n",
            "  * [World](https://www.nbcnews.com/world)\n",
            "  * Local\n",
            "  * [New York](https://www.nbcnews.com/new-york)\n",
            "  * [Los Angeles](https://www.nbcnews.com/los-angeles)\n",
            "  * [Chicago](https://www.nbcnews.com/chicago)\n",
            "  * [Dallas-Fort Worth](https://www.nbcnews.com/dallas-fort-worth)\n",
            "  * [Philadelphia](https://www.nbcnews.com/philadelphia)\n",
            "  * [Washington\n"
          ]
        }
      ]
    },
    {
      "cell_type": "code",
      "source": [
        "import crawl4ai\n",
        "print(dir(crawl4ai))"
      ],
      "metadata": {
        "colab": {
          "base_uri": "https://localhost:8080/"
        },
        "id": "5kntfidckqoq",
        "outputId": "b3fe2f3f-0480-49b7-fad1-e894c9ed09b4"
      },
      "execution_count": 30,
      "outputs": [
        {
          "output_type": "stream",
          "name": "stdout",
          "text": [
            "['AsyncWebCrawler', 'BM25ContentFilter', 'BrowserConfig', 'CacheMode', 'ChunkingStrategy', 'CosineStrategy', 'CrawlResult', 'CrawlerRunConfig', 'DefaultMarkdownGenerator', 'ExtractionStrategy', 'JsonCssExtractionStrategy', 'LLMExtractionStrategy', 'PruningContentFilter', 'RegexChunking', 'WebCrawler', '__all__', '__builtins__', '__cached__', '__doc__', '__file__', '__loader__', '__name__', '__package__', '__path__', '__spec__', '__version__', 'async_configs', 'async_crawler_strategy', 'async_database', 'async_logger', 'async_webcrawler', 'cache_context', 'chunking_strategy', 'config', 'content_filter_strategy', 'content_scraping_strategy', 'extraction_strategy', 'html2text', 'is_sync_version_installed', 'js_snippet', 'markdown_generation_strategy', 'migrations', 'model_loader', 'models', 'prompts', 'ssl_certificate', 'user_agent_generator', 'utils', 'version_manager']\n"
          ]
        }
      ]
    },
    {
      "cell_type": "code",
      "source": [],
      "metadata": {
        "id": "VEC_AD-MkqrF"
      },
      "execution_count": null,
      "outputs": []
    }
  ]
}