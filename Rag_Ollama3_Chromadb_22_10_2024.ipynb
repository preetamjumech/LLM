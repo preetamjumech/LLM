{
  "nbformat": 4,
  "nbformat_minor": 0,
  "metadata": {
    "colab": {
      "provenance": [],
      "authorship_tag": "ABX9TyNKJ1/yXu1arycVCRSqO/WC",
      "include_colab_link": true
    },
    "kernelspec": {
      "name": "python3",
      "display_name": "Python 3"
    },
    "language_info": {
      "name": "python"
    }
  },
  "cells": [
    {
      "cell_type": "markdown",
      "metadata": {
        "id": "view-in-github",
        "colab_type": "text"
      },
      "source": [
        "<a href=\"https://colab.research.google.com/github/preetamjumech/LLM/blob/main/Rag_Ollama3_Chromadb_22_10_2024.ipynb\" target=\"_parent\"><img src=\"https://colab.research.google.com/assets/colab-badge.svg\" alt=\"Open In Colab\"/></a>"
      ]
    },
    {
      "cell_type": "code",
      "execution_count": null,
      "metadata": {
        "id": "e61_ywvlVA1W"
      },
      "outputs": [],
      "source": [
        "#!pip install ollama streamlit chromadb pypdf"
      ]
    },
    {
      "cell_type": "code",
      "source": [
        "import streamlit as st\n",
        "import ollama\n",
        "import chromadb\n",
        "import pypdf\n",
        "import os\n",
        "\n",
        "\n",
        "chromadb.api.client.SharedSystemClient.clear_system_cache()\n",
        "# Initialize ChromaDB client\n",
        "chroma_client = chromadb.Client()\n",
        "\n",
        "# Check if the collection exists before deleting\n",
        "collections = chroma_client.list_collections()  # Get the list of collections\n",
        "if \"RagChromadb\" in collections:\n",
        "    chroma_client.delete_collection(name=\"RagChromadb\")\n",
        "collection = chroma_client.get_or_create_collection(\"RagChromadb\")\n",
        "\n",
        "# Set Streamlit page configuration\n",
        "st.set_page_config(page_title=\"Document Q&A App\", layout=\"wide\")\n",
        "\n",
        "# Header\n",
        "st.title(\"📄 Document Q&A App\")\n",
        "\n",
        "# File upload section\n",
        "st.header(\"Upload PDF Document\")\n",
        "uploaded_file = st.file_uploader(\"Choose a PDF file\", type=\"pdf\")\n",
        "\n",
        "if uploaded_file is not None:\n",
        "    # Save the uploaded file temporarily\n",
        "    with open(\"uploaded_document.pdf\", \"wb\") as f:\n",
        "        f.write(uploaded_file.getbuffer())\n",
        "    st.success(\"✅ Document uploaded!\")\n",
        "\n",
        "    # Load the PDF and add it to the collection\n",
        "    def upload_pdf(file_path):\n",
        "        with open(file_path, 'rb') as file:\n",
        "            pdf_reader = pypdf.PdfReader(file)\n",
        "\n",
        "            num_pages = len(pdf_reader.pages)  # Get the number of pages\n",
        "            st.write(f\"Number of pages in the document: {num_pages}\")\n",
        "\n",
        "            id = 0\n",
        "            for page in pdf_reader.pages:\n",
        "                collection.add(\n",
        "                    documents=[page.extract_text()],\n",
        "                    ids=[f\"{file_path}_{id}\"]\n",
        "                )\n",
        "                id += 1\n",
        "\n",
        "    # Process the uploaded PDF\n",
        "    upload_pdf(\"uploaded_document.pdf\")\n",
        "    st.success(\"✨ Embeddings created!\")\n",
        "\n",
        "# Query section\n",
        "st.header(\"❓ Ask a Question\")\n",
        "query = st.text_input(\"Enter your question here:\")\n",
        "\n",
        "if st.button(\"Get Answer\") and query:\n",
        "    similar_docs = collection.query(\n",
        "        query_texts=[query],\n",
        "        n_results=3\n",
        "    )\n",
        "\n",
        "    if similar_docs[\"documents\"]:\n",
        "        num_results = len(similar_docs[\"documents\"][0])\n",
        "        st.write(f\"Found {num_results} similar documents.\")\n",
        "\n",
        "        # Prepare messages for the chat model\n",
        "        messages = []\n",
        "        for i in range(min(num_results, 3)):\n",
        "            messages.append({\"role\": \"system\", \"content\": similar_docs[\"documents\"][0][i]})\n",
        "\n",
        "        messages.append({\"role\": \"user\", \"content\": query})\n",
        "\n",
        "        # Get response from the chat model\n",
        "        response = ollama.chat(\n",
        "            model=\"llama3:instruct\",\n",
        "            messages=messages\n",
        "        )\n",
        "\n",
        "        st.write(\"📝 Answer:\", response[\"message\"][\"content\"])\n",
        "    else:\n",
        "        st.write(\"No similar documents found.\")\n"
      ],
      "metadata": {
        "id": "RGNNiIX1WVOU"
      },
      "execution_count": null,
      "outputs": []
    }
  ]
}