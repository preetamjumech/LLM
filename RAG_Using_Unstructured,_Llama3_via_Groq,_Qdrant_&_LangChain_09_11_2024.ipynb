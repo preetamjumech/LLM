{
  "nbformat": 4,
  "nbformat_minor": 0,
  "metadata": {
    "colab": {
      "provenance": [],
      "authorship_tag": "ABX9TyP/fk8E1WSA41rHkHS1Likb",
      "include_colab_link": true
    },
    "kernelspec": {
      "name": "python3",
      "display_name": "Python 3"
    },
    "language_info": {
      "name": "python"
    },
    "widgets": {
      "application/vnd.jupyter.widget-state+json": {
        "b85146e21ed64551906e29f541461fcf": {
          "model_module": "@jupyter-widgets/controls",
          "model_name": "HBoxModel",
          "model_module_version": "1.5.0",
          "state": {
            "_dom_classes": [],
            "_model_module": "@jupyter-widgets/controls",
            "_model_module_version": "1.5.0",
            "_model_name": "HBoxModel",
            "_view_count": null,
            "_view_module": "@jupyter-widgets/controls",
            "_view_module_version": "1.5.0",
            "_view_name": "HBoxView",
            "box_style": "",
            "children": [
              "IPY_MODEL_3f87b0e9400942ef8d1ae4b397c3f7db",
              "IPY_MODEL_a7a8b5385b0d4277a63bc1d3c4175322",
              "IPY_MODEL_dd663a19ec484dd2833d8b9f6deab159"
            ],
            "layout": "IPY_MODEL_0b47559b03974a1aafcd8769636d457a"
          }
        },
        "3f87b0e9400942ef8d1ae4b397c3f7db": {
          "model_module": "@jupyter-widgets/controls",
          "model_name": "HTMLModel",
          "model_module_version": "1.5.0",
          "state": {
            "_dom_classes": [],
            "_model_module": "@jupyter-widgets/controls",
            "_model_module_version": "1.5.0",
            "_model_name": "HTMLModel",
            "_view_count": null,
            "_view_module": "@jupyter-widgets/controls",
            "_view_module_version": "1.5.0",
            "_view_name": "HTMLView",
            "description": "",
            "description_tooltip": null,
            "layout": "IPY_MODEL_b1bca91848754014ab63dba6fa45e5e2",
            "placeholder": "​",
            "style": "IPY_MODEL_ecb8b8bdfb6c4473b6a82ef075c7124e",
            "value": "Fetching 5 files: 100%"
          }
        },
        "a7a8b5385b0d4277a63bc1d3c4175322": {
          "model_module": "@jupyter-widgets/controls",
          "model_name": "FloatProgressModel",
          "model_module_version": "1.5.0",
          "state": {
            "_dom_classes": [],
            "_model_module": "@jupyter-widgets/controls",
            "_model_module_version": "1.5.0",
            "_model_name": "FloatProgressModel",
            "_view_count": null,
            "_view_module": "@jupyter-widgets/controls",
            "_view_module_version": "1.5.0",
            "_view_name": "ProgressView",
            "bar_style": "success",
            "description": "",
            "description_tooltip": null,
            "layout": "IPY_MODEL_c8be73824ea2410d935d7a83578b209b",
            "max": 5,
            "min": 0,
            "orientation": "horizontal",
            "style": "IPY_MODEL_a709143567564589aa6f5bf6067a5508",
            "value": 5
          }
        },
        "dd663a19ec484dd2833d8b9f6deab159": {
          "model_module": "@jupyter-widgets/controls",
          "model_name": "HTMLModel",
          "model_module_version": "1.5.0",
          "state": {
            "_dom_classes": [],
            "_model_module": "@jupyter-widgets/controls",
            "_model_module_version": "1.5.0",
            "_model_name": "HTMLModel",
            "_view_count": null,
            "_view_module": "@jupyter-widgets/controls",
            "_view_module_version": "1.5.0",
            "_view_name": "HTMLView",
            "description": "",
            "description_tooltip": null,
            "layout": "IPY_MODEL_2848bfb08be345b4b9a5761f82233358",
            "placeholder": "​",
            "style": "IPY_MODEL_09380d8c221e46a9a0c453b2e2643a88",
            "value": " 5/5 [00:00&lt;00:00, 56.74it/s]"
          }
        },
        "0b47559b03974a1aafcd8769636d457a": {
          "model_module": "@jupyter-widgets/base",
          "model_name": "LayoutModel",
          "model_module_version": "1.2.0",
          "state": {
            "_model_module": "@jupyter-widgets/base",
            "_model_module_version": "1.2.0",
            "_model_name": "LayoutModel",
            "_view_count": null,
            "_view_module": "@jupyter-widgets/base",
            "_view_module_version": "1.2.0",
            "_view_name": "LayoutView",
            "align_content": null,
            "align_items": null,
            "align_self": null,
            "border": null,
            "bottom": null,
            "display": null,
            "flex": null,
            "flex_flow": null,
            "grid_area": null,
            "grid_auto_columns": null,
            "grid_auto_flow": null,
            "grid_auto_rows": null,
            "grid_column": null,
            "grid_gap": null,
            "grid_row": null,
            "grid_template_areas": null,
            "grid_template_columns": null,
            "grid_template_rows": null,
            "height": null,
            "justify_content": null,
            "justify_items": null,
            "left": null,
            "margin": null,
            "max_height": null,
            "max_width": null,
            "min_height": null,
            "min_width": null,
            "object_fit": null,
            "object_position": null,
            "order": null,
            "overflow": null,
            "overflow_x": null,
            "overflow_y": null,
            "padding": null,
            "right": null,
            "top": null,
            "visibility": null,
            "width": null
          }
        },
        "b1bca91848754014ab63dba6fa45e5e2": {
          "model_module": "@jupyter-widgets/base",
          "model_name": "LayoutModel",
          "model_module_version": "1.2.0",
          "state": {
            "_model_module": "@jupyter-widgets/base",
            "_model_module_version": "1.2.0",
            "_model_name": "LayoutModel",
            "_view_count": null,
            "_view_module": "@jupyter-widgets/base",
            "_view_module_version": "1.2.0",
            "_view_name": "LayoutView",
            "align_content": null,
            "align_items": null,
            "align_self": null,
            "border": null,
            "bottom": null,
            "display": null,
            "flex": null,
            "flex_flow": null,
            "grid_area": null,
            "grid_auto_columns": null,
            "grid_auto_flow": null,
            "grid_auto_rows": null,
            "grid_column": null,
            "grid_gap": null,
            "grid_row": null,
            "grid_template_areas": null,
            "grid_template_columns": null,
            "grid_template_rows": null,
            "height": null,
            "justify_content": null,
            "justify_items": null,
            "left": null,
            "margin": null,
            "max_height": null,
            "max_width": null,
            "min_height": null,
            "min_width": null,
            "object_fit": null,
            "object_position": null,
            "order": null,
            "overflow": null,
            "overflow_x": null,
            "overflow_y": null,
            "padding": null,
            "right": null,
            "top": null,
            "visibility": null,
            "width": null
          }
        },
        "ecb8b8bdfb6c4473b6a82ef075c7124e": {
          "model_module": "@jupyter-widgets/controls",
          "model_name": "DescriptionStyleModel",
          "model_module_version": "1.5.0",
          "state": {
            "_model_module": "@jupyter-widgets/controls",
            "_model_module_version": "1.5.0",
            "_model_name": "DescriptionStyleModel",
            "_view_count": null,
            "_view_module": "@jupyter-widgets/base",
            "_view_module_version": "1.2.0",
            "_view_name": "StyleView",
            "description_width": ""
          }
        },
        "c8be73824ea2410d935d7a83578b209b": {
          "model_module": "@jupyter-widgets/base",
          "model_name": "LayoutModel",
          "model_module_version": "1.2.0",
          "state": {
            "_model_module": "@jupyter-widgets/base",
            "_model_module_version": "1.2.0",
            "_model_name": "LayoutModel",
            "_view_count": null,
            "_view_module": "@jupyter-widgets/base",
            "_view_module_version": "1.2.0",
            "_view_name": "LayoutView",
            "align_content": null,
            "align_items": null,
            "align_self": null,
            "border": null,
            "bottom": null,
            "display": null,
            "flex": null,
            "flex_flow": null,
            "grid_area": null,
            "grid_auto_columns": null,
            "grid_auto_flow": null,
            "grid_auto_rows": null,
            "grid_column": null,
            "grid_gap": null,
            "grid_row": null,
            "grid_template_areas": null,
            "grid_template_columns": null,
            "grid_template_rows": null,
            "height": null,
            "justify_content": null,
            "justify_items": null,
            "left": null,
            "margin": null,
            "max_height": null,
            "max_width": null,
            "min_height": null,
            "min_width": null,
            "object_fit": null,
            "object_position": null,
            "order": null,
            "overflow": null,
            "overflow_x": null,
            "overflow_y": null,
            "padding": null,
            "right": null,
            "top": null,
            "visibility": null,
            "width": null
          }
        },
        "a709143567564589aa6f5bf6067a5508": {
          "model_module": "@jupyter-widgets/controls",
          "model_name": "ProgressStyleModel",
          "model_module_version": "1.5.0",
          "state": {
            "_model_module": "@jupyter-widgets/controls",
            "_model_module_version": "1.5.0",
            "_model_name": "ProgressStyleModel",
            "_view_count": null,
            "_view_module": "@jupyter-widgets/base",
            "_view_module_version": "1.2.0",
            "_view_name": "StyleView",
            "bar_color": null,
            "description_width": ""
          }
        },
        "2848bfb08be345b4b9a5761f82233358": {
          "model_module": "@jupyter-widgets/base",
          "model_name": "LayoutModel",
          "model_module_version": "1.2.0",
          "state": {
            "_model_module": "@jupyter-widgets/base",
            "_model_module_version": "1.2.0",
            "_model_name": "LayoutModel",
            "_view_count": null,
            "_view_module": "@jupyter-widgets/base",
            "_view_module_version": "1.2.0",
            "_view_name": "LayoutView",
            "align_content": null,
            "align_items": null,
            "align_self": null,
            "border": null,
            "bottom": null,
            "display": null,
            "flex": null,
            "flex_flow": null,
            "grid_area": null,
            "grid_auto_columns": null,
            "grid_auto_flow": null,
            "grid_auto_rows": null,
            "grid_column": null,
            "grid_gap": null,
            "grid_row": null,
            "grid_template_areas": null,
            "grid_template_columns": null,
            "grid_template_rows": null,
            "height": null,
            "justify_content": null,
            "justify_items": null,
            "left": null,
            "margin": null,
            "max_height": null,
            "max_width": null,
            "min_height": null,
            "min_width": null,
            "object_fit": null,
            "object_position": null,
            "order": null,
            "overflow": null,
            "overflow_x": null,
            "overflow_y": null,
            "padding": null,
            "right": null,
            "top": null,
            "visibility": null,
            "width": null
          }
        },
        "09380d8c221e46a9a0c453b2e2643a88": {
          "model_module": "@jupyter-widgets/controls",
          "model_name": "DescriptionStyleModel",
          "model_module_version": "1.5.0",
          "state": {
            "_model_module": "@jupyter-widgets/controls",
            "_model_module_version": "1.5.0",
            "_model_name": "DescriptionStyleModel",
            "_view_count": null,
            "_view_module": "@jupyter-widgets/base",
            "_view_module_version": "1.2.0",
            "_view_name": "StyleView",
            "description_width": ""
          }
        }
      }
    }
  },
  "cells": [
    {
      "cell_type": "markdown",
      "metadata": {
        "id": "view-in-github",
        "colab_type": "text"
      },
      "source": [
        "<a href=\"https://colab.research.google.com/github/preetamjumech/LLM/blob/main/RAG_Using_Unstructured%2C_Llama3_via_Groq%2C_Qdrant_%26_LangChain_09_11_2024.ipynb\" target=\"_parent\"><img src=\"https://colab.research.google.com/assets/colab-badge.svg\" alt=\"Open In Colab\"/></a>"
      ]
    },
    {
      "cell_type": "markdown",
      "source": [
        "LangChain\n",
        "Unstructured\n",
        "LangSmith\n",
        "Qdrant Cloud\n",
        "Groq API\n",
        "Llama3 via Groq API\n",
        "Fastembed"
      ],
      "metadata": {
        "id": "5ND8pvmaXulb"
      }
    },
    {
      "cell_type": "code",
      "source": [
        "%%capture\n",
        "%pip install \"unstructured[all-docs]\" unstructured-client watermark langchain-groq langchain fastembed qdrant_client python-dotenv"
      ],
      "metadata": {
        "id": "Fw9U7IXIXvb8"
      },
      "execution_count": 2,
      "outputs": []
    },
    {
      "cell_type": "code",
      "source": [
        "!pip install onnxruntime==1.19.2 #must be less than 1.20.0"
      ],
      "metadata": {
        "colab": {
          "base_uri": "https://localhost:8080/"
        },
        "id": "_OHDpxMotn_U",
        "outputId": "7fbcea03-9bb1-4f93-aad5-44c515083a52"
      },
      "execution_count": 3,
      "outputs": [
        {
          "output_type": "stream",
          "name": "stdout",
          "text": [
            "Requirement already satisfied: onnxruntime==1.19.2 in /usr/local/lib/python3.10/dist-packages (1.19.2)\n",
            "Requirement already satisfied: coloredlogs in /usr/local/lib/python3.10/dist-packages (from onnxruntime==1.19.2) (15.0.1)\n",
            "Requirement already satisfied: flatbuffers in /usr/local/lib/python3.10/dist-packages (from onnxruntime==1.19.2) (24.3.25)\n",
            "Requirement already satisfied: numpy>=1.21.6 in /usr/local/lib/python3.10/dist-packages (from onnxruntime==1.19.2) (1.26.4)\n",
            "Requirement already satisfied: packaging in /usr/local/lib/python3.10/dist-packages (from onnxruntime==1.19.2) (24.1)\n",
            "Requirement already satisfied: protobuf in /usr/local/lib/python3.10/dist-packages (from onnxruntime==1.19.2) (5.28.3)\n",
            "Requirement already satisfied: sympy in /usr/local/lib/python3.10/dist-packages (from onnxruntime==1.19.2) (1.13.1)\n",
            "Requirement already satisfied: humanfriendly>=9.1 in /usr/local/lib/python3.10/dist-packages (from coloredlogs->onnxruntime==1.19.2) (10.0)\n",
            "Requirement already satisfied: mpmath<1.4,>=1.1.0 in /usr/local/lib/python3.10/dist-packages (from sympy->onnxruntime==1.19.2) (1.3.0)\n"
          ]
        }
      ]
    },
    {
      "cell_type": "code",
      "source": [
        "%load_ext watermark"
      ],
      "metadata": {
        "id": "maYYmdLSYdMc"
      },
      "execution_count": 4,
      "outputs": []
    },
    {
      "cell_type": "code",
      "source": [
        "# Warning control\n",
        "import warnings\n",
        "warnings.filterwarnings('ignore')"
      ],
      "metadata": {
        "id": "6WMRFkieYdPb"
      },
      "execution_count": 5,
      "outputs": []
    },
    {
      "cell_type": "code",
      "source": [
        "from unstructured.chunking.title import chunk_by_title\n",
        "from unstructured.partition.md import partition_md\n",
        "from unstructured.partition.pdf import partition_pdf\n",
        "from unstructured.staging.base import dict_to_elements"
      ],
      "metadata": {
        "id": "tZYgdt0QYdSS"
      },
      "execution_count": 6,
      "outputs": []
    },
    {
      "cell_type": "code",
      "source": [
        "%watermark --iversions"
      ],
      "metadata": {
        "colab": {
          "base_uri": "https://localhost:8080/"
        },
        "id": "poqeES0VYdU1",
        "outputId": "24559036-c1be-4fcd-f764-ec52c03aea68"
      },
      "execution_count": 7,
      "outputs": [
        {
          "output_type": "stream",
          "name": "stdout",
          "text": [
            "unstructured: 0.16.5\n",
            "\n"
          ]
        }
      ]
    },
    {
      "cell_type": "code",
      "source": [
        "import unstructured.partition\n",
        "\n",
        "help(unstructured.partition)"
      ],
      "metadata": {
        "colab": {
          "base_uri": "https://localhost:8080/"
        },
        "id": "Q46j5sV5YdXb",
        "outputId": "c8ecdff2-5be7-4e0d-c97d-622e61d004f9"
      },
      "execution_count": 8,
      "outputs": [
        {
          "output_type": "stream",
          "name": "stdout",
          "text": [
            "Help on package unstructured.partition in unstructured:\n",
            "\n",
            "NAME\n",
            "    unstructured.partition\n",
            "\n",
            "PACKAGE CONTENTS\n",
            "    api\n",
            "    auto\n",
            "    common (package)\n",
            "    csv\n",
            "    doc\n",
            "    docx\n",
            "    email\n",
            "    epub\n",
            "    html (package)\n",
            "    image\n",
            "    json\n",
            "    md\n",
            "    model_init\n",
            "    msg\n",
            "    odt\n",
            "    org\n",
            "    pdf\n",
            "    pdf_image (package)\n",
            "    ppt\n",
            "    pptx\n",
            "    rst\n",
            "    rtf\n",
            "    strategies\n",
            "    text\n",
            "    text_type\n",
            "    tsv\n",
            "    utils (package)\n",
            "    xlsx\n",
            "    xml\n",
            "\n",
            "FILE\n",
            "    /usr/local/lib/python3.10/dist-packages/unstructured/partition/__init__.py\n",
            "\n",
            "\n"
          ]
        }
      ]
    },
    {
      "cell_type": "code",
      "source": [
        "!apt-get install -y poppler-utils"
      ],
      "metadata": {
        "colab": {
          "base_uri": "https://localhost:8080/"
        },
        "id": "b88uyD2Qb4TC",
        "outputId": "ad378f97-e5d9-42b8-d534-12b480bb5bfb"
      },
      "execution_count": 9,
      "outputs": [
        {
          "output_type": "stream",
          "name": "stdout",
          "text": [
            "Reading package lists... Done\n",
            "Building dependency tree... Done\n",
            "Reading state information... Done\n",
            "poppler-utils is already the newest version (22.02.0-2ubuntu0.5).\n",
            "0 upgraded, 0 newly installed, 0 to remove and 49 not upgraded.\n"
          ]
        }
      ]
    },
    {
      "cell_type": "code",
      "source": [
        "!apt-get install -y tesseract-ocr"
      ],
      "metadata": {
        "colab": {
          "base_uri": "https://localhost:8080/"
        },
        "id": "uhVA-kZab726",
        "outputId": "f7eeb7d7-f9dd-4207-89c7-71b969c74b10"
      },
      "execution_count": 10,
      "outputs": [
        {
          "output_type": "stream",
          "name": "stdout",
          "text": [
            "Reading package lists... Done\n",
            "Building dependency tree... Done\n",
            "Reading state information... Done\n",
            "tesseract-ocr is already the newest version (4.1.1-2.1build1).\n",
            "0 upgraded, 0 newly installed, 0 to remove and 49 not upgraded.\n"
          ]
        }
      ]
    },
    {
      "cell_type": "code",
      "source": [
        "!pip install -U nltk"
      ],
      "metadata": {
        "colab": {
          "base_uri": "https://localhost:8080/"
        },
        "id": "tYaY-hlEb_4o",
        "outputId": "37386eab-c643-49d9-9377-edbb4188c9f9"
      },
      "execution_count": 11,
      "outputs": [
        {
          "output_type": "stream",
          "name": "stdout",
          "text": [
            "Requirement already satisfied: nltk in /usr/local/lib/python3.10/dist-packages (3.9.1)\n",
            "Requirement already satisfied: click in /usr/local/lib/python3.10/dist-packages (from nltk) (8.1.7)\n",
            "Requirement already satisfied: joblib in /usr/local/lib/python3.10/dist-packages (from nltk) (1.4.2)\n",
            "Requirement already satisfied: regex>=2021.8.3 in /usr/local/lib/python3.10/dist-packages (from nltk) (2024.9.11)\n",
            "Requirement already satisfied: tqdm in /usr/local/lib/python3.10/dist-packages (from nltk) (4.66.6)\n"
          ]
        }
      ]
    },
    {
      "cell_type": "code",
      "source": [
        "import nltk\n",
        "nltk.download('punkt', download_dir='/root/nltk_data')\n",
        "nltk.download('punkt_tab', download_dir='/root/nltk_data')"
      ],
      "metadata": {
        "colab": {
          "base_uri": "https://localhost:8080/"
        },
        "id": "GqFVtaB4cEZw",
        "outputId": "720cc401-7ab8-4040-d247-e745b0bb464f"
      },
      "execution_count": 12,
      "outputs": [
        {
          "output_type": "stream",
          "name": "stderr",
          "text": [
            "[nltk_data] Downloading package punkt to /root/nltk_data...\n",
            "[nltk_data]   Package punkt is already up-to-date!\n",
            "[nltk_data] Downloading package punkt_tab to /root/nltk_data...\n",
            "[nltk_data]   Package punkt_tab is already up-to-date!\n"
          ]
        },
        {
          "output_type": "execute_result",
          "data": {
            "text/plain": [
              "True"
            ]
          },
          "metadata": {},
          "execution_count": 12
        }
      ]
    },
    {
      "cell_type": "code",
      "source": [
        "import nltk\n",
        "print(nltk.__version__) #must be 3.9.1"
      ],
      "metadata": {
        "colab": {
          "base_uri": "https://localhost:8080/"
        },
        "id": "eNgwfHlTcJHY",
        "outputId": "08e9ecee-e236-4a29-9038-4b11abeb80da"
      },
      "execution_count": 13,
      "outputs": [
        {
          "output_type": "stream",
          "name": "stdout",
          "text": [
            "3.9.1\n"
          ]
        }
      ]
    },
    {
      "cell_type": "code",
      "source": [
        "from unstructured.partition.pdf import partition_pdf\n",
        "\n",
        "# Specify the path to your PDF file\n",
        "filename = \"/content/gpt4all.pdf\"\n",
        "#path = \"images\"\n",
        "\n",
        "# Extract images, tables, and chunk text\n",
        "pdf_elements = partition_pdf(\n",
        "    filename=filename,\n",
        "    extract_images_in_pdf=False,\n",
        "    strategy = \"hi_res\",\n",
        "    hi_res_model_name=\"yolox\",\n",
        "    infer_table_structure=True,\n",
        "    chunking_strategy=\"by_title\",\n",
        "    max_characters=3000,\n",
        "    #new_after_n_chars=3800,\n",
        "    combine_text_under_n_chars=200,\n",
        "    #extract_image_block_output_dir=path,\n",
        ")"
      ],
      "metadata": {
        "id": "C1P73Beca6wU"
      },
      "execution_count": 14,
      "outputs": []
    },
    {
      "cell_type": "code",
      "source": [
        "# Create a dictionary to store counts of each type\n",
        "category_counts = {}\n",
        "\n",
        "for element in pdf_elements:\n",
        "    category = str(type(element))\n",
        "    if category in category_counts:\n",
        "        category_counts[category] += 1\n",
        "    else:\n",
        "        category_counts[category] = 1\n",
        "\n",
        "# Unique_categories will have unique elements\n",
        "unique_categories = set(category_counts.keys())\n",
        "category_counts"
      ],
      "metadata": {
        "colab": {
          "base_uri": "https://localhost:8080/"
        },
        "id": "pfhKK5pMcSmU",
        "outputId": "b27b04fb-9a05-4bf5-c6b5-d8a82bf22b4e"
      },
      "execution_count": 15,
      "outputs": [
        {
          "output_type": "execute_result",
          "data": {
            "text/plain": [
              "{\"<class 'unstructured.documents.elements.CompositeElement'>\": 15,\n",
              " \"<class 'unstructured.documents.elements.TableChunk'>\": 2}"
            ]
          },
          "metadata": {},
          "execution_count": 15
        }
      ]
    },
    {
      "cell_type": "code",
      "source": [
        "element_dict = [el.to_dict() for el in pdf_elements]\n",
        "\n",
        "unique_types = set()\n",
        "\n",
        "for item in element_dict:\n",
        "    unique_types.add(item['type'])\n",
        "\n",
        "print(unique_types)"
      ],
      "metadata": {
        "colab": {
          "base_uri": "https://localhost:8080/"
        },
        "id": "qKPnbK9_cSpN",
        "outputId": "a633aaa3-62bb-4bca-9184-cc34710921d9"
      },
      "execution_count": 16,
      "outputs": [
        {
          "output_type": "stream",
          "name": "stdout",
          "text": [
            "{'CompositeElement', 'Table'}\n"
          ]
        }
      ]
    },
    {
      "cell_type": "code",
      "source": [
        "# Extract images, tables, and chunk text\n",
        "pdf_elements = partition_pdf(\n",
        "    filename=filename,\n",
        "    extract_images_in_pdf=False,\n",
        "    strategy = \"hi_res\",\n",
        "    hi_res_model_name=\"yolox\",\n",
        "    infer_table_structure=True,\n",
        "    #chunking_strategy=\"by_title\",\n",
        "    max_characters=3000,\n",
        "    #new_after_n_chars=3800,\n",
        "    combine_text_under_n_chars=200,\n",
        "    #extract_image_block_output_dir=path,\n",
        ")\n",
        "\n",
        "for element in pdf_elements:\n",
        "    category = str(type(element))\n",
        "    if category in category_counts:\n",
        "        category_counts[category] += 1\n",
        "    else:\n",
        "        category_counts[category] = 1\n",
        "\n",
        "# Unique_categories will have unique elements\n",
        "unique_categories = set(category_counts.keys())\n",
        "print(category_counts)\n",
        "\n",
        "element_dict = [el.to_dict() for el in pdf_elements]\n",
        "\n",
        "unique_types = set()\n",
        "\n",
        "for item in element_dict:\n",
        "    unique_types.add(item['type'])\n",
        "\n",
        "print(unique_types)"
      ],
      "metadata": {
        "colab": {
          "base_uri": "https://localhost:8080/"
        },
        "id": "feIe1mBNcSrv",
        "outputId": "e7f19f9f-fd7d-46ab-8a38-f06e583d6768"
      },
      "execution_count": 17,
      "outputs": [
        {
          "output_type": "stream",
          "name": "stdout",
          "text": [
            "{\"<class 'unstructured.documents.elements.CompositeElement'>\": 15, \"<class 'unstructured.documents.elements.TableChunk'>\": 2, \"<class 'unstructured.documents.elements.Text'>\": 14, \"<class 'unstructured.documents.elements.Header'>\": 1, \"<class 'unstructured.documents.elements.Title'>\": 34, \"<class 'unstructured.documents.elements.EmailAddress'>\": 4, \"<class 'unstructured.documents.elements.NarrativeText'>\": 34, \"<class 'unstructured.documents.elements.Footer'>\": 1, \"<class 'unstructured.documents.elements.Image'>\": 5, \"<class 'unstructured.documents.elements.FigureCaption'>\": 2, \"<class 'unstructured.documents.elements.Table'>\": 1, \"<class 'unstructured.documents.elements.ListItem'>\": 29}\n",
            "{'UncategorizedText', 'FigureCaption', 'Header', 'ListItem', 'Table', 'Title', 'Footer', 'NarrativeText', 'Image', 'EmailAddress'}\n"
          ]
        }
      ]
    },
    {
      "cell_type": "code",
      "source": [
        "len(pdf_elements)"
      ],
      "metadata": {
        "colab": {
          "base_uri": "https://localhost:8080/"
        },
        "id": "2uNlNDsfff2h",
        "outputId": "e63699a8-f15c-4c18-c615-b79eb5631fc9"
      },
      "execution_count": 18,
      "outputs": [
        {
          "output_type": "execute_result",
          "data": {
            "text/plain": [
              "125"
            ]
          },
          "metadata": {},
          "execution_count": 18
        }
      ]
    },
    {
      "cell_type": "code",
      "source": [
        "pdf_elements[0].to_dict()"
      ],
      "metadata": {
        "colab": {
          "base_uri": "https://localhost:8080/"
        },
        "id": "xkFJVHVza6y5",
        "outputId": "04dcce8b-3fa9-4264-ebf6-24a98f85d00b"
      },
      "execution_count": 19,
      "outputs": [
        {
          "output_type": "execute_result",
          "data": {
            "text/plain": [
              "{'type': 'UncategorizedText',\n",
              " 'element_id': '27112c1430a5b5622e963badf8ded44e',\n",
              " 'text': '3',\n",
              " 'metadata': {'coordinates': {'points': ((45.388888888888886,\n",
              "     732.8055555555557),\n",
              "    (45.388888888888886, 760.5833333333335),\n",
              "    (100.94444444444446, 760.5833333333335),\n",
              "    (100.94444444444446, 732.8055555555557)),\n",
              "   'system': 'PixelSpace',\n",
              "   'layout_width': 1654,\n",
              "   'layout_height': 2339},\n",
              "  'last_modified': '2024-11-09T14:56:20',\n",
              "  'filetype': 'application/pdf',\n",
              "  'languages': ['eng'],\n",
              "  'page_number': 1,\n",
              "  'file_directory': '/content',\n",
              "  'filename': 'gpt4all.pdf'}}"
            ]
          },
          "metadata": {},
          "execution_count": 19
        }
      ]
    },
    {
      "cell_type": "code",
      "source": [
        "tables = [el for el in pdf_elements if el.category == \"Table\"]"
      ],
      "metadata": {
        "id": "qlcV--o8a61h"
      },
      "execution_count": 20,
      "outputs": []
    },
    {
      "cell_type": "code",
      "source": [
        "table_html = tables[0].metadata.text_as_html"
      ],
      "metadata": {
        "id": "eDuu55dMa63c"
      },
      "execution_count": 21,
      "outputs": []
    },
    {
      "cell_type": "code",
      "source": [
        "table_html = tables[0].metadata.text_as_html\n",
        "from io import StringIO\n",
        "from lxml import etree\n",
        "\n",
        "parser = etree.XMLParser(remove_blank_text=True)\n",
        "file_obj = StringIO(table_html)\n",
        "tree = etree.parse(file_obj, parser)\n",
        "print(etree.tostring(tree, pretty_print=True).decode())"
      ],
      "metadata": {
        "colab": {
          "base_uri": "https://localhost:8080/"
        },
        "id": "NaxsCELzdqHP",
        "outputId": "7a45e150-b918-4e56-ca69-645717835aff"
      },
      "execution_count": 22,
      "outputs": [
        {
          "output_type": "stream",
          "name": "stdout",
          "text": [
            "<table>\n",
            "  <thead>\n",
            "    <tr>\n",
            "      <th>Model</th>\n",
            "      <th>BoolQ</th>\n",
            "      <th>PIQA</th>\n",
            "      <th>HellaSwag</th>\n",
            "      <th>WinoG.</th>\n",
            "      <th>ARC-e</th>\n",
            "      <th>ARC-c</th>\n",
            "      <th>OBQA</th>\n",
            "      <th>Avg.</th>\n",
            "    </tr>\n",
            "  </thead>\n",
            "  <tbody>\n",
            "    <tr>\n",
            "      <td>GPT4AII-J 6B v1.0*</td>\n",
            "      <td>73.4</td>\n",
            "      <td>74.8</td>\n",
            "      <td>63.4</td>\n",
            "      <td>64.7</td>\n",
            "      <td>54.9</td>\n",
            "      <td>36</td>\n",
            "      <td>40.2</td>\n",
            "      <td>58.2</td>\n",
            "    </tr>\n",
            "    <tr>\n",
            "      <td>GPT4AIl-J v1.1-breezy*</td>\n",
            "      <td>74</td>\n",
            "      <td>75.1</td>\n",
            "      <td>63.2</td>\n",
            "      <td>63.6</td>\n",
            "      <td>55.4</td>\n",
            "      <td>34.9</td>\n",
            "      <td>38.4</td>\n",
            "      <td>57.8</td>\n",
            "    </tr>\n",
            "    <tr>\n",
            "      <td>GPT4AIl-J v1.2-jazzy*</td>\n",
            "      <td>74.8</td>\n",
            "      <td>74.9</td>\n",
            "      <td>63.6</td>\n",
            "      <td>63.8</td>\n",
            "      <td>56.6</td>\n",
            "      <td>35.3</td>\n",
            "      <td>41</td>\n",
            "      <td>58.6</td>\n",
            "    </tr>\n",
            "    <tr>\n",
            "      <td>GPT4AII-J v1.3-groovy*</td>\n",
            "      <td>73.6</td>\n",
            "      <td>74.3</td>\n",
            "      <td>63.8</td>\n",
            "      <td>63.5</td>\n",
            "      <td>57.7</td>\n",
            "      <td>35</td>\n",
            "      <td>38.8</td>\n",
            "      <td>58.1</td>\n",
            "    </tr>\n",
            "    <tr>\n",
            "      <td>GPT4AII-J Lora 6B*</td>\n",
            "      <td>68.6</td>\n",
            "      <td>75.8</td>\n",
            "      <td>66.2</td>\n",
            "      <td>63.5</td>\n",
            "      <td>56.4</td>\n",
            "      <td>35.7</td>\n",
            "      <td>40.2</td>\n",
            "      <td>58.1</td>\n",
            "    </tr>\n",
            "    <tr>\n",
            "      <td>GPT4All LLaMa Lora 7B*</td>\n",
            "      <td>73.1</td>\n",
            "      <td>77.6</td>\n",
            "      <td>72.1</td>\n",
            "      <td>67.8</td>\n",
            "      <td>SLI</td>\n",
            "      <td>40.4</td>\n",
            "      <td>40.2</td>\n",
            "      <td>60.3</td>\n",
            "    </tr>\n",
            "    <tr>\n",
            "      <td>GPT4AIll 13B snoozy*</td>\n",
            "      <td>83.3</td>\n",
            "      <td>79.2</td>\n",
            "      <td>75</td>\n",
            "      <td>71.3</td>\n",
            "      <td>60.9</td>\n",
            "      <td>44.2</td>\n",
            "      <td>43.4</td>\n",
            "      <td>65.3</td>\n",
            "    </tr>\n",
            "    <tr>\n",
            "      <td>GPT4All Falcon</td>\n",
            "      <td>771.6</td>\n",
            "      <td>79.8</td>\n",
            "      <td>74.9</td>\n",
            "      <td>70.1</td>\n",
            "      <td>67.9</td>\n",
            "      <td>43.4</td>\n",
            "      <td>42.6</td>\n",
            "      <td>65.2</td>\n",
            "    </tr>\n",
            "    <tr>\n",
            "      <td>Nous-Hermes (Nous-Research, 2023b)</td>\n",
            "      <td>79.5</td>\n",
            "      <td>78.9</td>\n",
            "      <td>80</td>\n",
            "      <td>71.9</td>\n",
            "      <td>74.2</td>\n",
            "      <td>50.9</td>\n",
            "      <td>46.4</td>\n",
            "      <td>68.8</td>\n",
            "    </tr>\n",
            "    <tr>\n",
            "      <td>Nous-Hermes2 (Nous-Research, 2023c)</td>\n",
            "      <td>83.9</td>\n",
            "      <td>80.7</td>\n",
            "      <td>80.1</td>\n",
            "      <td>71.3</td>\n",
            "      <td>75.7</td>\n",
            "      <td>52.1</td>\n",
            "      <td>46.2</td>\n",
            "      <td>70.0</td>\n",
            "    </tr>\n",
            "    <tr>\n",
            "      <td>Nous-Puffin (Nous-Research, 2023d)</td>\n",
            "      <td>81.5</td>\n",
            "      <td>80.7</td>\n",
            "      <td>80.4</td>\n",
            "      <td>72.5</td>\n",
            "      <td>77.6</td>\n",
            "      <td>50.7</td>\n",
            "      <td>45.6</td>\n",
            "      <td>69.9</td>\n",
            "    </tr>\n",
            "    <tr>\n",
            "      <td>6B* (Conover et al., 2023a)</td>\n",
            "      <td>68.8</td>\n",
            "      <td>77.3</td>\n",
            "      <td/>\n",
            "      <td>63.9</td>\n",
            "      <td>62.9</td>\n",
            "      <td>38.7</td>\n",
            "      <td>412</td>\n",
            "      <td>60.1</td>\n",
            "    </tr>\n",
            "    <tr>\n",
            "      <td>Dolly</td>\n",
            "      <td/>\n",
            "      <td/>\n",
            "      <td/>\n",
            "      <td/>\n",
            "      <td/>\n",
            "      <td/>\n",
            "      <td/>\n",
            "      <td/>\n",
            "    </tr>\n",
            "    <tr>\n",
            "      <td>Dolly 12B* (Conover et al., 2023b)</td>\n",
            "      <td>56.7</td>\n",
            "      <td>75.4</td>\n",
            "      <td/>\n",
            "      <td>62.2</td>\n",
            "      <td>64.6</td>\n",
            "      <td>38.5</td>\n",
            "      <td>40.4</td>\n",
            "      <td>58.4</td>\n",
            "    </tr>\n",
            "    <tr>\n",
            "      <td>Alpaca 7B* (Taori et al., 2023)</td>\n",
            "      <td>73.9</td>\n",
            "      <td>77.2</td>\n",
            "      <td/>\n",
            "      <td>66.1</td>\n",
            "      <td>59.8</td>\n",
            "      <td>43.3</td>\n",
            "      <td>43.4</td>\n",
            "      <td>62.5</td>\n",
            "    </tr>\n",
            "    <tr>\n",
            "      <td>Alpaca Lora 7B* (Wang, 2023)</td>\n",
            "      <td>74.3</td>\n",
            "      <td>79.3</td>\n",
            "      <td/>\n",
            "      <td>68.8</td>\n",
            "      <td>56.6</td>\n",
            "      <td>43.9</td>\n",
            "      <td>42.6</td>\n",
            "      <td>62.8</td>\n",
            "    </tr>\n",
            "    <tr>\n",
            "      <td>GPT-J* 6.7B and Komatsuzaki,</td>\n",
            "      <td>65.4</td>\n",
            "      <td>76.2</td>\n",
            "      <td/>\n",
            "      <td>64.1</td>\n",
            "      <td>62.2</td>\n",
            "      <td>36.6</td>\n",
            "      <td>38.2</td>\n",
            "      <td>58.4</td>\n",
            "    </tr>\n",
            "    <tr>\n",
            "      <td>(Wang 2021)</td>\n",
            "      <td/>\n",
            "      <td/>\n",
            "      <td/>\n",
            "      <td/>\n",
            "      <td/>\n",
            "      <td/>\n",
            "      <td/>\n",
            "      <td/>\n",
            "    </tr>\n",
            "    <tr>\n",
            "      <td>LLama 7B* (Touvron et al., 2023)</td>\n",
            "      <td>73.1</td>\n",
            "      <td>714</td>\n",
            "      <td/>\n",
            "      <td>66.9</td>\n",
            "      <td>52.5</td>\n",
            "      <td>41.4</td>\n",
            "      <td>42.4</td>\n",
            "      <td>61.0</td>\n",
            "    </tr>\n",
            "    <tr>\n",
            "      <td>LLama 13B* (Touvron et al., 2023)</td>\n",
            "      <td>68.5</td>\n",
            "      <td>79.1</td>\n",
            "      <td/>\n",
            "      <td>70.1</td>\n",
            "      <td>60</td>\n",
            "      <td>44.6</td>\n",
            "      <td>42.2</td>\n",
            "      <td>63.0</td>\n",
            "    </tr>\n",
            "    <tr>\n",
            "      <td>Pythia 6.7B* (Biderman et al., 2023)</td>\n",
            "      <td>63.5</td>\n",
            "      <td>76.3</td>\n",
            "      <td/>\n",
            "      <td>61.1</td>\n",
            "      <td>61.3</td>\n",
            "      <td>35.2</td>\n",
            "      <td>37.2</td>\n",
            "      <td>56.9</td>\n",
            "    </tr>\n",
            "    <tr>\n",
            "      <td>Pythia 12B* (Biderman et al., 2023)</td>\n",
            "      <td>67.7</td>\n",
            "      <td>76.6</td>\n",
            "      <td/>\n",
            "      <td>63.8</td>\n",
            "      <td>63.9</td>\n",
            "      <td>34.8</td>\n",
            "      <td>38</td>\n",
            "      <td>58.9</td>\n",
            "    </tr>\n",
            "    <tr>\n",
            "      <td>Fastchat T5* (Zheng et al., 2023)</td>\n",
            "      <td>81.5</td>\n",
            "      <td>64.6</td>\n",
            "      <td/>\n",
            "      <td>61.8</td>\n",
            "      <td>49.3</td>\n",
            "      <td>33.3</td>\n",
            "      <td>39.4</td>\n",
            "      <td>53.7</td>\n",
            "    </tr>\n",
            "    <tr>\n",
            "      <td>Fastchat Vicufia* 7B (Zheng et al., 2023)</td>\n",
            "      <td>76.6</td>\n",
            "      <td>77.2</td>\n",
            "      <td/>\n",
            "      <td>67.3</td>\n",
            "      <td>53.5</td>\n",
            "      <td>41.2</td>\n",
            "      <td>40.8</td>\n",
            "      <td>61.0</td>\n",
            "    </tr>\n",
            "    <tr>\n",
            "      <td>Fastchat Vicufia 13B* et al., 2023)</td>\n",
            "      <td>81.5</td>\n",
            "      <td>76.8</td>\n",
            "      <td/>\n",
            "      <td>66.7</td>\n",
            "      <td>57.4</td>\n",
            "      <td>42.7</td>\n",
            "      <td>43.6</td>\n",
            "      <td>63.1</td>\n",
            "    </tr>\n",
            "    <tr>\n",
            "      <td>(Zheng</td>\n",
            "      <td/>\n",
            "      <td/>\n",
            "      <td/>\n",
            "      <td/>\n",
            "      <td/>\n",
            "      <td/>\n",
            "      <td/>\n",
            "      <td/>\n",
            "    </tr>\n",
            "    <tr>\n",
            "      <td>StableVicufia RLHF* (Stability-AI, 2023)</td>\n",
            "      <td>82.3</td>\n",
            "      <td>78.6</td>\n",
            "      <td/>\n",
            "      <td>70.9</td>\n",
            "      <td>61</td>\n",
            "      <td>43.5</td>\n",
            "      <td>44.4</td>\n",
            "      <td>65.0</td>\n",
            "    </tr>\n",
            "    <tr>\n",
            "      <td>StableLM Tuned* (Stability-AI, 2023)</td>\n",
            "      <td>62.5</td>\n",
            "      <td>71.2</td>\n",
            "      <td/>\n",
            "      <td>54.8</td>\n",
            "      <td>52.4</td>\n",
            "      <td>31.1</td>\n",
            "      <td>33.4</td>\n",
            "      <td>51.3</td>\n",
            "    </tr>\n",
            "    <tr>\n",
            "      <td>StableLM Base* (Stability-AI, 2023)</td>\n",
            "      <td>60.1</td>\n",
            "      <td>67.4</td>\n",
            "      <td/>\n",
            "      <td>50.1</td>\n",
            "      <td>44.9</td>\n",
            "      <td>27</td>\n",
            "      <td>32</td>\n",
            "      <td>46.1</td>\n",
            "    </tr>\n",
            "    <tr>\n",
            "      <td>Koala 13B* (Geng et al., 2023)</td>\n",
            "      <td>76.5</td>\n",
            "      <td>7719</td>\n",
            "      <td/>\n",
            "      <td>68.8</td>\n",
            "      <td>54.3</td>\n",
            "      <td>4l</td>\n",
            "      <td>42.8</td>\n",
            "      <td>62.0</td>\n",
            "    </tr>\n",
            "    <tr>\n",
            "      <td>Open Assistant Pythia 12B*</td>\n",
            "      <td>67.9</td>\n",
            "      <td>78</td>\n",
            "      <td/>\n",
            "      <td>65</td>\n",
            "      <td>64.2</td>\n",
            "      <td>40.4</td>\n",
            "      <td>43.2</td>\n",
            "      <td>61.0</td>\n",
            "    </tr>\n",
            "    <tr>\n",
            "      <td>Mosaic MPT7B (MosaicML-Team, 2023)</td>\n",
            "      <td>74.8</td>\n",
            "      <td>79.3</td>\n",
            "      <td/>\n",
            "      <td>68.6</td>\n",
            "      <td>70</td>\n",
            "      <td>42.2</td>\n",
            "      <td>42.6</td>\n",
            "      <td>64.8</td>\n",
            "    </tr>\n",
            "    <tr>\n",
            "      <td>Mosaic mpt-instruct (MosaicML-Team, 2023)</td>\n",
            "      <td>74.3</td>\n",
            "      <td>80.4</td>\n",
            "      <td/>\n",
            "      <td>67.8</td>\n",
            "      <td>72.2</td>\n",
            "      <td>44.6</td>\n",
            "      <td>4B</td>\n",
            "      <td>65.6</td>\n",
            "    </tr>\n",
            "    <tr>\n",
            "      <td>Mosaic mpt-chat (MosaicML-Team, 2023)</td>\n",
            "      <td>771</td>\n",
            "      <td>78.2</td>\n",
            "      <td/>\n",
            "      <td>67.5</td>\n",
            "      <td>69.4</td>\n",
            "      <td>43.3</td>\n",
            "      <td>44.2</td>\n",
            "      <td>64.9</td>\n",
            "    </tr>\n",
            "    <tr>\n",
            "      <td>Wizard 7B (Xu et al., 2023)</td>\n",
            "      <td>78.4</td>\n",
            "      <td>77.2</td>\n",
            "      <td/>\n",
            "      <td>66.5</td>\n",
            "      <td>56.8</td>\n",
            "      <td>40.5</td>\n",
            "      <td>42.6</td>\n",
            "      <td>61.7</td>\n",
            "    </tr>\n",
            "    <tr>\n",
            "      <td>Wizard 7B Uncensored (Xu et al., 2023)</td>\n",
            "      <td>717</td>\n",
            "      <td>74.2</td>\n",
            "      <td/>\n",
            "      <td>65.2</td>\n",
            "      <td>53.5</td>\n",
            "      <td>38.7</td>\n",
            "      <td>41.6</td>\n",
            "      <td>59.8</td>\n",
            "    </tr>\n",
            "    <tr>\n",
            "      <td>Wizard 13B Uncensored (Xu et al., 2023)</td>\n",
            "      <td>78.4</td>\n",
            "      <td>75.5</td>\n",
            "      <td/>\n",
            "      <td>69.5</td>\n",
            "      <td>57.5</td>\n",
            "      <td>40.4</td>\n",
            "      <td>44</td>\n",
            "      <td>62.5</td>\n",
            "    </tr>\n",
            "    <tr>\n",
            "      <td>GPT4-x-Vicuna-13b (Nous-Research, 2023a)</td>\n",
            "      <td>81.3</td>\n",
            "      <td>75</td>\n",
            "      <td/>\n",
            "      <td>65</td>\n",
            "      <td>58.7</td>\n",
            "      <td>43.9</td>\n",
            "      <td>43.6</td>\n",
            "      <td>63.2</td>\n",
            "    </tr>\n",
            "    <tr>\n",
            "      <td>Falcon 7b (Almazrouei et al., 2023)</td>\n",
            "      <td>73.6</td>\n",
            "      <td>80.7</td>\n",
            "      <td/>\n",
            "      <td>67.3</td>\n",
            "      <td>71</td>\n",
            "      <td>43.3</td>\n",
            "      <td>44.4</td>\n",
            "      <td>65.2</td>\n",
            "    </tr>\n",
            "    <tr>\n",
            "      <td>Falcon 7b instruct (Almazrouei et al., 2023)</td>\n",
            "      <td>70.9</td>\n",
            "      <td>78.6</td>\n",
            "      <td/>\n",
            "      <td>66.7</td>\n",
            "      <td>67.9</td>\n",
            "      <td>42.7</td>\n",
            "      <td>412</td>\n",
            "      <td>62.5</td>\n",
            "    </tr>\n",
            "  </tbody>\n",
            "</table>\n",
            "\n"
          ]
        }
      ]
    },
    {
      "cell_type": "code",
      "source": [
        "# Find the element with text \"References\" and category \"Title\"\n",
        "reference_title = [\n",
        "    el for el in pdf_elements\n",
        "    if el.text == \"References\"\n",
        "    and el.category == \"Title\"\n",
        "][0]"
      ],
      "metadata": {
        "id": "RaRSbGDpdqKG"
      },
      "execution_count": 23,
      "outputs": []
    },
    {
      "cell_type": "code",
      "source": [
        "reference_title.to_dict()"
      ],
      "metadata": {
        "colab": {
          "base_uri": "https://localhost:8080/"
        },
        "id": "m__IOnmndqM5",
        "outputId": "4cee9c47-c551-4f82-e4b7-02bfd6b898a7"
      },
      "execution_count": 24,
      "outputs": [
        {
          "output_type": "execute_result",
          "data": {
            "text/plain": [
              "{'type': 'Title',\n",
              " 'element_id': 'd3f115969fa159c8ae83287b2de7a62e',\n",
              " 'text': 'References',\n",
              " 'metadata': {'detection_class_prob': 0.8571382164955139,\n",
              "  'coordinates': {'points': ((196.85, 199.78396606445312),\n",
              "    (196.85, 235.40411376953125),\n",
              "    (351.13720722222223, 235.40411376953125),\n",
              "    (351.13720722222223, 199.78396606445312)),\n",
              "   'system': 'PixelSpace',\n",
              "   'layout_width': 1654,\n",
              "   'layout_height': 2339},\n",
              "  'last_modified': '2024-11-09T14:56:20',\n",
              "  'filetype': 'application/pdf',\n",
              "  'languages': ['eng'],\n",
              "  'page_number': 5,\n",
              "  'file_directory': '/content',\n",
              "  'filename': 'gpt4all.pdf'}}"
            ]
          },
          "metadata": {},
          "execution_count": 24
        }
      ]
    },
    {
      "cell_type": "code",
      "source": [
        "# Get the ID of the reference title element\n",
        "references_id = reference_title.id"
      ],
      "metadata": {
        "id": "PMKnpgKleHTL"
      },
      "execution_count": 25,
      "outputs": []
    },
    {
      "cell_type": "code",
      "source": [
        "references_id"
      ],
      "metadata": {
        "colab": {
          "base_uri": "https://localhost:8080/",
          "height": 35
        },
        "id": "NPwHsB3UfQgJ",
        "outputId": "5565d16f-3c55-4fd9-8642-cc3cb4202968"
      },
      "execution_count": 26,
      "outputs": [
        {
          "output_type": "execute_result",
          "data": {
            "text/plain": [
              "'d3f115969fa159c8ae83287b2de7a62e'"
            ],
            "application/vnd.google.colaboratory.intrinsic+json": {
              "type": "string"
            }
          },
          "metadata": {},
          "execution_count": 26
        }
      ]
    },
    {
      "cell_type": "code",
      "source": [
        "for element in pdf_elements:\n",
        "    if element.metadata.parent_id == references_id:\n",
        "        print(element)\n",
        "        break"
      ],
      "metadata": {
        "colab": {
          "base_uri": "https://localhost:8080/"
        },
        "id": "GVtfSBtWeU2o",
        "outputId": "f0c7db44-5069-434b-f284-df029b204405"
      },
      "execution_count": 27,
      "outputs": [
        {
          "output_type": "stream",
          "name": "stdout",
          "text": [
            "Nomic AI. 2023. Atlas. https://atlas.nomic.ai/.\n"
          ]
        }
      ]
    },
    {
      "cell_type": "code",
      "source": [
        "# Filter out elements with a parent_id matching references_id\n",
        "pdf_elements = [el for el in pdf_elements if el.metadata.parent_id != references_id]"
      ],
      "metadata": {
        "id": "ak3XeNvfeU5n"
      },
      "execution_count": 28,
      "outputs": []
    },
    {
      "cell_type": "code",
      "source": [
        "headers = [el for el in pdf_elements if el.category == \"Header\"]"
      ],
      "metadata": {
        "id": "bKnUj3bSeU8f"
      },
      "execution_count": 30,
      "outputs": []
    },
    {
      "cell_type": "code",
      "source": [
        "len(headers)"
      ],
      "metadata": {
        "colab": {
          "base_uri": "https://localhost:8080/"
        },
        "id": "RyxVWqTDfuH-",
        "outputId": "66db7a22-f6f6-4ff5-a57a-5cc27c256f40"
      },
      "execution_count": 31,
      "outputs": [
        {
          "output_type": "execute_result",
          "data": {
            "text/plain": [
              "1"
            ]
          },
          "metadata": {},
          "execution_count": 31
        }
      ]
    },
    {
      "cell_type": "code",
      "source": [
        "headers[0].to_dict()"
      ],
      "metadata": {
        "colab": {
          "base_uri": "https://localhost:8080/"
        },
        "id": "YXvocR19fuLF",
        "outputId": "229124c9-1413-4a24-caa1-f023dd1ef0a5"
      },
      "execution_count": 33,
      "outputs": [
        {
          "output_type": "execute_result",
          "data": {
            "text/plain": [
              "{'type': 'Header',\n",
              " 'element_id': '5fea6da62d2667f5b006561b6ada0c46',\n",
              " 'text': '2 v o N 6 ] L C . s c [ 1 v 1 3 9 4 0 . 1 1 3 2',\n",
              " 'metadata': {'detection_class_prob': 0.5669687390327454,\n",
              "  'coordinates': {'points': ((45.388888888888886, 808.9898071289062),\n",
              "    (45.388888888888886, 1545.0775146484375),\n",
              "    (100.94444444444446, 1545.0775146484375),\n",
              "    (100.94444444444446, 808.9898071289062)),\n",
              "   'system': 'PixelSpace',\n",
              "   'layout_width': 1654,\n",
              "   'layout_height': 2339},\n",
              "  'last_modified': '2024-11-09T14:56:20',\n",
              "  'filetype': 'application/pdf',\n",
              "  'languages': ['eng'],\n",
              "  'page_number': 1,\n",
              "  'file_directory': '/content',\n",
              "  'filename': 'gpt4all.pdf'}}"
            ]
          },
          "metadata": {},
          "execution_count": 33
        }
      ]
    },
    {
      "cell_type": "code",
      "source": [
        "# Filters out elements from the `pdf_elements` list that have the category \"Header\".\n",
        "pdf_elements = [el for el in pdf_elements if el.category != \"Header\"]"
      ],
      "metadata": {
        "id": "HTKE3uGyfxCC"
      },
      "execution_count": 34,
      "outputs": []
    },
    {
      "cell_type": "code",
      "source": [
        "len(pdf_elements)"
      ],
      "metadata": {
        "colab": {
          "base_uri": "https://localhost:8080/"
        },
        "id": "_s8WA7w-gLKu",
        "outputId": "87751123-dd8b-419f-c459-571b1199e766"
      },
      "execution_count": 35,
      "outputs": [
        {
          "output_type": "execute_result",
          "data": {
            "text/plain": [
              "92"
            ]
          },
          "metadata": {},
          "execution_count": 35
        }
      ]
    },
    {
      "cell_type": "code",
      "source": [
        "# lets again see some random index\n",
        "pdf_elements[33].to_dict()"
      ],
      "metadata": {
        "colab": {
          "base_uri": "https://localhost:8080/"
        },
        "id": "g6tQarWegLNu",
        "outputId": "da926298-ea9f-4597-edbc-7b57246f67ab"
      },
      "execution_count": 36,
      "outputs": [
        {
          "output_type": "execute_result",
          "data": {
            "text/plain": [
              "{'type': 'NarrativeText',\n",
              " 'element_id': '26b658df23e74cc6c837451f59180d06',\n",
              " 'text': 'Large language models (LLMs) have recently achieved human-level performance on a range of professional and academic benchmarks. The accessibility of these models has lagged behind their performance. State-of-the-art LLMs re- quire costly infrastructure; are only accessible via rate-limited, geo-locked, and censored web interfaces; and lack publicly available code and technical reports.',\n",
              " 'metadata': {'detection_class_prob': 0.9421735405921936,\n",
              "  'coordinates': {'points': ((243.40277777777777, 920.7620044444442),\n",
              "    (243.40277777777777, 1214.1053377777775),\n",
              "    (761.8583984375, 1214.1053377777775),\n",
              "    (761.8583984375, 920.7620044444442)),\n",
              "   'system': 'PixelSpace',\n",
              "   'layout_width': 1654,\n",
              "   'layout_height': 2339},\n",
              "  'last_modified': '2024-11-09T14:56:20',\n",
              "  'filetype': 'application/pdf',\n",
              "  'languages': ['eng'],\n",
              "  'page_number': 1,\n",
              "  'parent_id': 'ef299cc63d1bd25691568b2eb9efea97',\n",
              "  'file_directory': '/content',\n",
              "  'filename': 'gpt4all.pdf'}}"
            ]
          },
          "metadata": {},
          "execution_count": 36
        }
      ]
    },
    {
      "cell_type": "markdown",
      "source": [
        "## Preprocess the markdown file"
      ],
      "metadata": {
        "id": "_XizUZGqhALW"
      }
    },
    {
      "cell_type": "code",
      "source": [
        "filename_md = \"/content/uber_10q_march_2022.md\""
      ],
      "metadata": {
        "id": "gJnHGfMwhErG"
      },
      "execution_count": 37,
      "outputs": []
    },
    {
      "cell_type": "code",
      "source": [
        "md_elements = partition_md(filename=filename_md)"
      ],
      "metadata": {
        "id": "fbj69oOThPHc"
      },
      "execution_count": 38,
      "outputs": []
    },
    {
      "cell_type": "code",
      "source": [
        "# lets again see some random index\n",
        "md_elements[33].to_dict(), pdf_elements[33].to_dict()"
      ],
      "metadata": {
        "colab": {
          "base_uri": "https://localhost:8080/"
        },
        "id": "8BbNO3eqhPKk",
        "outputId": "c07d0f32-daa5-4fbd-e369-1dbfd018a03f"
      },
      "execution_count": 39,
      "outputs": [
        {
          "output_type": "execute_result",
          "data": {
            "text/plain": [
              "({'type': 'Title',\n",
              "  'element_id': 'd7e7b8d880ae1ff8fd2f389fd1f21329',\n",
              "  'text': 'PART I - FINANCIAL INFORMATION',\n",
              "  'metadata': {'category_depth': 1,\n",
              "   'languages': ['eng'],\n",
              "   'file_directory': '/content',\n",
              "   'filename': 'uber_10q_march_2022.md',\n",
              "   'filetype': 'text/markdown',\n",
              "   'last_modified': '2024-11-09T15:22:05',\n",
              "   'parent_id': '868036a9751d25abada9c8d4ee8a0694'}},\n",
              " {'type': 'NarrativeText',\n",
              "  'element_id': '26b658df23e74cc6c837451f59180d06',\n",
              "  'text': 'Large language models (LLMs) have recently achieved human-level performance on a range of professional and academic benchmarks. The accessibility of these models has lagged behind their performance. State-of-the-art LLMs re- quire costly infrastructure; are only accessible via rate-limited, geo-locked, and censored web interfaces; and lack publicly available code and technical reports.',\n",
              "  'metadata': {'detection_class_prob': 0.9421735405921936,\n",
              "   'coordinates': {'points': ((243.40277777777777, 920.7620044444442),\n",
              "     (243.40277777777777, 1214.1053377777775),\n",
              "     (761.8583984375, 1214.1053377777775),\n",
              "     (761.8583984375, 920.7620044444442)),\n",
              "    'system': 'PixelSpace',\n",
              "    'layout_width': 1654,\n",
              "    'layout_height': 2339},\n",
              "   'last_modified': '2024-11-09T14:56:20',\n",
              "   'filetype': 'application/pdf',\n",
              "   'languages': ['eng'],\n",
              "   'page_number': 1,\n",
              "   'parent_id': 'ef299cc63d1bd25691568b2eb9efea97',\n",
              "   'file_directory': '/content',\n",
              "   'filename': 'gpt4all.pdf'}})"
            ]
          },
          "metadata": {},
          "execution_count": 39
        }
      ]
    },
    {
      "cell_type": "code",
      "source": [
        "len(pdf_elements), len(md_elements)"
      ],
      "metadata": {
        "colab": {
          "base_uri": "https://localhost:8080/"
        },
        "id": "4Ubpom0AhPMz",
        "outputId": "5d0638ab-cfe1-4be1-a853-be70e0e69074"
      },
      "execution_count": 40,
      "outputs": [
        {
          "output_type": "execute_result",
          "data": {
            "text/plain": [
              "(92, 1510)"
            ]
          },
          "metadata": {},
          "execution_count": 40
        }
      ]
    },
    {
      "cell_type": "code",
      "source": [
        "elements = chunk_by_title(pdf_elements + md_elements) # you can play around with the chunk_by_title arguments"
      ],
      "metadata": {
        "id": "WPhn1y9jhPPO"
      },
      "execution_count": 41,
      "outputs": []
    },
    {
      "cell_type": "code",
      "source": [
        "len(elements)"
      ],
      "metadata": {
        "colab": {
          "base_uri": "https://localhost:8080/"
        },
        "id": "wHabF0eghPR1",
        "outputId": "77b891b7-6718-439d-f379-961f5834f3fc"
      },
      "execution_count": 42,
      "outputs": [
        {
          "output_type": "execute_result",
          "data": {
            "text/plain": [
              "737"
            ]
          },
          "metadata": {},
          "execution_count": 42
        }
      ]
    },
    {
      "cell_type": "code",
      "source": [
        "pdf_elements[0].to_dict()"
      ],
      "metadata": {
        "colab": {
          "base_uri": "https://localhost:8080/"
        },
        "id": "WaA66fuTi6mz",
        "outputId": "593ce944-b21f-4c21-b208-6312b7289b84"
      },
      "execution_count": 43,
      "outputs": [
        {
          "output_type": "execute_result",
          "data": {
            "text/plain": [
              "{'type': 'UncategorizedText',\n",
              " 'element_id': '27112c1430a5b5622e963badf8ded44e',\n",
              " 'text': '3',\n",
              " 'metadata': {'coordinates': {'points': ((45.388888888888886,\n",
              "     732.8055555555557),\n",
              "    (45.388888888888886, 760.5833333333335),\n",
              "    (100.94444444444446, 760.5833333333335),\n",
              "    (100.94444444444446, 732.8055555555557)),\n",
              "   'system': 'PixelSpace',\n",
              "   'layout_width': 1654,\n",
              "   'layout_height': 2339},\n",
              "  'last_modified': '2024-11-09T14:56:20',\n",
              "  'filetype': 'application/pdf',\n",
              "  'languages': ['eng'],\n",
              "  'page_number': 1,\n",
              "  'file_directory': '/content',\n",
              "  'filename': 'gpt4all.pdf'}}"
            ]
          },
          "metadata": {},
          "execution_count": 43
        }
      ]
    },
    {
      "cell_type": "code",
      "source": [
        "pdf_elements[1].to_dict()"
      ],
      "metadata": {
        "colab": {
          "base_uri": "https://localhost:8080/"
        },
        "id": "4Z8pZniKi-jS",
        "outputId": "c6b20c20-c9bb-4198-c9f0-c5c665edda1b"
      },
      "execution_count": 44,
      "outputs": [
        {
          "output_type": "execute_result",
          "data": {
            "text/plain": [
              "{'type': 'UncategorizedText',\n",
              " 'element_id': 'f1d391632cea8ffe4bc7ec34590c6f6b',\n",
              " 'text': '2023',\n",
              " 'metadata': {'coordinates': {'points': ((51.0, 735.0),\n",
              "    (51.0, 840.0),\n",
              "    (88.0, 840.0),\n",
              "    (88.0, 735.0)),\n",
              "   'system': 'PixelSpace',\n",
              "   'layout_width': 1654,\n",
              "   'layout_height': 2339},\n",
              "  'last_modified': '2024-11-09T14:56:20',\n",
              "  'filetype': 'application/pdf',\n",
              "  'languages': ['eng'],\n",
              "  'page_number': 1,\n",
              "  'file_directory': '/content',\n",
              "  'filename': 'gpt4all.pdf'}}"
            ]
          },
          "metadata": {},
          "execution_count": 44
        }
      ]
    },
    {
      "cell_type": "code",
      "source": [
        "elements[0].to_dict()"
      ],
      "metadata": {
        "colab": {
          "base_uri": "https://localhost:8080/"
        },
        "id": "k4HP6RFYi-mz",
        "outputId": "6790fa08-4373-4977-d3bd-d07fdf6b6687"
      },
      "execution_count": 45,
      "outputs": [
        {
          "output_type": "execute_result",
          "data": {
            "text/plain": [
              "{'type': 'CompositeElement',\n",
              " 'element_id': 'ecbe1f24-e1d5-4101-9c4f-8e16b03ae648',\n",
              " 'text': '3\\n\\n2023\\n\\n2\\n\\n0\\n\\n:\\n\\nv\\n\\narXiv\\n\\ni\\n\\nX\\n\\nr\\n\\na\\n\\nGPT4All: An Ecosystem of Open Source Compressed Language Models\\n\\nYuvanesh Anand\\n\\nNomic AI\\n\\nyuvanesh@nomic.ai\\n\\nZach Nussbaum\\n\\nNomic AI\\n\\nzach@nomic.ai\\n\\nAdam Treat\\n\\nNomic AI\\n\\nadam@nomic.ai\\n\\nAaron Miller Nomic AI aaron@nomic.ai\\n\\nRichard Guo\\n\\nNomic AI\\n\\nrichard@nomic.ai\\n\\nBen Schmidt Nomic AI ben@nomic.ai\\n\\nGPT4All Community\\n\\nPlanet Earth\\n\\nBrandon Duderstadt∗\\n\\nNomic AI brandon@nomic.ai\\n\\nAndriy Mulyar∗\\n\\nNomic AI andriy@nomic.ai',\n",
              " 'metadata': {'file_directory': '/content',\n",
              "  'filename': 'gpt4all.pdf',\n",
              "  'filetype': 'application/pdf',\n",
              "  'languages': ['eng'],\n",
              "  'last_modified': '2024-11-09T14:56:20',\n",
              "  'page_number': 1,\n",
              "  'orig_elements': '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'}}"
            ]
          },
          "metadata": {},
          "execution_count": 45
        }
      ]
    },
    {
      "cell_type": "code",
      "source": [
        "!pip install langchain_community"
      ],
      "metadata": {
        "colab": {
          "base_uri": "https://localhost:8080/"
        },
        "collapsed": true,
        "id": "TTPcFmsJksrP",
        "outputId": "3975fc82-e224-4bcb-d2c5-1356a072869e"
      },
      "execution_count": 46,
      "outputs": [
        {
          "output_type": "stream",
          "name": "stdout",
          "text": [
            "Requirement already satisfied: langchain_community in /usr/local/lib/python3.10/dist-packages (0.3.5)\n",
            "Requirement already satisfied: PyYAML>=5.3 in /usr/local/lib/python3.10/dist-packages (from langchain_community) (6.0.2)\n",
            "Requirement already satisfied: SQLAlchemy<2.0.36,>=1.4 in /usr/local/lib/python3.10/dist-packages (from langchain_community) (2.0.35)\n",
            "Requirement already satisfied: aiohttp<4.0.0,>=3.8.3 in /usr/local/lib/python3.10/dist-packages (from langchain_community) (3.10.10)\n",
            "Requirement already satisfied: dataclasses-json<0.7,>=0.5.7 in /usr/local/lib/python3.10/dist-packages (from langchain_community) (0.6.7)\n",
            "Requirement already satisfied: httpx-sse<0.5.0,>=0.4.0 in /usr/local/lib/python3.10/dist-packages (from langchain_community) (0.4.0)\n",
            "Requirement already satisfied: langchain<0.4.0,>=0.3.6 in /usr/local/lib/python3.10/dist-packages (from langchain_community) (0.3.7)\n",
            "Requirement already satisfied: langchain-core<0.4.0,>=0.3.15 in /usr/local/lib/python3.10/dist-packages (from langchain_community) (0.3.15)\n",
            "Requirement already satisfied: langsmith<0.2.0,>=0.1.125 in /usr/local/lib/python3.10/dist-packages (from langchain_community) (0.1.137)\n",
            "Requirement already satisfied: numpy<2,>=1 in /usr/local/lib/python3.10/dist-packages (from langchain_community) (1.26.4)\n",
            "Requirement already satisfied: pydantic-settings<3.0.0,>=2.4.0 in /usr/local/lib/python3.10/dist-packages (from langchain_community) (2.6.1)\n",
            "Requirement already satisfied: requests<3,>=2 in /usr/local/lib/python3.10/dist-packages (from langchain_community) (2.32.3)\n",
            "Requirement already satisfied: tenacity!=8.4.0,<10,>=8.1.0 in /usr/local/lib/python3.10/dist-packages (from langchain_community) (9.0.0)\n",
            "Requirement already satisfied: aiohappyeyeballs>=2.3.0 in /usr/local/lib/python3.10/dist-packages (from aiohttp<4.0.0,>=3.8.3->langchain_community) (2.4.3)\n",
            "Requirement already satisfied: aiosignal>=1.1.2 in /usr/local/lib/python3.10/dist-packages (from aiohttp<4.0.0,>=3.8.3->langchain_community) (1.3.1)\n",
            "Requirement already satisfied: attrs>=17.3.0 in /usr/local/lib/python3.10/dist-packages (from aiohttp<4.0.0,>=3.8.3->langchain_community) (24.2.0)\n",
            "Requirement already satisfied: frozenlist>=1.1.1 in /usr/local/lib/python3.10/dist-packages (from aiohttp<4.0.0,>=3.8.3->langchain_community) (1.5.0)\n",
            "Requirement already satisfied: multidict<7.0,>=4.5 in /usr/local/lib/python3.10/dist-packages (from aiohttp<4.0.0,>=3.8.3->langchain_community) (6.1.0)\n",
            "Requirement already satisfied: yarl<2.0,>=1.12.0 in /usr/local/lib/python3.10/dist-packages (from aiohttp<4.0.0,>=3.8.3->langchain_community) (1.17.0)\n",
            "Requirement already satisfied: async-timeout<5.0,>=4.0 in /usr/local/lib/python3.10/dist-packages (from aiohttp<4.0.0,>=3.8.3->langchain_community) (4.0.3)\n",
            "Requirement already satisfied: marshmallow<4.0.0,>=3.18.0 in /usr/local/lib/python3.10/dist-packages (from dataclasses-json<0.7,>=0.5.7->langchain_community) (3.23.1)\n",
            "Requirement already satisfied: typing-inspect<1,>=0.4.0 in /usr/local/lib/python3.10/dist-packages (from dataclasses-json<0.7,>=0.5.7->langchain_community) (0.9.0)\n",
            "Requirement already satisfied: langchain-text-splitters<0.4.0,>=0.3.0 in /usr/local/lib/python3.10/dist-packages (from langchain<0.4.0,>=0.3.6->langchain_community) (0.3.0)\n",
            "Requirement already satisfied: pydantic<3.0.0,>=2.7.4 in /usr/local/lib/python3.10/dist-packages (from langchain<0.4.0,>=0.3.6->langchain_community) (2.9.2)\n",
            "Requirement already satisfied: jsonpatch<2.0,>=1.33 in /usr/local/lib/python3.10/dist-packages (from langchain-core<0.4.0,>=0.3.15->langchain_community) (1.33)\n",
            "Requirement already satisfied: packaging<25,>=23.2 in /usr/local/lib/python3.10/dist-packages (from langchain-core<0.4.0,>=0.3.15->langchain_community) (24.1)\n",
            "Requirement already satisfied: typing-extensions>=4.7 in /usr/local/lib/python3.10/dist-packages (from langchain-core<0.4.0,>=0.3.15->langchain_community) (4.12.2)\n",
            "Requirement already satisfied: httpx<1,>=0.23.0 in /usr/local/lib/python3.10/dist-packages (from langsmith<0.2.0,>=0.1.125->langchain_community) (0.27.2)\n",
            "Requirement already satisfied: orjson<4.0.0,>=3.9.14 in /usr/local/lib/python3.10/dist-packages (from langsmith<0.2.0,>=0.1.125->langchain_community) (3.10.10)\n",
            "Requirement already satisfied: requests-toolbelt<2.0.0,>=1.0.0 in /usr/local/lib/python3.10/dist-packages (from langsmith<0.2.0,>=0.1.125->langchain_community) (1.0.0)\n",
            "Requirement already satisfied: python-dotenv>=0.21.0 in /usr/local/lib/python3.10/dist-packages (from pydantic-settings<3.0.0,>=2.4.0->langchain_community) (1.0.1)\n",
            "Requirement already satisfied: charset-normalizer<4,>=2 in /usr/local/lib/python3.10/dist-packages (from requests<3,>=2->langchain_community) (3.4.0)\n",
            "Requirement already satisfied: idna<4,>=2.5 in /usr/local/lib/python3.10/dist-packages (from requests<3,>=2->langchain_community) (3.10)\n",
            "Requirement already satisfied: urllib3<3,>=1.21.1 in /usr/local/lib/python3.10/dist-packages (from requests<3,>=2->langchain_community) (2.2.3)\n",
            "Requirement already satisfied: certifi>=2017.4.17 in /usr/local/lib/python3.10/dist-packages (from requests<3,>=2->langchain_community) (2024.8.30)\n",
            "Requirement already satisfied: greenlet!=0.4.17 in /usr/local/lib/python3.10/dist-packages (from SQLAlchemy<2.0.36,>=1.4->langchain_community) (3.1.1)\n",
            "Requirement already satisfied: anyio in /usr/local/lib/python3.10/dist-packages (from httpx<1,>=0.23.0->langsmith<0.2.0,>=0.1.125->langchain_community) (3.7.1)\n",
            "Requirement already satisfied: httpcore==1.* in /usr/local/lib/python3.10/dist-packages (from httpx<1,>=0.23.0->langsmith<0.2.0,>=0.1.125->langchain_community) (1.0.6)\n",
            "Requirement already satisfied: sniffio in /usr/local/lib/python3.10/dist-packages (from httpx<1,>=0.23.0->langsmith<0.2.0,>=0.1.125->langchain_community) (1.3.1)\n",
            "Requirement already satisfied: h11<0.15,>=0.13 in /usr/local/lib/python3.10/dist-packages (from httpcore==1.*->httpx<1,>=0.23.0->langsmith<0.2.0,>=0.1.125->langchain_community) (0.14.0)\n",
            "Requirement already satisfied: jsonpointer>=1.9 in /usr/local/lib/python3.10/dist-packages (from jsonpatch<2.0,>=1.33->langchain-core<0.4.0,>=0.3.15->langchain_community) (3.0.0)\n",
            "Requirement already satisfied: annotated-types>=0.6.0 in /usr/local/lib/python3.10/dist-packages (from pydantic<3.0.0,>=2.7.4->langchain<0.4.0,>=0.3.6->langchain_community) (0.7.0)\n",
            "Requirement already satisfied: pydantic-core==2.23.4 in /usr/local/lib/python3.10/dist-packages (from pydantic<3.0.0,>=2.7.4->langchain<0.4.0,>=0.3.6->langchain_community) (2.23.4)\n",
            "Requirement already satisfied: mypy-extensions>=0.3.0 in /usr/local/lib/python3.10/dist-packages (from typing-inspect<1,>=0.4.0->dataclasses-json<0.7,>=0.5.7->langchain_community) (1.0.0)\n",
            "Requirement already satisfied: propcache>=0.2.0 in /usr/local/lib/python3.10/dist-packages (from yarl<2.0,>=1.12.0->aiohttp<4.0.0,>=3.8.3->langchain_community) (0.2.0)\n",
            "Requirement already satisfied: exceptiongroup in /usr/local/lib/python3.10/dist-packages (from anyio->httpx<1,>=0.23.0->langsmith<0.2.0,>=0.1.125->langchain_community) (1.2.2)\n"
          ]
        }
      ]
    },
    {
      "cell_type": "code",
      "source": [
        "import os\n",
        "from langchain_core.documents import Document\n",
        "from langchain_community.embeddings.fastembed import FastEmbedEmbeddings\n",
        "from langchain_community.vectorstores import Qdrant"
      ],
      "metadata": {
        "id": "iOZQ609Ki-p7"
      },
      "execution_count": 47,
      "outputs": []
    },
    {
      "cell_type": "code",
      "source": [
        "documents = []\n",
        "for element in elements:\n",
        "    metadata = element.metadata.to_dict()\n",
        "    del metadata[\"languages\"]\n",
        "    metadata[\"source\"] = metadata[\"filename\"]\n",
        "    documents.append(Document(page_content=element.text, metadata=metadata))"
      ],
      "metadata": {
        "id": "DrVCOGCIi-ss"
      },
      "execution_count": 48,
      "outputs": []
    },
    {
      "cell_type": "code",
      "source": [
        "len(documents)"
      ],
      "metadata": {
        "colab": {
          "base_uri": "https://localhost:8080/"
        },
        "id": "g-VwKDY6lFmh",
        "outputId": "2dead482-c491-49a5-d501-c9ae7839851c"
      },
      "execution_count": 49,
      "outputs": [
        {
          "output_type": "execute_result",
          "data": {
            "text/plain": [
              "737"
            ]
          },
          "metadata": {},
          "execution_count": 49
        }
      ]
    },
    {
      "cell_type": "code",
      "source": [
        "documents[0]"
      ],
      "metadata": {
        "colab": {
          "base_uri": "https://localhost:8080/"
        },
        "id": "62g5JEUXp6-x",
        "outputId": "72041c67-8fb9-4bf3-f8b2-0456ba9cc256"
      },
      "execution_count": 50,
      "outputs": [
        {
          "output_type": "execute_result",
          "data": {
            "text/plain": [
              "Document(metadata={'file_directory': '/content', 'filename': 'gpt4all.pdf', 'filetype': 'application/pdf', 'last_modified': '2024-11-09T14:56:20', 'page_number': 1, 'orig_elements': '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', 'source': 'gpt4all.pdf'}, page_content='3\\n\\n2023\\n\\n2\\n\\n0\\n\\n:\\n\\nv\\n\\narXiv\\n\\ni\\n\\nX\\n\\nr\\n\\na\\n\\nGPT4All: An Ecosystem of Open Source Compressed Language Models\\n\\nYuvanesh Anand\\n\\nNomic AI\\n\\nyuvanesh@nomic.ai\\n\\nZach Nussbaum\\n\\nNomic AI\\n\\nzach@nomic.ai\\n\\nAdam Treat\\n\\nNomic AI\\n\\nadam@nomic.ai\\n\\nAaron Miller Nomic AI aaron@nomic.ai\\n\\nRichard Guo\\n\\nNomic AI\\n\\nrichard@nomic.ai\\n\\nBen Schmidt Nomic AI ben@nomic.ai\\n\\nGPT4All Community\\n\\nPlanet Earth\\n\\nBrandon Duderstadt∗\\n\\nNomic AI brandon@nomic.ai\\n\\nAndriy Mulyar∗\\n\\nNomic AI andriy@nomic.ai')"
            ]
          },
          "metadata": {},
          "execution_count": 50
        }
      ]
    },
    {
      "cell_type": "code",
      "source": [
        "# from dotenv import load_dotenv\n",
        "# load_dotenv()"
      ],
      "metadata": {
        "id": "BGe6OOKJlI9n"
      },
      "execution_count": 51,
      "outputs": []
    },
    {
      "cell_type": "code",
      "source": [
        "from google.colab import userdata\n",
        "GROQ_API_KEY = userdata.get('GROQ_API_KEY')\n",
        "QDRANT_KEY = userdata.get('QDRANT_KEY')\n",
        "QDRANT_URL = userdata.get('QDRANT_URL')\n",
        "LANGCHAIN_API_KEY = userdata.get('LANGCHAIN_API_KEY')"
      ],
      "metadata": {
        "id": "55409RNFljgo"
      },
      "execution_count": 79,
      "outputs": []
    },
    {
      "cell_type": "code",
      "source": [
        "embeddings = FastEmbedEmbeddings()"
      ],
      "metadata": {
        "colab": {
          "base_uri": "https://localhost:8080/",
          "height": 49,
          "referenced_widgets": [
            "b85146e21ed64551906e29f541461fcf",
            "3f87b0e9400942ef8d1ae4b397c3f7db",
            "a7a8b5385b0d4277a63bc1d3c4175322",
            "dd663a19ec484dd2833d8b9f6deab159",
            "0b47559b03974a1aafcd8769636d457a",
            "b1bca91848754014ab63dba6fa45e5e2",
            "ecb8b8bdfb6c4473b6a82ef075c7124e",
            "c8be73824ea2410d935d7a83578b209b",
            "a709143567564589aa6f5bf6067a5508",
            "2848bfb08be345b4b9a5761f82233358",
            "09380d8c221e46a9a0c453b2e2643a88"
          ]
        },
        "id": "9zRaRcVmpNWA",
        "outputId": "38b43ac3-b041-413e-921e-0f5bca254ef4"
      },
      "execution_count": 53,
      "outputs": [
        {
          "output_type": "display_data",
          "data": {
            "text/plain": [
              "Fetching 5 files:   0%|          | 0/5 [00:00<?, ?it/s]"
            ],
            "application/vnd.jupyter.widget-view+json": {
              "version_major": 2,
              "version_minor": 0,
              "model_id": "b85146e21ed64551906e29f541461fcf"
            }
          },
          "metadata": {}
        }
      ]
    },
    {
      "cell_type": "code",
      "source": [
        "# this will take some time, patience is the key :)\n",
        "vectorstore = Qdrant.from_documents(documents=documents,\n",
        "                                    embedding = embeddings,\n",
        "                                    url = QDRANT_URL,\n",
        "                                    collection_name=\"rag\",\n",
        "                                    prefer_grpc=True,\n",
        "                                    api_key=QDRANT_KEY)"
      ],
      "metadata": {
        "id": "Qownbv9fpNY5"
      },
      "execution_count": 54,
      "outputs": []
    },
    {
      "cell_type": "code",
      "source": [
        "retriever = vectorstore.as_retriever(\n",
        "    search_type=\"similarity\",\n",
        "    search_kwargs={\"k\": 3}\n",
        ")"
      ],
      "metadata": {
        "id": "rM-nv-8YpNbn"
      },
      "execution_count": 55,
      "outputs": []
    },
    {
      "cell_type": "code",
      "source": [
        "from langchain_core.prompts import PromptTemplate\n",
        "from langchain_groq import ChatGroq\n",
        "from langchain.chains import create_history_aware_retriever\n",
        "from langchain.chains.qa_with_sources import load_qa_with_sources_chain"
      ],
      "metadata": {
        "id": "OMipSIdslslX"
      },
      "execution_count": 67,
      "outputs": []
    },
    {
      "cell_type": "code",
      "source": [
        "# template = \"\"\"You are an AI assistant for answering questions about the GPT4All paper and Quarterly Report Pursuant to Section 13 or 15(d) of the Securities Exchange Act of 1934 for the quarterly period ended March 31, 2022.\n",
        "# You are given the following extracted parts of a long document and a question. Provide a conversational answer.\n",
        "# If you don't know the answer, just say \"Hmm, I'm not sure.\" Don't try to make up an answer.\n",
        "# Question: {question}\n",
        "# =========\n",
        "# {context}\n",
        "# =========\n",
        "# Answer in Markdown:\"\"\"\n",
        "# prompt = PromptTemplate(template=template, input_variables=[\"question\", \"context\"])"
      ],
      "metadata": {
        "id": "NVFs2jxGybVg"
      },
      "execution_count": 58,
      "outputs": []
    },
    {
      "cell_type": "code",
      "source": [
        "from langchain.chains.combine_documents import create_stuff_documents_chain\n",
        "from langchain.chains import create_retrieval_chain\n",
        "from langchain_core.prompts import ChatPromptTemplate"
      ],
      "metadata": {
        "id": "re9z3w8X0s2N"
      },
      "execution_count": 68,
      "outputs": []
    },
    {
      "cell_type": "code",
      "source": [
        "llm = ChatGroq(temperature=0,model_name=\"llama3-8b-8192\", api_key=GROQ_API_KEY)"
      ],
      "metadata": {
        "id": "9L55g_mjzf29"
      },
      "execution_count": 69,
      "outputs": []
    },
    {
      "cell_type": "code",
      "source": [
        "# 2. Incorporate the retriever into a question-answering chain.\n",
        "system_prompt = (\n",
        "    \"You are an assistant for question-answering tasks. \"\n",
        "    \"Use the following pieces of retrieved context to answer \"\n",
        "    \"the question. If you don't know the answer, say that you \"\n",
        "    \"don't know. Use three sentences maximum and keep the \"\n",
        "    \"answer concise.\"\n",
        "    \"\\n\\n\"\n",
        "    \"{context}\"\n",
        ")\n",
        "\n",
        "prompt = ChatPromptTemplate.from_messages(\n",
        "    [\n",
        "        (\"system\", system_prompt),\n",
        "        (\"human\", \"{input}\"),\n",
        "    ]\n",
        ")\n",
        "\n",
        "question_answer_chain = create_stuff_documents_chain(llm, prompt)\n",
        "rag_chain = create_retrieval_chain(retriever, question_answer_chain)"
      ],
      "metadata": {
        "id": "Ik-gYkX329U-"
      },
      "execution_count": 70,
      "outputs": []
    },
    {
      "cell_type": "code",
      "source": [
        "rag_chain.invoke({\n",
        "    \"input\": \"What was the net loss including non-controlling interests of Uber in 2021\", #line 533\n",
        "    \"chat_history\": []\n",
        "})[\"answer\"]"
      ],
      "metadata": {
        "colab": {
          "base_uri": "https://localhost:8080/",
          "height": 35
        },
        "id": "PyXOgfnJ43A7",
        "outputId": "7e727704-be9a-4b8d-e281-849f1c5c8508"
      },
      "execution_count": 81,
      "outputs": [
        {
          "output_type": "execute_result",
          "data": {
            "text/plain": [
              "'According to the provided context, the net loss including non-controlling interests of Uber in 2021 was $(122) million.'"
            ],
            "application/vnd.google.colaboratory.intrinsic+json": {
              "type": "string"
            }
          },
          "metadata": {},
          "execution_count": 81
        }
      ]
    },
    {
      "cell_type": "code",
      "source": [
        "# hybrid search in action\n",
        "filter_retriever = vectorstore.as_retriever(\n",
        "    search_type=\"similarity\",\n",
        "    search_kwargs={\"k\": 1, \"filter\": {\"source\": \"gpt4all.pdf\"}}\n",
        ")"
      ],
      "metadata": {
        "id": "dakKfw0x5aYy"
      },
      "execution_count": 73,
      "outputs": []
    },
    {
      "cell_type": "code",
      "source": [
        "filter_rag_chain = create_retrieval_chain(filter_retriever, question_answer_chain)"
      ],
      "metadata": {
        "id": "2o2CWbU75acB"
      },
      "execution_count": 74,
      "outputs": []
    },
    {
      "cell_type": "code",
      "source": [
        "filter_rag_chain.invoke({\n",
        "    \"input\": \"How was GPT4All-Snoozy developed ?\",\n",
        "    \"chat_history\": [],\n",
        "     \"filter\": filter,\n",
        "})[\"answer\"]"
      ],
      "metadata": {
        "colab": {
          "base_uri": "https://localhost:8080/",
          "height": 53
        },
        "id": "dR3Q9Q9h5k6y",
        "outputId": "aa7a9558-6528-4573-cb52-e9caeebaf9ef"
      },
      "execution_count": 82,
      "outputs": [
        {
          "output_type": "execute_result",
          "data": {
            "text/plain": [
              "\"GPT4All-Snoozy was developed using a similar procedure as previous GPT4All models, but with a few key modifications. It used the LLaMA-13B base model and incorporated Dolly's training data into its training mix. The model was trained on a set of 739,259 prompt-response pairs after data curation and deduplication.\""
            ],
            "application/vnd.google.colaboratory.intrinsic+json": {
              "type": "string"
            }
          },
          "metadata": {},
          "execution_count": 82
        }
      ]
    },
    {
      "cell_type": "code",
      "source": [
        "LANGCHAIN_TRACING_V2=True\n",
        "LANGCHAIN_ENDPOINT=\"https://api.smith.langchain.com\"\n",
        "LANGCHAIN_API_KEY= LANGCHAIN_API_KEY\n",
        "LANGCHAIN_PROJECT=\"rag-llama3\""
      ],
      "metadata": {
        "id": "6TyAZKLi7hOR"
      },
      "execution_count": 80,
      "outputs": []
    }
  ]
}