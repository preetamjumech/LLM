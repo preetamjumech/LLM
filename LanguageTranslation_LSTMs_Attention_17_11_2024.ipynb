{
  "nbformat": 4,
  "nbformat_minor": 0,
  "metadata": {
    "colab": {
      "provenance": [],
      "authorship_tag": "ABX9TyPhJ6LkWTO1ppcwGcF0yaIZ",
      "include_colab_link": true
    },
    "kernelspec": {
      "name": "python3",
      "display_name": "Python 3"
    },
    "language_info": {
      "name": "python"
    }
  },
  "cells": [
    {
      "cell_type": "markdown",
      "metadata": {
        "id": "view-in-github",
        "colab_type": "text"
      },
      "source": [
        "<a href=\"https://colab.research.google.com/github/preetamjumech/LLM/blob/main/LanguageTranslation_LSTMs_Attention_17_11_2024.ipynb\" target=\"_parent\"><img src=\"https://colab.research.google.com/assets/colab-badge.svg\" alt=\"Open In Colab\"/></a>"
      ]
    },
    {
      "cell_type": "code",
      "execution_count": 2,
      "metadata": {
        "colab": {
          "base_uri": "https://localhost:8080/"
        },
        "collapsed": true,
        "id": "kgKQUDVII7TL",
        "outputId": "5e6257ff-46bd-4382-dac8-c4dd0ada4e3e"
      },
      "outputs": [
        {
          "output_type": "stream",
          "name": "stdout",
          "text": [
            "Collecting tensorflow-text>=2.11\n",
            "  Downloading tensorflow_text-2.18.0-cp310-cp310-manylinux_2_17_x86_64.manylinux2014_x86_64.whl.metadata (1.8 kB)\n",
            "Collecting tensorflow<2.19,>=2.18.0 (from tensorflow-text>=2.11)\n",
            "  Downloading tensorflow-2.18.0-cp310-cp310-manylinux_2_17_x86_64.manylinux2014_x86_64.whl.metadata (4.1 kB)\n",
            "Requirement already satisfied: absl-py>=1.0.0 in /usr/local/lib/python3.10/dist-packages (from tensorflow<2.19,>=2.18.0->tensorflow-text>=2.11) (1.4.0)\n",
            "Requirement already satisfied: astunparse>=1.6.0 in /usr/local/lib/python3.10/dist-packages (from tensorflow<2.19,>=2.18.0->tensorflow-text>=2.11) (1.6.3)\n",
            "Requirement already satisfied: flatbuffers>=24.3.25 in /usr/local/lib/python3.10/dist-packages (from tensorflow<2.19,>=2.18.0->tensorflow-text>=2.11) (24.3.25)\n",
            "Requirement already satisfied: gast!=0.5.0,!=0.5.1,!=0.5.2,>=0.2.1 in /usr/local/lib/python3.10/dist-packages (from tensorflow<2.19,>=2.18.0->tensorflow-text>=2.11) (0.6.0)\n",
            "Requirement already satisfied: google-pasta>=0.1.1 in /usr/local/lib/python3.10/dist-packages (from tensorflow<2.19,>=2.18.0->tensorflow-text>=2.11) (0.2.0)\n",
            "Requirement already satisfied: libclang>=13.0.0 in /usr/local/lib/python3.10/dist-packages (from tensorflow<2.19,>=2.18.0->tensorflow-text>=2.11) (18.1.1)\n",
            "Requirement already satisfied: opt-einsum>=2.3.2 in /usr/local/lib/python3.10/dist-packages (from tensorflow<2.19,>=2.18.0->tensorflow-text>=2.11) (3.4.0)\n",
            "Requirement already satisfied: packaging in /usr/local/lib/python3.10/dist-packages (from tensorflow<2.19,>=2.18.0->tensorflow-text>=2.11) (24.2)\n",
            "Requirement already satisfied: protobuf!=4.21.0,!=4.21.1,!=4.21.2,!=4.21.3,!=4.21.4,!=4.21.5,<6.0.0dev,>=3.20.3 in /usr/local/lib/python3.10/dist-packages (from tensorflow<2.19,>=2.18.0->tensorflow-text>=2.11) (4.25.5)\n",
            "Requirement already satisfied: requests<3,>=2.21.0 in /usr/local/lib/python3.10/dist-packages (from tensorflow<2.19,>=2.18.0->tensorflow-text>=2.11) (2.32.3)\n",
            "Requirement already satisfied: setuptools in /usr/local/lib/python3.10/dist-packages (from tensorflow<2.19,>=2.18.0->tensorflow-text>=2.11) (75.1.0)\n",
            "Requirement already satisfied: six>=1.12.0 in /usr/local/lib/python3.10/dist-packages (from tensorflow<2.19,>=2.18.0->tensorflow-text>=2.11) (1.16.0)\n",
            "Requirement already satisfied: termcolor>=1.1.0 in /usr/local/lib/python3.10/dist-packages (from tensorflow<2.19,>=2.18.0->tensorflow-text>=2.11) (2.5.0)\n",
            "Requirement already satisfied: typing-extensions>=3.6.6 in /usr/local/lib/python3.10/dist-packages (from tensorflow<2.19,>=2.18.0->tensorflow-text>=2.11) (4.12.2)\n",
            "Requirement already satisfied: wrapt>=1.11.0 in /usr/local/lib/python3.10/dist-packages (from tensorflow<2.19,>=2.18.0->tensorflow-text>=2.11) (1.16.0)\n",
            "Requirement already satisfied: grpcio<2.0,>=1.24.3 in /usr/local/lib/python3.10/dist-packages (from tensorflow<2.19,>=2.18.0->tensorflow-text>=2.11) (1.67.1)\n",
            "Collecting tensorboard<2.19,>=2.18 (from tensorflow<2.19,>=2.18.0->tensorflow-text>=2.11)\n",
            "  Downloading tensorboard-2.18.0-py3-none-any.whl.metadata (1.6 kB)\n",
            "Requirement already satisfied: keras>=3.5.0 in /usr/local/lib/python3.10/dist-packages (from tensorflow<2.19,>=2.18.0->tensorflow-text>=2.11) (3.5.0)\n",
            "Requirement already satisfied: numpy<2.1.0,>=1.26.0 in /usr/local/lib/python3.10/dist-packages (from tensorflow<2.19,>=2.18.0->tensorflow-text>=2.11) (1.26.4)\n",
            "Requirement already satisfied: h5py>=3.11.0 in /usr/local/lib/python3.10/dist-packages (from tensorflow<2.19,>=2.18.0->tensorflow-text>=2.11) (3.12.1)\n",
            "Requirement already satisfied: ml-dtypes<0.5.0,>=0.4.0 in /usr/local/lib/python3.10/dist-packages (from tensorflow<2.19,>=2.18.0->tensorflow-text>=2.11) (0.4.1)\n",
            "Requirement already satisfied: tensorflow-io-gcs-filesystem>=0.23.1 in /usr/local/lib/python3.10/dist-packages (from tensorflow<2.19,>=2.18.0->tensorflow-text>=2.11) (0.37.1)\n",
            "Requirement already satisfied: wheel<1.0,>=0.23.0 in /usr/local/lib/python3.10/dist-packages (from astunparse>=1.6.0->tensorflow<2.19,>=2.18.0->tensorflow-text>=2.11) (0.45.0)\n",
            "Requirement already satisfied: rich in /usr/local/lib/python3.10/dist-packages (from keras>=3.5.0->tensorflow<2.19,>=2.18.0->tensorflow-text>=2.11) (13.9.4)\n",
            "Requirement already satisfied: namex in /usr/local/lib/python3.10/dist-packages (from keras>=3.5.0->tensorflow<2.19,>=2.18.0->tensorflow-text>=2.11) (0.0.8)\n",
            "Requirement already satisfied: optree in /usr/local/lib/python3.10/dist-packages (from keras>=3.5.0->tensorflow<2.19,>=2.18.0->tensorflow-text>=2.11) (0.13.1)\n",
            "Requirement already satisfied: charset-normalizer<4,>=2 in /usr/local/lib/python3.10/dist-packages (from requests<3,>=2.21.0->tensorflow<2.19,>=2.18.0->tensorflow-text>=2.11) (3.4.0)\n",
            "Requirement already satisfied: idna<4,>=2.5 in /usr/local/lib/python3.10/dist-packages (from requests<3,>=2.21.0->tensorflow<2.19,>=2.18.0->tensorflow-text>=2.11) (3.10)\n",
            "Requirement already satisfied: urllib3<3,>=1.21.1 in /usr/local/lib/python3.10/dist-packages (from requests<3,>=2.21.0->tensorflow<2.19,>=2.18.0->tensorflow-text>=2.11) (2.2.3)\n",
            "Requirement already satisfied: certifi>=2017.4.17 in /usr/local/lib/python3.10/dist-packages (from requests<3,>=2.21.0->tensorflow<2.19,>=2.18.0->tensorflow-text>=2.11) (2024.8.30)\n",
            "Requirement already satisfied: markdown>=2.6.8 in /usr/local/lib/python3.10/dist-packages (from tensorboard<2.19,>=2.18->tensorflow<2.19,>=2.18.0->tensorflow-text>=2.11) (3.7)\n",
            "Requirement already satisfied: tensorboard-data-server<0.8.0,>=0.7.0 in /usr/local/lib/python3.10/dist-packages (from tensorboard<2.19,>=2.18->tensorflow<2.19,>=2.18.0->tensorflow-text>=2.11) (0.7.2)\n",
            "Requirement already satisfied: werkzeug>=1.0.1 in /usr/local/lib/python3.10/dist-packages (from tensorboard<2.19,>=2.18->tensorflow<2.19,>=2.18.0->tensorflow-text>=2.11) (3.1.3)\n",
            "Requirement already satisfied: MarkupSafe>=2.1.1 in /usr/local/lib/python3.10/dist-packages (from werkzeug>=1.0.1->tensorboard<2.19,>=2.18->tensorflow<2.19,>=2.18.0->tensorflow-text>=2.11) (3.0.2)\n",
            "Requirement already satisfied: markdown-it-py>=2.2.0 in /usr/local/lib/python3.10/dist-packages (from rich->keras>=3.5.0->tensorflow<2.19,>=2.18.0->tensorflow-text>=2.11) (3.0.0)\n",
            "Requirement already satisfied: pygments<3.0.0,>=2.13.0 in /usr/local/lib/python3.10/dist-packages (from rich->keras>=3.5.0->tensorflow<2.19,>=2.18.0->tensorflow-text>=2.11) (2.18.0)\n",
            "Requirement already satisfied: mdurl~=0.1 in /usr/local/lib/python3.10/dist-packages (from markdown-it-py>=2.2.0->rich->keras>=3.5.0->tensorflow<2.19,>=2.18.0->tensorflow-text>=2.11) (0.1.2)\n",
            "Downloading tensorflow_text-2.18.0-cp310-cp310-manylinux_2_17_x86_64.manylinux2014_x86_64.whl (5.2 MB)\n",
            "\u001b[2K   \u001b[90m━━━━━━━━━━━━━━━━━━━━━━━━━━━━━━━━━━━━━━━━\u001b[0m \u001b[32m5.2/5.2 MB\u001b[0m \u001b[31m36.0 MB/s\u001b[0m eta \u001b[36m0:00:00\u001b[0m\n",
            "\u001b[?25hDownloading tensorflow-2.18.0-cp310-cp310-manylinux_2_17_x86_64.manylinux2014_x86_64.whl (615.3 MB)\n",
            "\u001b[2K   \u001b[90m━━━━━━━━━━━━━━━━━━━━━━━━━━━━━━━━━━━━━━━━\u001b[0m \u001b[32m615.3/615.3 MB\u001b[0m \u001b[31m3.0 MB/s\u001b[0m eta \u001b[36m0:00:00\u001b[0m\n",
            "\u001b[?25hDownloading tensorboard-2.18.0-py3-none-any.whl (5.5 MB)\n",
            "\u001b[2K   \u001b[90m━━━━━━━━━━━━━━━━━━━━━━━━━━━━━━━━━━━━━━━━\u001b[0m \u001b[32m5.5/5.5 MB\u001b[0m \u001b[31m64.5 MB/s\u001b[0m eta \u001b[36m0:00:00\u001b[0m\n",
            "\u001b[?25hInstalling collected packages: tensorboard, tensorflow, tensorflow-text\n",
            "  Attempting uninstall: tensorboard\n",
            "    Found existing installation: tensorboard 2.17.1\n",
            "    Uninstalling tensorboard-2.17.1:\n",
            "      Successfully uninstalled tensorboard-2.17.1\n",
            "  Attempting uninstall: tensorflow\n",
            "    Found existing installation: tensorflow 2.17.1\n",
            "    Uninstalling tensorflow-2.17.1:\n",
            "      Successfully uninstalled tensorflow-2.17.1\n",
            "\u001b[31mERROR: pip's dependency resolver does not currently take into account all the packages that are installed. This behaviour is the source of the following dependency conflicts.\n",
            "tf-keras 2.17.0 requires tensorflow<2.18,>=2.17, but you have tensorflow 2.18.0 which is incompatible.\u001b[0m\u001b[31m\n",
            "\u001b[0mSuccessfully installed tensorboard-2.18.0 tensorflow-2.18.0 tensorflow-text-2.18.0\n"
          ]
        }
      ],
      "source": [
        "!pip install \"tensorflow-text>=2.11\""
      ]
    },
    {
      "cell_type": "code",
      "source": [
        "import string\n",
        "import random\n",
        "\n",
        "import numpy as np\n",
        "import tensorflow as tf\n",
        "import tensorflow_text as tf_text\n",
        "\n",
        "from tensorflow import keras\n",
        "from tensorflow.keras import layers\n",
        "from tensorflow.keras.layers import TextVectorization"
      ],
      "metadata": {
        "id": "uYNZhid0HDhK"
      },
      "execution_count": 3,
      "outputs": []
    },
    {
      "cell_type": "code",
      "source": [
        "with open(\"/content/fra.txt\") as f:\n",
        "    lines = f.read().split(\"\\n\")[:-1]\n",
        "\n",
        "    text_pairs = []\n",
        "\n",
        "    for line in lines:\n",
        "        eng, fra = line.split(\"\\t\")\n",
        "        fra = \"[start] \" + fra + \" [end]\"\n",
        "        text_pairs.append((eng, fra))"
      ],
      "metadata": {
        "id": "E8JHf3j_HKrv"
      },
      "execution_count": 32,
      "outputs": []
    },
    {
      "cell_type": "code",
      "source": [
        "for _ in range(10):\n",
        "    print(random.choice(text_pairs))"
      ],
      "metadata": {
        "colab": {
          "base_uri": "https://localhost:8080/"
        },
        "id": "EMWR6hCxHKun",
        "outputId": "004bb069-4f55-4c43-a712-32d253c7bca4"
      },
      "execution_count": 33,
      "outputs": [
        {
          "output_type": "stream",
          "name": "stdout",
          "text": [
            "('I extended my holiday.', \"[start] J'ai prolongé mes vacances. [end]\")\n",
            "('The house is vacant.', '[start] La maison est inoccupée. [end]')\n",
            "('The museum is open to the public.', '[start] Le musée est ouvert au public. [end]')\n",
            "(\"That's not the way I see it.\", \"[start] Ce n'est pas ainsi que je le vois. [end]\")\n",
            "('They drive on the left in England.', '[start] Ils roulent à gauche en Angleterre. [end]')\n",
            "(\"I know someone needs to tell Tom about Mary's death. Does it have to be me?\", \"[start] Je sais que quelqu'un doit le dire à Tom pour la mort de Mary. Mais est-ce que ça doit être moi ? [end]\")\n",
            "('They were talking about you.', '[start] Elles parlaient de vous. [end]')\n",
            "('We enjoyed ourselves at the party.', \"[start] On s'est bien amusé à la fête. [end]\")\n",
            "('Our work never ends.', \"[start] Notre travail ne s'arrête jamais. [end]\")\n",
            "(\"I'm sure that's what Tom would've wanted.\", \"[start] Je suis sûr que c'est ce que Tom aurait voulu. [end]\")\n"
          ]
        }
      ]
    },
    {
      "cell_type": "code",
      "source": [
        "text_pairs = text_pairs[:1000]\n",
        "random.shuffle(text_pairs)\n",
        "\n",
        "num_val_samples = int(0.15 * len(text_pairs))\n",
        "num_train_samples = len(text_pairs) - 2 * num_val_samples\n",
        "\n",
        "train_pairs = text_pairs[:num_train_samples]\n",
        "val_pairs = text_pairs[num_train_samples : num_train_samples + num_val_samples]\n",
        "test_pairs = text_pairs[num_train_samples + num_val_samples :]\n",
        "\n",
        "print(f\"{len(text_pairs)} total pairs\")\n",
        "print(f\"{len(train_pairs)} training pairs\")\n",
        "print(f\"{len(val_pairs)} validation pairs\")\n",
        "print(f\"{len(test_pairs)} test pairs\")"
      ],
      "metadata": {
        "colab": {
          "base_uri": "https://localhost:8080/"
        },
        "id": "74ZrwP6OHKxH",
        "outputId": "b9e5d3c6-77e1-429e-9129-5a4b36e45dbc"
      },
      "execution_count": 34,
      "outputs": [
        {
          "output_type": "stream",
          "name": "stdout",
          "text": [
            "1000 total pairs\n",
            "700 training pairs\n",
            "150 validation pairs\n",
            "150 test pairs\n"
          ]
        }
      ]
    },
    {
      "cell_type": "code",
      "source": [
        "def tf_lower_and_split_punct(text):\n",
        "\n",
        "    \"\"\"\n",
        "      Processes text before vectorization.\n",
        "    \"\"\"\n",
        "    # French text contains special symbols. Unicode normalization:\n",
        "    text = tf_text.normalize_utf8(text, \"NFKD\")\n",
        "\n",
        "    # Lowercase\n",
        "    text = tf.strings.lower(text)\n",
        "\n",
        "    # Keep space, a to z, and select punctuation and square brackets.\n",
        "    text = tf.strings.regex_replace(text, \"[^ a-z.?!,\\]\\[]\", \"\")\n",
        "\n",
        "    # Add spaces around punctuation.\n",
        "    text = tf.strings.regex_replace(text, \"[.?!,]\", r\" \\0 \")\n",
        "\n",
        "    # Strip whitespace.\n",
        "    text = tf.strings.strip(text)\n",
        "\n",
        "    return text"
      ],
      "metadata": {
        "id": "KiMUFeOpHKze"
      },
      "execution_count": 35,
      "outputs": []
    },
    {
      "cell_type": "code",
      "source": [
        "vocab_size = 15000\n",
        "sequence_length = 20\n",
        "batch_size = 64\n",
        "\n",
        "eng_vectorization = TextVectorization(\n",
        "    max_tokens = vocab_size,\n",
        "    output_mode = \"int\",\n",
        "    output_sequence_length = sequence_length,\n",
        "    standardize = tf_lower_and_split_punct\n",
        ")\n",
        "\n",
        "fra_vectorization = TextVectorization(\n",
        "    max_tokens = vocab_size,\n",
        "    output_mode = \"int\",\n",
        "    output_sequence_length = sequence_length + 1,\n",
        "    standardize = tf_lower_and_split_punct,\n",
        ")"
      ],
      "metadata": {
        "id": "HvZfHCuVHK2A"
      },
      "execution_count": 36,
      "outputs": []
    },
    {
      "cell_type": "code",
      "source": [
        "train_eng_texts = [pair[0] for pair in train_pairs]\n",
        "train_fra_texts = [pair[1] for pair in train_pairs]\n",
        "\n",
        "eng_vectorization.adapt(train_eng_texts)\n",
        "fra_vectorization.adapt(train_fra_texts)"
      ],
      "metadata": {
        "id": "cq0fHPu6HK4n"
      },
      "execution_count": 37,
      "outputs": []
    },
    {
      "cell_type": "code",
      "source": [
        "vocab_inp_size = len(eng_vectorization.get_vocabulary())\n",
        "\n",
        "vocab_inp_size"
      ],
      "metadata": {
        "colab": {
          "base_uri": "https://localhost:8080/"
        },
        "id": "kiMYXepXHK61",
        "outputId": "1b664446-271c-4dcc-f506-5eeab7dca03e"
      },
      "execution_count": 38,
      "outputs": [
        {
          "output_type": "execute_result",
          "data": {
            "text/plain": [
              "339"
            ]
          },
          "metadata": {},
          "execution_count": 38
        }
      ]
    },
    {
      "cell_type": "code",
      "source": [
        "eng_vectorization.get_vocabulary()[:15]"
      ],
      "metadata": {
        "colab": {
          "base_uri": "https://localhost:8080/"
        },
        "id": "xsO5jY7uHdAY",
        "outputId": "07e427b2-45ec-4bc7-9fb0-60e0421011c8"
      },
      "execution_count": 39,
      "outputs": [
        {
          "output_type": "execute_result",
          "data": {
            "text/plain": [
              "['',\n",
              " '[UNK]',\n",
              " '.',\n",
              " 'i',\n",
              " '!',\n",
              " 'im',\n",
              " 'it',\n",
              " 'go',\n",
              " '?',\n",
              " 'me',\n",
              " 'tom',\n",
              " 'up',\n",
              " 'its',\n",
              " 'we',\n",
              " 'this']"
            ]
          },
          "metadata": {},
          "execution_count": 39
        }
      ]
    },
    {
      "cell_type": "code",
      "source": [
        "vocab_out_size = len(fra_vectorization.get_vocabulary())\n",
        "\n",
        "vocab_out_size"
      ],
      "metadata": {
        "colab": {
          "base_uri": "https://localhost:8080/"
        },
        "id": "L8FIKAHXHdDX",
        "outputId": "e2958914-7954-465d-9ba2-28ca217fb3c3"
      },
      "execution_count": 40,
      "outputs": [
        {
          "output_type": "execute_result",
          "data": {
            "text/plain": [
              "631"
            ]
          },
          "metadata": {},
          "execution_count": 40
        }
      ]
    },
    {
      "cell_type": "code",
      "source": [
        "fra_vectorization.get_vocabulary()[:15]"
      ],
      "metadata": {
        "colab": {
          "base_uri": "https://localhost:8080/"
        },
        "id": "noyoc8dEHdFo",
        "outputId": "628e792b-7008-439e-a249-f5fb4ce25ec2"
      },
      "execution_count": 41,
      "outputs": [
        {
          "output_type": "execute_result",
          "data": {
            "text/plain": [
              "['',\n",
              " '[UNK]',\n",
              " '[start]',\n",
              " '[end]',\n",
              " '.',\n",
              " '!',\n",
              " 'je',\n",
              " 'suis',\n",
              " '?',\n",
              " 'tom',\n",
              " 'jai',\n",
              " 'cest',\n",
              " 'a',\n",
              " 'nous',\n",
              " 'est']"
            ]
          },
          "metadata": {},
          "execution_count": 41
        }
      ]
    },
    {
      "cell_type": "code",
      "source": [
        "import tensorflow as tf\n",
        "\n",
        "def format_dataset(eng, fra):\n",
        "    eng = eng_vectorization(eng)\n",
        "    fra = fra_vectorization(fra)\n",
        "\n",
        "    # (english tokens, french tokens, french tokens shifted by 1)\n",
        "    return eng, fra[:, :-1], fra[:, 1:]\n",
        "\n",
        "def make_dataset(pairs):\n",
        "    eng_texts, fra_texts = zip(*pairs)\n",
        "\n",
        "    eng_texts = list(eng_texts)\n",
        "    fra_texts = list(fra_texts)\n",
        "\n",
        "    dataset = tf.data.Dataset.from_tensor_slices((eng_texts, fra_texts))\n",
        "\n",
        "    dataset = dataset.batch(batch_size, drop_remainder = True)\n",
        "\n",
        "    dataset = dataset.map(format_dataset)\n",
        "\n",
        "    return dataset.shuffle(2048).prefetch(16).cache()\n",
        "\n",
        "train_ds = make_dataset(train_pairs)\n",
        "val_ds = make_dataset(val_pairs)\n",
        "test_ds = make_dataset(test_pairs)"
      ],
      "metadata": {
        "id": "bsZa0k3aHdIH"
      },
      "execution_count": 42,
      "outputs": []
    },
    {
      "cell_type": "code",
      "source": [
        "encoder_inputs, decoder_inputs, targets = next(iter(train_ds))\n",
        "\n",
        "encoder_inputs.shape, decoder_inputs.shape, targets.shape"
      ],
      "metadata": {
        "colab": {
          "base_uri": "https://localhost:8080/"
        },
        "id": "Mjjbon_rHdKj",
        "outputId": "0780a08b-a265-4a3b-bf62-667493dfc144"
      },
      "execution_count": 43,
      "outputs": [
        {
          "output_type": "execute_result",
          "data": {
            "text/plain": [
              "(TensorShape([64, 20]), TensorShape([64, 20]), TensorShape([64, 20]))"
            ]
          },
          "metadata": {},
          "execution_count": 43
        }
      ]
    },
    {
      "cell_type": "code",
      "source": [
        "encoder_inputs"
      ],
      "metadata": {
        "colab": {
          "base_uri": "https://localhost:8080/"
        },
        "id": "vKCW0zcuIero",
        "outputId": "0723e3a9-0261-42ff-85f3-f7d68b18ab7f"
      },
      "execution_count": 44,
      "outputs": [
        {
          "output_type": "execute_result",
          "data": {
            "text/plain": [
              "<tf.Tensor: shape=(64, 20), dtype=int64, numpy=\n",
              "array([[ 13,  29,   6, ...,   0,   0,   0],\n",
              "       [333,   4,   0, ...,   0,   0,   0],\n",
              "       [  5, 130,   2, ...,   0,   0,   0],\n",
              "       ...,\n",
              "       [ 85,   6,   2, ...,   0,   0,   0],\n",
              "       [ 12, 112,   2, ...,   0,   0,   0],\n",
              "       [ 66,  41,   2, ...,   0,   0,   0]])>"
            ]
          },
          "metadata": {},
          "execution_count": 44
        }
      ]
    },
    {
      "cell_type": "code",
      "source": [
        "decoder_inputs"
      ],
      "metadata": {
        "colab": {
          "base_uri": "https://localhost:8080/"
        },
        "id": "HwQu5A0UIhT-",
        "outputId": "37f5fd7a-5209-4561-a156-ca3cbc7475f4"
      },
      "execution_count": 45,
      "outputs": [
        {
          "output_type": "execute_result",
          "data": {
            "text/plain": [
              "<tf.Tensor: shape=(64, 20), dtype=int64, numpy=\n",
              "array([[  2,  13, 104, ...,   0,   0,   0],\n",
              "       [  2, 488,   5, ...,   0,   0,   0],\n",
              "       [  2,   6,   7, ...,   0,   0,   0],\n",
              "       ...,\n",
              "       [  2,  11,  15, ...,   0,   0,   0],\n",
              "       [  2,  11, 102, ...,   0,   0,   0],\n",
              "       [  2,  39, 621, ...,   0,   0,   0]])>"
            ]
          },
          "metadata": {},
          "execution_count": 45
        }
      ]
    },
    {
      "cell_type": "code",
      "source": [
        "targets"
      ],
      "metadata": {
        "colab": {
          "base_uri": "https://localhost:8080/"
        },
        "id": "OYjlCZL9KM6G",
        "outputId": "f4b69cd2-9344-4c45-9cb0-f95bfd39df34"
      },
      "execution_count": 46,
      "outputs": [
        {
          "output_type": "execute_result",
          "data": {
            "text/plain": [
              "<tf.Tensor: shape=(64, 20), dtype=int64, numpy=\n",
              "array([[ 13, 104, 116, ...,   0,   0,   0],\n",
              "       [488,   5,   3, ...,   0,   0,   0],\n",
              "       [  6,   7,  17, ...,   0,   0,   0],\n",
              "       ...,\n",
              "       [ 11,  15,   4, ...,   0,   0,   0],\n",
              "       [ 11, 102,   4, ...,   0,   0,   0],\n",
              "       [ 39, 621,  47, ...,   0,   0,   0]])>"
            ]
          },
          "metadata": {},
          "execution_count": 46
        }
      ]
    },
    {
      "cell_type": "code",
      "source": [
        "class Encoder(tf.keras.Model):\n",
        "    def __init__(self, vocab_size, embedding_dim, hidden_dim):\n",
        "        super(Encoder, self).__init__()\n",
        "\n",
        "        self.hidden_dim = hidden_dim\n",
        "\n",
        "        # Define the embedding layer\n",
        "        self.embedding = layers.Embedding(vocab_size, embedding_dim)\n",
        "\n",
        "        # Define the RNN layer with LSTM cells\n",
        "        self.lstm = layers.LSTM(\n",
        "            hidden_dim, return_sequences = True, return_state = True)\n",
        "\n",
        "    def call(self, input_sequence, states):\n",
        "\n",
        "        # Input shape: (batch_size, sequence_length)\n",
        "\n",
        "        # Embed the input\n",
        "        embed = self.embedding(input_sequence)\n",
        "\n",
        "        # Embed shape: (batch_size, sequence_length, embedding_dim)\n",
        "\n",
        "        # Call the LSTM unit\n",
        "        output, state_h, state_c = self.lstm(embed, initial_state = states)\n",
        "\n",
        "        # Output shape: (batch_size, sequence_length, hidden_dim)\n",
        "        # state_h shape: (batch_size, hidden_dim)\n",
        "        # state_c shape: (batch_size, hidden_dim)\n",
        "\n",
        "        return output, state_h, state_c\n",
        "\n",
        "    def init_states(self, batch_size):\n",
        "\n",
        "        # Return all 0s initial states\n",
        "        return (\n",
        "            tf.zeros([batch_size, self.hidden_dim]),\n",
        "            tf.zeros([batch_size, self.hidden_dim])\n",
        "        )"
      ],
      "metadata": {
        "id": "01kWh-X6KM9E"
      },
      "execution_count": 47,
      "outputs": []
    },
    {
      "cell_type": "code",
      "source": [
        "embedding_dim = 128\n",
        "hidden_units = 256\n",
        "\n",
        "# Create the Encoder\n",
        "encoder = Encoder(vocab_inp_size, embedding_dim, hidden_units)\n",
        "\n",
        "# Getting initial states\n",
        "initial_state = encoder.init_states(batch_size = 1)\n",
        "\n",
        "# Call the encoder for testing\n",
        "test_encoder_output = encoder(tf.constant(\n",
        "    [[1, 5, 10, 15, 20, 25]]), initial_state)\n",
        "\n",
        "# outputs, state_h, state_c\n",
        "test_encoder_output[0].shape, test_encoder_output[2].shape, test_encoder_output[2].shape"
      ],
      "metadata": {
        "colab": {
          "base_uri": "https://localhost:8080/"
        },
        "id": "UBgolsWMKM_V",
        "outputId": "0e4713fb-e8d8-440f-8bc9-1e0d6849a2a3"
      },
      "execution_count": 48,
      "outputs": [
        {
          "output_type": "execute_result",
          "data": {
            "text/plain": [
              "(TensorShape([1, 6, 256]), TensorShape([1, 256]), TensorShape([1, 256]))"
            ]
          },
          "metadata": {},
          "execution_count": 48
        }
      ]
    },
    {
      "cell_type": "code",
      "source": [
        "class Decoder(tf.keras.Model):\n",
        "    def __init__(self, vocab_size, embedding_dim, hidden_dim):\n",
        "        super(Decoder, self).__init__()\n",
        "\n",
        "        self.hidden_dim = hidden_dim\n",
        "\n",
        "        # Define the embedding layer\n",
        "        self.embedding = layers.Embedding(vocab_size, embedding_dim)\n",
        "\n",
        "        # Define the RNN layer with LSTM cell\n",
        "        self.lstm = layers.LSTM(\n",
        "            hidden_dim, return_sequences = True, return_state = True)\n",
        "\n",
        "        self.dense = layers.Dense(vocab_size)\n",
        "\n",
        "    def call(self, input_sequence, state):\n",
        "\n",
        "        # Input shape: (batch_size, sequence_length)\n",
        "\n",
        "        # Embed the input\n",
        "        embed = self.embedding(input_sequence)\n",
        "\n",
        "        # Embed shape: (batch_size, sequence_length, embedding_dim)\n",
        "\n",
        "        # Call the LSTM unit\n",
        "        lstm_out, state_h, state_c = self.lstm(embed, state)\n",
        "\n",
        "        # lstm_out shape: (batch_size, sequence_length, hidden_dim)\n",
        "        # state_h shape: (batch_size, hidden_dim)\n",
        "        # state_c shape: (batch_size, hidden_dim)\n",
        "\n",
        "        # Dense layer to predict output token\n",
        "        outputs = self.dense(lstm_out)\n",
        "\n",
        "        # Output shape: (batch_size, sequence_length, vocab_size)\n",
        "\n",
        "        return outputs, state_h, state_c"
      ],
      "metadata": {
        "id": "D8q0PUwWKNBw"
      },
      "execution_count": 49,
      "outputs": []
    },
    {
      "cell_type": "code",
      "source": [
        "# Create the Decoder\n",
        "decoder = Decoder(vocab_out_size, embedding_dim, hidden_units)\n",
        "\n",
        "# Get the initial states\n",
        "de_initial_state = test_encoder_output[1:]\n",
        "\n",
        "# Call the decoder for testing\n",
        "test_decoder_output = decoder(tf.constant(\n",
        "    [[1, 6, 12, 18, 24, 30, 36, 42]]), de_initial_state)\n",
        "\n",
        "test_decoder_output[0].shape, test_decoder_output[2].shape, test_decoder_output[2].shape"
      ],
      "metadata": {
        "colab": {
          "base_uri": "https://localhost:8080/"
        },
        "id": "xJ7sqrwSKNEJ",
        "outputId": "087355a2-7e3a-4ca7-c1dc-c431251a3e26"
      },
      "execution_count": 50,
      "outputs": [
        {
          "output_type": "execute_result",
          "data": {
            "text/plain": [
              "(TensorShape([1, 8, 631]), TensorShape([1, 256]), TensorShape([1, 256]))"
            ]
          },
          "metadata": {},
          "execution_count": 50
        }
      ]
    },
    {
      "cell_type": "code",
      "source": [
        "from tensorflow.keras import backend as K\n",
        "\n",
        "def loss_func(targets, logits):\n",
        "    crossentropy = tf.keras.losses.SparseCategoricalCrossentropy(\n",
        "        from_logits = True)\n",
        "\n",
        "    # Mask padding values, they should not be included in the loss\n",
        "    # In the mask all values equal to 0 in vector will be 0, rest 1\n",
        "    mask = tf.math.logical_not(tf.math.equal(targets, 0))\n",
        "    mask = tf.cast(mask, dtype = tf.int64)\n",
        "\n",
        "    # Calculate the loss value\n",
        "    loss = crossentropy(targets, logits, sample_weight = mask)\n",
        "\n",
        "    return loss\n",
        "\n",
        "def accuracy_fn(y_true, y_pred):\n",
        "    # y_pred shape: (batch_size, sequence_length, vocab_size)\n",
        "    # y_true shape: (batch_size, sequence_length)\n",
        "\n",
        "    # Get predicted tokens shape: (batch_size, sequence_length)\n",
        "    pred_values = K.cast(K.argmax(y_pred, axis = -1), dtype = \"int64\")\n",
        "\n",
        "    correct = K.cast(K.equal(y_true, pred_values), dtype = \"float32\")\n",
        "\n",
        "    # 0 is padding, don't include those, everything else\n",
        "    # will be an integer token\n",
        "    mask = K.cast(K.greater(y_true, 0), dtype = \"float32\")\n",
        "\n",
        "    # Number of correct words predicted\n",
        "    n_correct = K.sum(mask * correct)\n",
        "\n",
        "    # Total number of words\n",
        "    n_total = K.sum(mask)\n",
        "\n",
        "    return n_correct / n_total"
      ],
      "metadata": {
        "id": "H3AfPubyKNGu"
      },
      "execution_count": 51,
      "outputs": []
    },
    {
      "cell_type": "code",
      "source": [
        "@tf.function\n",
        "def train_step(input_seq, target_seq_in, target_seq_out, en_initial_states, optimizer):\n",
        "\n",
        "    # Network’s computations need to be put under tf.GradientTape() to keep track of gradients\n",
        "    with tf.GradientTape() as tape:\n",
        "\n",
        "        # Get the encoder outputs\n",
        "        en_outputs = encoder(input_seq, en_initial_states)\n",
        "\n",
        "        # Get the hidden states of the encoder to pass to the decoder\n",
        "        de_states = en_outputs[1:]\n",
        "\n",
        "        # Get the decoder outputs\n",
        "        de_outputs = decoder(target_seq_in, de_states)\n",
        "\n",
        "        # Take the actual output\n",
        "        logits = de_outputs[0]\n",
        "\n",
        "        # Calculate the loss and accuracy\n",
        "        loss = loss_func(target_seq_out, logits)\n",
        "        acc = accuracy_fn(target_seq_out, logits)\n",
        "\n",
        "    variables = encoder.trainable_variables + decoder.trainable_variables\n",
        "\n",
        "    # Calculate the gradients for the variables\n",
        "    gradients = tape.gradient(loss, variables)\n",
        "\n",
        "    # Apply the gradients and update the optimizer\n",
        "    optimizer.apply_gradients(zip(gradients, variables))\n",
        "\n",
        "    return loss, acc"
      ],
      "metadata": {
        "id": "tDrkqgG0MLiU"
      },
      "execution_count": 52,
      "outputs": []
    },
    {
      "cell_type": "code",
      "source": [
        "@tf.function\n",
        "def valid_step(val_input_seq, val_target_seq_in, val_target_seq_out, en_initial_states):\n",
        "\n",
        "    # Get the encoder outputs\n",
        "    en_outputs = encoder(val_input_seq, en_initial_states)\n",
        "\n",
        "    # Get the hidden states of the encoder to pass to the decoder\n",
        "    de_states = en_outputs[1:]\n",
        "\n",
        "    # Get the decoder outputs\n",
        "    de_outputs = decoder(val_target_seq_in, de_states)\n",
        "\n",
        "    # Take the actual output\n",
        "    logits = de_outputs[0]\n",
        "\n",
        "    # Calculate the loss function\n",
        "    valid_loss = loss_func(val_target_seq_out, logits)\n",
        "    valid_acc = accuracy_fn(val_target_seq_out, logits)\n",
        "\n",
        "    return valid_loss, valid_acc\n"
      ],
      "metadata": {
        "id": "VEavmypRMLlP"
      },
      "execution_count": 53,
      "outputs": []
    },
    {
      "cell_type": "code",
      "source": [
        "optimizer = tf.keras.optimizers.Adam(clipnorm = 5.0)"
      ],
      "metadata": {
        "id": "mslOQvt6MLn7"
      },
      "execution_count": 54,
      "outputs": []
    },
    {
      "cell_type": "code",
      "source": [
        "epoch_train_losses = []\n",
        "epoch_train_accuracies = []\n",
        "\n",
        "epoch_val_losses = []\n",
        "epoch_val_accuracies = []\n",
        "\n",
        "num_epochs = 7\n",
        "\n",
        "for epochs in range(num_epochs):\n",
        "\n",
        "    en_initial_states = encoder.init_states(batch_size)\n",
        "\n",
        "    train_losses = []\n",
        "    train_accuracies = []\n",
        "\n",
        "    for i, (input_seq, target_seq_in, target_seq_out) in enumerate(train_ds.take(-1)):\n",
        "        loss, accuracy = train_step(\n",
        "            input_seq, target_seq_in, target_seq_out, en_initial_states, optimizer)\n",
        "\n",
        "        train_losses.append(loss)\n",
        "        train_accuracies.append(accuracy)\n",
        "\n",
        "    # Calculate average training loss and accuracy\n",
        "    avg_train_loss = tf.reduce_mean(train_losses)\n",
        "    avg_train_accuracy = tf.reduce_mean(train_accuracies)\n",
        "\n",
        "    epoch_train_losses.append(avg_train_loss)\n",
        "    epoch_train_accuracies.append(avg_train_accuracy)\n",
        "\n",
        "    val_losses = []\n",
        "    val_accuracies = []\n",
        "\n",
        "    for j, (val_input_seq, val_target_seq_in, val_target_seq_out) in enumerate(val_ds.take(-1)):\n",
        "        valid_loss, valid_accuracy = valid_step(\n",
        "            val_input_seq, val_target_seq_in, val_target_seq_out, en_initial_states)\n",
        "\n",
        "        val_losses.append(valid_loss)\n",
        "        val_accuracies.append(valid_accuracy)\n",
        "\n",
        "    # Calculate average validation loss and accuracy\n",
        "    avg_val_loss = tf.reduce_mean(val_losses)\n",
        "    avg_val_accuracy = tf.reduce_mean(val_accuracies)\n",
        "\n",
        "    epoch_val_losses.append(avg_val_loss)\n",
        "    epoch_val_accuracies.append(avg_val_accuracy)\n",
        "\n",
        "    print(\"Epoch {} \"\n",
        "          \"Avg Train Loss: {:.4f} \"\n",
        "          \"Avg Train Acc: {:.4f}  \"\n",
        "          \"Avg Validation Loss: {:.4f}  \"\n",
        "          \"Avg Val Acc: {:.4f}\".format(\n",
        "              epochs + 1,\n",
        "              avg_train_loss.numpy(),\n",
        "              avg_train_accuracy.numpy(),\n",
        "              avg_val_loss.numpy(),\n",
        "              avg_val_accuracy.numpy())\n",
        "    )"
      ],
      "metadata": {
        "colab": {
          "base_uri": "https://localhost:8080/"
        },
        "id": "L6KsCOi6MLqs",
        "outputId": "5de47b5f-bc10-4196-d588-479d7993202d"
      },
      "execution_count": 55,
      "outputs": [
        {
          "output_type": "stream",
          "name": "stdout",
          "text": [
            "Epoch 1 Avg Train Loss: 1.2608 Avg Train Acc: 0.2104  Avg Validation Loss: 0.9430  Avg Val Acc: 0.2211\n",
            "Epoch 2 Avg Train Loss: 0.8963 Avg Train Acc: 0.2675  Avg Validation Loss: 0.9066  Avg Val Acc: 0.3454\n",
            "Epoch 3 Avg Train Loss: 0.8382 Avg Train Acc: 0.3307  Avg Validation Loss: 0.8912  Avg Val Acc: 0.4007\n",
            "Epoch 4 Avg Train Loss: 0.8014 Avg Train Acc: 0.3740  Avg Validation Loss: 0.8660  Avg Val Acc: 0.4266\n",
            "Epoch 5 Avg Train Loss: 0.7690 Avg Train Acc: 0.4315  Avg Validation Loss: 0.8479  Avg Val Acc: 0.4318\n",
            "Epoch 6 Avg Train Loss: 0.7435 Avg Train Acc: 0.4586  Avg Validation Loss: 0.8413  Avg Val Acc: 0.4577\n",
            "Epoch 7 Avg Train Loss: 0.7257 Avg Train Acc: 0.4611  Avg Validation Loss: 0.8358  Avg Val Acc: 0.4577\n"
          ]
        }
      ]
    },
    {
      "cell_type": "code",
      "source": [
        "import matplotlib.pyplot as plt\n",
        "\n",
        "fig, (ax1, ax2) = plt.subplots(1, 2, figsize = (15, 5))\n",
        "\n",
        "# losses\n",
        "ax1.plot(epoch_train_losses, label = \"train_loss\")\n",
        "ax1.plot(epoch_val_losses, label = \"valid_loss\")\n",
        "ax1.set_title(\"Training and Validation Loss\")\n",
        "ax1.legend()\n",
        "\n",
        "# accuracies\n",
        "ax2.plot(epoch_train_accuracies, label = \"train_acc\")\n",
        "ax2.plot(epoch_val_accuracies, label = \"val_acc\")\n",
        "ax2.set_title(\"Training and Validation Accuracy\")\n",
        "ax2.legend()\n",
        "plt.show()"
      ],
      "metadata": {
        "colab": {
          "base_uri": "https://localhost:8080/",
          "height": 468
        },
        "id": "PHuI1CFNMLtc",
        "outputId": "7547a077-4628-4ae9-ce1a-87459ad4e236"
      },
      "execution_count": 56,
      "outputs": [
        {
          "output_type": "display_data",
          "data": {
            "text/plain": [
              "<Figure size 1500x500 with 2 Axes>"
            ],
            "image/png": "[encoded data removed]"
          },
          "metadata": {}
        }
      ]
    },
    {
      "cell_type": "code",
      "source": [
        "def translate_sentence(input_sentence, decoded_max_len):\n",
        "    # Tokenize the input sequence\n",
        "    tokenized_input_sentence = eng_vectorization([input_sentence])\n",
        "\n",
        "    # Get the encoder initial states\n",
        "    en_initial_states = encoder.init_states(1)\n",
        "\n",
        "    # Get the encoder outputs (including hidden states)\n",
        "    en_outputs = encoder(tf.constant(tokenized_input_sentence), en_initial_states)\n",
        "\n",
        "    # Set the initial hidden states of the decoder to the hidden states of the encoder\n",
        "    de_state_h, de_state_c = en_outputs[1:]\n",
        "\n",
        "    # Create the decoder input, the sos token\n",
        "    de_input = tf.constant([[fra_vectorization.get_vocabulary().index(\"[start]\")]])\n",
        "\n",
        "    out_words = []\n",
        "\n",
        "    while True:\n",
        "        # Decode and get the output probabilities\n",
        "        de_output, de_state_h, de_state_c = decoder(\n",
        "            de_input, (de_state_h, de_state_c))\n",
        "\n",
        "        # Select the word with the highest probability\n",
        "        de_input = tf.argmax(de_output, -1)\n",
        "\n",
        "        # Append the word to the predicted output\n",
        "        out_words.append(fra_index_lookup[de_input.numpy()[0][0]])\n",
        "\n",
        "        # Finish when eos token is found or the max length is reached\n",
        "        if out_words[-1] == \"[end]\" or len(out_words) >= decoded_max_len:\n",
        "            break\n",
        "\n",
        "    print(\"Input :\", input_sentence[0])\n",
        "    print(\"Predicted translation :\", \" \".join(out_words))"
      ],
      "metadata": {
        "id": "Fp-tHCpJN1Rh"
      },
      "execution_count": 57,
      "outputs": []
    },
    {
      "cell_type": "code",
      "source": [
        "test_eng_texts = [pair[0] for pair in test_pairs]\n",
        "test_fra_texts = [pair[1] for pair in test_pairs]\n",
        "\n",
        "fra_vocab = fra_vectorization.get_vocabulary()\n",
        "fra_index_lookup = dict(zip(range(len(fra_vocab)), fra_vocab))\n",
        "\n",
        "for _ in range(30):\n",
        "\n",
        "    # Choose a random index\n",
        "    random_index = random.randint(0, len(test_eng_texts) - 1)\n",
        "\n",
        "    input_text = test_eng_texts[random_index]\n",
        "    target_text = test_fra_texts[random_index]\n",
        "    test_sents = [input_text]\n",
        "\n",
        "    translate_sentence(test_sents, 20)\n",
        "    print(\"Actual translation :\", target_text)\n",
        "    print()"
      ],
      "metadata": {
        "colab": {
          "base_uri": "https://localhost:8080/"
        },
        "id": "fSA-gYi5OF6F",
        "outputId": "4aa7011b-327c-495c-ed43-01a1d0431252"
      },
      "execution_count": 58,
      "outputs": [
        {
          "output_type": "stream",
          "name": "stdout",
          "text": [
            "Input : Get a job.\n",
            "Predicted translation : je suis . [end]\n",
            "Actual translation : [start] Trouvez un emploi ! [end]\n",
            "\n",
            "Input : Welcome.\n",
            "Predicted translation : je suis . [end]\n",
            "Actual translation : [start] Bienvenue ! [end]\n",
            "\n",
            "Input : Be nice.\n",
            "Predicted translation : je suis . [end]\n",
            "Actual translation : [start] Soyez gentille ! [end]\n",
            "\n",
            "Input : Hurry up.\n",
            "Predicted translation : je suis . [end]\n",
            "Actual translation : [start] Fiça ! [end]\n",
            "\n",
            "Input : Back off!\n",
            "Predicted translation : je suis . [end]\n",
            "Actual translation : [start] Reculez. [end]\n",
            "\n",
            "Input : Call Tom.\n",
            "Predicted translation : je suis . [end]\n",
            "Actual translation : [start] Appelle Tom. [end]\n",
            "\n",
            "Input : I'm rich.\n",
            "Predicted translation : je suis . [end]\n",
            "Actual translation : [start] Je suis riche. [end]\n",
            "\n",
            "Input : I'm full.\n",
            "Predicted translation : je suis . [end]\n",
            "Actual translation : [start] Je suis rassasié ! [end]\n",
            "\n",
            "Input : I had fun.\n",
            "Predicted translation : je suis . [end]\n",
            "Actual translation : [start] Je me suis marrée. [end]\n",
            "\n",
            "Input : I'm stuck.\n",
            "Predicted translation : je suis . [end]\n",
            "Actual translation : [start] Je suis coincée. [end]\n",
            "\n",
            "Input : I'll cook.\n",
            "Predicted translation : je suis . [end]\n",
            "Actual translation : [start] Je cuisinerai. [end]\n",
            "\n",
            "Input : I'll quit.\n",
            "Predicted translation : je suis . [end]\n",
            "Actual translation : [start] J'abandonnerai. [end]\n",
            "\n",
            "Input : Say hello.\n",
            "Predicted translation : je suis . [end]\n",
            "Actual translation : [start] Dis bonjour. [end]\n",
            "\n",
            "Input : It's ours.\n",
            "Predicted translation : je suis . [end]\n",
            "Actual translation : [start] C'est le nôtre. [end]\n",
            "\n",
            "Input : I had fun.\n",
            "Predicted translation : je suis . [end]\n",
            "Actual translation : [start] Je me suis marrée. [end]\n",
            "\n",
            "Input : Say hello.\n",
            "Predicted translation : je suis . [end]\n",
            "Actual translation : [start] Dis bonjour. [end]\n",
            "\n",
            "Input : Get out!\n",
            "Predicted translation : je suis . [end]\n",
            "Actual translation : [start] Sors ! [end]\n",
            "\n",
            "Input : Call Tom.\n",
            "Predicted translation : je suis . [end]\n",
            "Actual translation : [start] Appelle Tom. [end]\n",
            "\n",
            "Input : Shut up!\n",
            "Predicted translation : je suis . [end]\n",
            "Actual translation : [start] La ferme ! [end]\n",
            "\n",
            "Input : I'm fast.\n",
            "Predicted translation : je suis . [end]\n",
            "Actual translation : [start] Je suis rapide. [end]\n",
            "\n",
            "Input : I'm lucky.\n",
            "Predicted translation : je suis . [end]\n",
            "Actual translation : [start] Je suis veinarde. [end]\n",
            "\n",
            "Input : Move over.\n",
            "Predicted translation : je suis . [end]\n",
            "Actual translation : [start] Poussez-vous. [end]\n",
            "\n",
            "Input : Stay calm.\n",
            "Predicted translation : je suis . [end]\n",
            "Actual translation : [start] Reste tranquille. [end]\n",
            "\n",
            "Input : I saw you.\n",
            "Predicted translation : je suis . [end]\n",
            "Actual translation : [start] Je vous ai vus. [end]\n",
            "\n",
            "Input : I'm tidy.\n",
            "Predicted translation : je suis . [end]\n",
            "Actual translation : [start] Je suis ordonné. [end]\n",
            "\n",
            "Input : I'm ready!\n",
            "Predicted translation : je suis . [end]\n",
            "Actual translation : [start] Je suis prêt ! [end]\n",
            "\n",
            "Input : I'll pack.\n",
            "Predicted translation : je suis . [end]\n",
            "Actual translation : [start] Je plierai mes gaules. [end]\n",
            "\n",
            "Input : We smiled.\n",
            "Predicted translation : je suis . [end]\n",
            "Actual translation : [start] Nous avons souri. [end]\n",
            "\n",
            "Input : I'll swim.\n",
            "Predicted translation : je suis . [end]\n",
            "Actual translation : [start] Je nagerai. [end]\n",
            "\n",
            "Input : We smiled.\n",
            "Predicted translation : je suis . [end]\n",
            "Actual translation : [start] Nous avons souri. [end]\n",
            "\n"
          ]
        }
      ]
    },
    {
      "cell_type": "markdown",
      "source": [
        "# With attention"
      ],
      "metadata": {
        "id": "GQ6ardE3O59l"
      }
    },
    {
      "cell_type": "code",
      "source": [
        "class Attention(tf.keras.Model):\n",
        "    def __init__(self, hidden_dim):\n",
        "        super(Attention, self).__init__()\n",
        "\n",
        "        self.wa = layers.Dense(hidden_dim)\n",
        "\n",
        "    def call(self, decoder_output, encoder_output):\n",
        "        # General score function: decoder_output (dot) (Wa (dot) encoder_output)\n",
        "\n",
        "        # Decoder output is fed in one word at a time to attention layer\n",
        "        # decoder_output has shape: (batch_size, 1, hidden_dim)\n",
        "\n",
        "        # encoder_output has shape: (batch_size, sequence_length, hidden_dim)\n",
        "\n",
        "        # => score has shape: (batch_size, 1, sequence_length)\n",
        "        score = tf.matmul(\n",
        "            decoder_output,\n",
        "            self.wa(encoder_output), transpose_b = True\n",
        "        )\n",
        "\n",
        "        # alignment = softmax(score)\n",
        "        attention = tf.keras.activations.softmax(score, axis = -1)\n",
        "        # (batch_size, 1, sequence_length)\n",
        "\n",
        "        # context vector is the weighted average sum of encoder output\n",
        "        context = tf.matmul(attention, encoder_output)\n",
        "        # (batch_size, 1, hidden_dim)\n",
        "\n",
        "        return context, attention"
      ],
      "metadata": {
        "id": "1Cc1NO8kO9e1"
      },
      "execution_count": 59,
      "outputs": []
    },
    {
      "cell_type": "code",
      "source": [
        "class Decoder(tf.keras.Model):\n",
        "    def __init__(self, vocab_size, embedding_dim, hidden_dim):\n",
        "        super(Decoder, self).__init__()\n",
        "\n",
        "        self.hidden_dim = hidden_dim\n",
        "\n",
        "        self.attention = Attention(hidden_dim)\n",
        "\n",
        "        self.embedding = layers.Embedding(vocab_size, embedding_dim)\n",
        "\n",
        "        self.lstm = layers.LSTM(\n",
        "            hidden_dim, return_sequences = True, return_state = True)\n",
        "\n",
        "        self.wc = layers.Dense(hidden_dim, activation = \"tanh\")\n",
        "        self.ws = layers.Dense(vocab_size)\n",
        "\n",
        "    def call(self, input_sequence, state, encoder_output):\n",
        "        # Remember that the input to the decoder\n",
        "        # is now a batch of one-word sequences,\n",
        "        # input_sequence shape: (batch_size, 1)\n",
        "\n",
        "        embed = self.embedding(input_sequence)\n",
        "        # embed shape: (batch_size, 1, embedding_dim)\n",
        "\n",
        "        lstm_out, state_h, state_c = self.lstm(embed, initial_state = state)\n",
        "        # lstm_out shape: (batch_size, 1, hidden_dim)\n",
        "\n",
        "        # Use self.attention to compute the context and alignment vectors\n",
        "        # context shape: (batch_size, 1, hidden_dim)\n",
        "        # alignment shape: (batch_size, 1, sequence_length)\n",
        "        context, attention = self.attention(lstm_out, encoder_output)\n",
        "\n",
        "        # Combine the context vector and the LSTM output\n",
        "        # Before combining, both have shape of (batch_size, 1, hidden_dim),\n",
        "        # so let;s squeeze the axis 1 first\n",
        "        # Shape after combining (batch_size, 2 * hidden_dim)\n",
        "        lstm_out = tf.concat(\n",
        "            [tf.squeeze(context, 1), tf.squeeze(lstm_out, 1)], 1)\n",
        "\n",
        "        # lstm_out now has shape (batch_size, hidden_dim)\n",
        "        lstm_out = self.wc(lstm_out)\n",
        "\n",
        "        # Converted back to vocabulary space: (batch_size, vocab_size)\n",
        "        outputs = self.ws(lstm_out)\n",
        "\n",
        "        return outputs, state_h, state_c, attention"
      ],
      "metadata": {
        "id": "0YMvN_xtRh8D"
      },
      "execution_count": 60,
      "outputs": []
    },
    {
      "cell_type": "code",
      "source": [
        "embedding_dim = 128\n",
        "hidden_units = 256\n",
        "\n",
        "encoder = Encoder(vocab_inp_size, embedding_dim, hidden_units)\n",
        "decoder = Decoder(vocab_out_size, embedding_dim, hidden_units)\n",
        "\n",
        "# Call the encoder and then the decoder\n",
        "initial_state = encoder.init_states(1)\n",
        "\n",
        "encoder_outputs = encoder(tf.constant([[1, 2, 3, 4, 5]]), initial_state)\n",
        "\n",
        "decoder_outputs = decoder(tf.constant(\n",
        "    [[2]]), encoder_outputs[1:], encoder_outputs[0])\n",
        "\n",
        "decoder_outputs[0].shape"
      ],
      "metadata": {
        "colab": {
          "base_uri": "https://localhost:8080/"
        },
        "id": "nyyVba00Rh_u",
        "outputId": "840183eb-3c43-47a4-e05b-fb4ecaacf321"
      },
      "execution_count": 61,
      "outputs": [
        {
          "output_type": "execute_result",
          "data": {
            "text/plain": [
              "TensorShape([1, 631])"
            ]
          },
          "metadata": {},
          "execution_count": 61
        }
      ]
    },
    {
      "cell_type": "code",
      "source": [
        "@tf.function\n",
        "def train_step(input_seq, target_seq_in, target_seq_out, en_initial_states, optimizer):\n",
        "    loss = 0.\n",
        "    acc = 0.\n",
        "    logits = None\n",
        "\n",
        "    en_initial_states = encoder.init_states(batch_size)\n",
        "\n",
        "    with tf.GradientTape() as tape:\n",
        "        en_outputs = encoder(input_seq, en_initial_states)\n",
        "\n",
        "        de_state_h, de_state_c = en_outputs[1:]\n",
        "\n",
        "        # Shape of target_seq_out (batch_size, sequence_length)\n",
        "\n",
        "        # Iterate over each word in the target sequence\n",
        "        for i in range(target_seq_out.shape[1]):\n",
        "\n",
        "            # Input to the decoder must have shape of (batch_size, 1)\n",
        "            # so we need to expand one dimension\n",
        "            # (batch_size, ) -> (batch_size, 1)\n",
        "            decoder_in = tf.expand_dims(target_seq_in[:, i], 1)\n",
        "\n",
        "            logit, de_state_h, de_state_c, _ = decoder(\n",
        "                decoder_in, (de_state_h, de_state_c), en_outputs[0])\n",
        "\n",
        "            # The loss is now accumulated through the whole batch\n",
        "            loss += loss_func(target_seq_out[:, i], logit)\n",
        "\n",
        "            # Store the logits to calculate the accuracy\n",
        "            # Shape (batch_size, vocab_size) -> (batch_size, 1, vocab_size)\n",
        "            logit = K.expand_dims(logit, axis = 1)\n",
        "\n",
        "            # Next word predicted in the output\n",
        "            # logit shape: (batch_size, 1, vocab_size)\n",
        "\n",
        "            if logits is None:\n",
        "                logits = logit\n",
        "            else:\n",
        "                logits = K.concatenate((logits, logit), axis = 1)\n",
        "\n",
        "        # Logits of complete output\n",
        "        # logits shape: (batch_size, sequence_length, vocab_size)\n",
        "\n",
        "        # Calculate the accuracy for the batch data\n",
        "        acc = accuracy_fn(target_seq_out, logits)\n",
        "\n",
        "    # Update the parameters and the optimizer\n",
        "    variables = encoder.trainable_variables + decoder.trainable_variables\n",
        "    gradients = tape.gradient(loss, variables)\n",
        "    optimizer.apply_gradients(zip(gradients, variables))\n",
        "\n",
        "    return loss / target_seq_out.shape[1], acc"
      ],
      "metadata": {
        "id": "iVbWo4wWRoZ7"
      },
      "execution_count": 62,
      "outputs": []
    },
    {
      "cell_type": "code",
      "source": [
        "@tf.function\n",
        "def valid_step(val_input_seq, val_target_seq_in, val_target_seq_out, en_initial_states):\n",
        "    loss = 0.\n",
        "    acc = 0.\n",
        "    logits = None\n",
        "\n",
        "    # Get the encoder outputs\n",
        "    en_outputs = encoder(val_input_seq, en_initial_states)\n",
        "    de_state_h, de_state_c = en_outputs[1:]\n",
        "\n",
        "    # Shape of target_seq_out (batch_size, sequence_length)\n",
        "\n",
        "    # Iterate over each word in the target sequence\n",
        "    for i in range(val_target_seq_out.shape[1]):\n",
        "        # Input to the decoder must have shape of (batch_size, 1)\n",
        "        # so we need to expand one dimension\n",
        "        decoder_in = tf.expand_dims(val_target_seq_in[:, i], 1)\n",
        "\n",
        "        logit, de_state_h, de_state_c, _ = decoder(\n",
        "            decoder_in, (de_state_h, de_state_c), en_outputs[0])\n",
        "\n",
        "        # The loss is now accumulated through the whole batch\n",
        "        loss += loss_func(val_target_seq_out[:, i], logit)\n",
        "\n",
        "        # Store the logits to calculate the accuracy\n",
        "        logit = tf.expand_dims(logit, axis=1)\n",
        "\n",
        "        if logits is None:\n",
        "            logits = logit\n",
        "        else:\n",
        "            logits = tf.concat((logits, logit), axis=1)\n",
        "\n",
        "    # Calculate the accuracy for the batch data\n",
        "    acc = accuracy_fn(val_target_seq_out, logits)\n",
        "\n",
        "    return loss / val_target_seq_out.shape[1], acc\n"
      ],
      "metadata": {
        "id": "nqnT_FxRRocu"
      },
      "execution_count": 63,
      "outputs": []
    },
    {
      "cell_type": "code",
      "source": [
        "optimizer = tf.keras.optimizers.Adam(clipnorm = 5.0)"
      ],
      "metadata": {
        "id": "_4Hl3NDsRofc"
      },
      "execution_count": 64,
      "outputs": []
    },
    {
      "cell_type": "code",
      "source": [
        "epoch_train_losses = []\n",
        "epoch_train_accuracies = []\n",
        "\n",
        "epoch_val_losses = []\n",
        "epoch_val_accuracies = []\n",
        "\n",
        "num_epochs = 7\n",
        "\n",
        "for epochs in range(num_epochs):\n",
        "\n",
        "    en_initial_states = encoder.init_states(batch_size)\n",
        "\n",
        "    train_losses = []\n",
        "    train_accuracies = []\n",
        "\n",
        "    for i, (input_seq, target_seq_in, target_seq_out) in enumerate(train_ds.take(-1)):\n",
        "        loss, accuracy = train_step(\n",
        "            input_seq, target_seq_in, target_seq_out, en_initial_states, optimizer,)\n",
        "\n",
        "        train_losses.append(loss)\n",
        "        train_accuracies.append(accuracy)\n",
        "\n",
        "    # Calculate average training loss and accuracy\n",
        "    avg_train_loss = tf.reduce_mean(train_losses)\n",
        "    avg_train_accuracy = tf.reduce_mean(train_accuracies)\n",
        "\n",
        "    epoch_train_losses.append(avg_train_loss)\n",
        "    epoch_train_accuracies.append(avg_train_accuracy)\n",
        "\n",
        "    val_losses = []\n",
        "    val_accuracies = []\n",
        "\n",
        "    for j, (val_input_seq, val_target_seq_in, val_target_seq_out) in enumerate(val_ds.take(-1)):\n",
        "        valid_loss, valid_accuracy = valid_step(\n",
        "            val_input_seq, val_target_seq_in, val_target_seq_out, en_initial_states)\n",
        "\n",
        "        val_losses.append(valid_loss)\n",
        "        val_accuracies.append(valid_accuracy)\n",
        "\n",
        "    # Calculate average validation loss and accuracy\n",
        "    avg_val_loss = tf.reduce_mean(val_losses)\n",
        "    avg_val_accuracy = tf.reduce_mean(val_accuracies)\n",
        "\n",
        "    epoch_val_losses.append(avg_val_loss)\n",
        "    epoch_val_accuracies.append(avg_val_accuracy)\n",
        "\n",
        "    print(\"Epoch {} \"\n",
        "          \"Avg Train Loss: {:.4f} \"\n",
        "          \"Avg Train Acc: {:.4f}  \"\n",
        "          \"Avg Validation Loss: {:.4f}  \"\n",
        "          \"Avg Val Acc: {:.4f}\".format(epochs + 1,\n",
        "                                  avg_train_loss.numpy(),\n",
        "                                  avg_train_accuracy.numpy(),\n",
        "                                  avg_val_loss.numpy(),\n",
        "                                  avg_val_accuracy.numpy())\n",
        "    )"
      ],
      "metadata": {
        "colab": {
          "base_uri": "https://localhost:8080/"
        },
        "id": "wMSn4d56Roh_",
        "outputId": "b17acc47-f380-4e5b-b468-7f19172e86ca"
      },
      "execution_count": 65,
      "outputs": [
        {
          "output_type": "stream",
          "name": "stdout",
          "text": [
            "Epoch 1 Avg Train Loss: 1.1872 Avg Train Acc: 0.1967  Avg Validation Loss: 0.9718  Avg Val Acc: 0.1503\n",
            "Epoch 2 Avg Train Loss: 0.9043 Avg Train Acc: 0.2334  Avg Validation Loss: 0.9036  Avg Val Acc: 0.3592\n",
            "Epoch 3 Avg Train Loss: 0.8400 Avg Train Acc: 0.3202  Avg Validation Loss: 0.9019  Avg Val Acc: 0.2953\n",
            "Epoch 4 Avg Train Loss: 0.7991 Avg Train Acc: 0.3496  Avg Validation Loss: 0.8819  Avg Val Acc: 0.3989\n",
            "Epoch 5 Avg Train Loss: 0.7520 Avg Train Acc: 0.4188  Avg Validation Loss: 0.8705  Avg Val Acc: 0.4300\n",
            "Epoch 6 Avg Train Loss: 0.7208 Avg Train Acc: 0.4561  Avg Validation Loss: 0.8444  Avg Val Acc: 0.4577\n",
            "Epoch 7 Avg Train Loss: 0.6967 Avg Train Acc: 0.4614  Avg Validation Loss: 0.8421  Avg Val Acc: 0.4594\n"
          ]
        }
      ]
    },
    {
      "cell_type": "code",
      "source": [
        "import matplotlib.pyplot as plt\n",
        "\n",
        "fig, (ax1, ax2) = plt.subplots(1, 2, figsize = (15, 5))\n",
        "\n",
        "# losses\n",
        "ax1.plot(epoch_train_losses, label = \"train_loss\")\n",
        "ax1.plot(epoch_val_losses, label = \"valid_loss\")\n",
        "ax1.set_title(\"Training and Validation Loss\")\n",
        "ax1.legend()\n",
        "\n",
        "# accuracies\n",
        "ax2.plot(epoch_train_accuracies, label = \"train_acc\")\n",
        "ax2.plot(epoch_val_accuracies, label = \"val_acc\")\n",
        "ax2.set_title(\"Training and Validation Accuracy\")\n",
        "ax2.legend()\n",
        "plt.show()"
      ],
      "metadata": {
        "colab": {
          "base_uri": "https://localhost:8080/",
          "height": 468
        },
        "id": "ZocF6e59RzKU",
        "outputId": "cbbc7c4b-9de3-4fa8-d56f-3ea54f8bad78"
      },
      "execution_count": 66,
      "outputs": [
        {
          "output_type": "display_data",
          "data": {
            "text/plain": [
              "<Figure size 1500x500 with 2 Axes>"
            ],
            "image/png": "[encoded data removed]"
          },
          "metadata": {}
        }
      ]
    },
    {
      "cell_type": "code",
      "source": [
        "def translate_sentence_with_attention(input_sentence, encoder, decoded_max_len):\n",
        "    # Tokenize the input text\n",
        "    tokenized_input_sentence = eng_vectorization([input_sentence])\n",
        "\n",
        "    # Get the encoder initial states\n",
        "    en_initial_states = encoder.init_states(1)\n",
        "\n",
        "    # Get the encoder outputs or hidden states\n",
        "    en_outputs = encoder(tf.constant(tokenized_input_sentence), en_initial_states)\n",
        "\n",
        "    # Set the decoder input to the sos token\n",
        "    de_input = tf.constant([[fra_vectorization.get_vocabulary().index(\"[start]\")]])\n",
        "\n",
        "    # Set the initial hidden states of the decoder to the hidden states of the encoder\n",
        "    de_state_h, de_state_c = en_outputs[1:]\n",
        "\n",
        "    out_words = []\n",
        "    attention_weights = []\n",
        "\n",
        "    fra_vocab = fra_vectorization.get_vocabulary()\n",
        "    fra_index_lookup = dict(zip(range(len(fra_vocab)), fra_vocab))\n",
        "\n",
        "    while True:\n",
        "        # Get the decoder with attention output\n",
        "        de_output, de_state_h, de_state_c, attention = decoder(\n",
        "            de_input, (de_state_h, de_state_c), en_outputs[0])\n",
        "\n",
        "        de_input = tf.expand_dims(tf.argmax(de_output, -1), 0)\n",
        "\n",
        "        # Detokenize the output\n",
        "        out_words.append(fra_index_lookup[de_input.numpy()[0][0]])\n",
        "\n",
        "        # Save the aligment matrix\n",
        "        attention_weights.append(attention.numpy())\n",
        "\n",
        "        if out_words[-1] == \"[end]\" or len(out_words) >= decoded_max_len:\n",
        "            break\n",
        "\n",
        "    print(\"Input :\", input_sentence)\n",
        "\n",
        "    # Join the output words\n",
        "    print(\"Predicted translation :\", \" \".join(out_words))\n",
        "\n",
        "    return np.array(attention_weights), input_sentence.split(\" \"), out_words"
      ],
      "metadata": {
        "id": "iLlufk_zSeck"
      },
      "execution_count": 67,
      "outputs": []
    },
    {
      "cell_type": "code",
      "source": [
        "test_eng_texts = [pair[0] for pair in test_pairs]\n",
        "test_fra_texts = [pair[1] for pair in test_pairs]\n",
        "\n",
        "for _ in range(30):\n",
        "    # Choose a random index\n",
        "    random_index = random.randint(0, len(test_eng_texts) - 1)\n",
        "\n",
        "    input_text = test_eng_texts[random_index]\n",
        "    target_text = test_fra_texts[random_index]\n",
        "    test_sents = [input_text]\n",
        "\n",
        "    translate_sentence_with_attention(test_sents[0], encoder, 20)\n",
        "    print(\"Actual translation :\", target_text)\n",
        "    print()"
      ],
      "metadata": {
        "colab": {
          "base_uri": "https://localhost:8080/"
        },
        "id": "rVgalyOmSiV5",
        "outputId": "3c1c87c1-f469-4303-a7a4-c2d8ed436da8"
      },
      "execution_count": 69,
      "outputs": [
        {
          "output_type": "stream",
          "name": "stdout",
          "text": [
            "Input : Be nice.\n",
            "Predicted translation : je suis . [end]\n",
            "Actual translation : [start] Sois gentille ! [end]\n",
            "\n",
            "Input : Get out.\n",
            "Predicted translation : je suis . [end]\n",
            "Actual translation : [start] Casse-toi. [end]\n",
            "\n",
            "Input : I'm tidy.\n",
            "Predicted translation : je suis . [end]\n",
            "Actual translation : [start] Je suis ordonné. [end]\n",
            "\n",
            "Input : What fun!\n",
            "Predicted translation : je suis . [end]\n",
            "Actual translation : [start] Qu'est-ce qu'on s'est marrés ! [end]\n",
            "\n",
            "Input : I am fat.\n",
            "Predicted translation : je suis . [end]\n",
            "Actual translation : [start] Je suis gras. [end]\n",
            "\n",
            "Input : It's odd.\n",
            "Predicted translation : je suis . [end]\n",
            "Actual translation : [start] C'est bizarre. [end]\n",
            "\n",
            "Input : Call Tom.\n",
            "Predicted translation : je suis . [end]\n",
            "Actual translation : [start] Appelle Tom. [end]\n",
            "\n",
            "Input : Is it hot?\n",
            "Predicted translation : je suis . [end]\n",
            "Actual translation : [start] Est-ce chaud ? [end]\n",
            "\n",
            "Input : I'll cook.\n",
            "Predicted translation : je suis . [end]\n",
            "Actual translation : [start] Je cuisinerai. [end]\n",
            "\n",
            "Input : Terrific!\n",
            "Predicted translation : je suis . [end]\n",
            "Actual translation : [start] Excellent ! [end]\n",
            "\n",
            "Input : I'll talk.\n",
            "Predicted translation : je suis . [end]\n",
            "Actual translation : [start] Je parlerai. [end]\n",
            "\n",
            "Input : I'm sure.\n",
            "Predicted translation : je suis . [end]\n",
            "Actual translation : [start] J'en suis sûre. [end]\n",
            "\n",
            "Input : Catch Tom.\n",
            "Predicted translation : je suis . [end]\n",
            "Actual translation : [start] Attrape Tom. [end]\n",
            "\n",
            "Input : No way!\n",
            "Predicted translation : je suis . [end]\n",
            "Actual translation : [start] Hors de question ! [end]\n",
            "\n",
            "Input : I'm okay.\n",
            "Predicted translation : je suis . [end]\n",
            "Actual translation : [start] Je vais bien. [end]\n",
            "\n",
            "Input : I saw him.\n",
            "Predicted translation : je suis . [end]\n",
            "Actual translation : [start] Je l’ai vu. [end]\n",
            "\n",
            "Input : Come on!\n",
            "Predicted translation : je suis . [end]\n",
            "Actual translation : [start] Allez ! [end]\n",
            "\n",
            "Input : Watch us.\n",
            "Predicted translation : je suis . [end]\n",
            "Actual translation : [start] Regarde-nous ! [end]\n",
            "\n",
            "Input : I stood.\n",
            "Predicted translation : je suis . [end]\n",
            "Actual translation : [start] Je me suis tenu debout. [end]\n",
            "\n",
            "Input : Who is he?\n",
            "Predicted translation : je suis . [end]\n",
            "Actual translation : [start] Qui est-il ? [end]\n",
            "\n",
            "Input : Say hello.\n",
            "Predicted translation : je suis . [end]\n",
            "Actual translation : [start] Dis bonjour. [end]\n",
            "\n",
            "Input : Be seated.\n",
            "Predicted translation : je suis . [end]\n",
            "Actual translation : [start] Assieds-toi ! [end]\n",
            "\n",
            "Input : I talked.\n",
            "Predicted translation : je suis . [end]\n",
            "Actual translation : [start] J’ai parlé. [end]\n",
            "\n",
            "Input : Go away!\n",
            "Predicted translation : je suis . [end]\n",
            "Actual translation : [start] Pars ! [end]\n",
            "\n",
            "Input : I'm sure.\n",
            "Predicted translation : je suis . [end]\n",
            "Actual translation : [start] J'en suis sûre. [end]\n",
            "\n",
            "Input : I'll talk.\n",
            "Predicted translation : je suis . [end]\n",
            "Actual translation : [start] Je parlerai. [end]\n",
            "\n",
            "Input : I'll pack.\n",
            "Predicted translation : je suis . [end]\n",
            "Actual translation : [start] Je plierai mes gaules. [end]\n",
            "\n",
            "Input : I must go.\n",
            "Predicted translation : je suis . [end]\n",
            "Actual translation : [start] Je dois partir. [end]\n",
            "\n",
            "Input : We talked.\n",
            "Predicted translation : je suis . [end]\n",
            "Actual translation : [start] Nous nous entretînmes. [end]\n",
            "\n",
            "Input : I'm ready!\n",
            "Predicted translation : je suis . [end]\n",
            "Actual translation : [start] Je suis prêt ! [end]\n",
            "\n"
          ]
        }
      ]
    },
    {
      "cell_type": "code",
      "source": [
        "# test_sents = [\"You are young and strong .\"]\n",
        "# test_sents = [\"The train was on time .\"]\n",
        "# test_sents= [\"It is a difficult language .\"]\n",
        "# test_sents = [\"you are taller than me .\"]\n",
        "test_sents = [\"you have a lot of strange ideas .\"]\n",
        "\n",
        "# Create the figure to plot in\n",
        "fig = plt.figure(figsize = (8, 8))\n",
        "\n",
        "for i, test_sent in enumerate(test_sents):\n",
        "    # Call the predict function to get the translation\n",
        "    attention_weights, source, prediction = translate_sentence_with_attention(test_sent, encoder, 20)\n",
        "    attention = np.squeeze(attention_weights, (1, 2))\n",
        "\n",
        "    # Create a subplot\n",
        "    ax = fig.add_subplot(1, 1, i+1)\n",
        "    ax.matshow(attention[:len(prediction), :len(source)], cmap = \"viridis\")\n",
        "    ax.set_xticklabels([\"\"] + source, rotation=90)\n",
        "    ax.set_yticklabels([\"\"] + prediction)\n",
        "\n",
        "plt.show()"
      ],
      "metadata": {
        "colab": {
          "base_uri": "https://localhost:8080/",
          "height": 518
        },
        "id": "P7QAcK3OS1lG",
        "outputId": "cd296c43-354e-4ef9-ddf0-8a21767353d5"
      },
      "execution_count": 71,
      "outputs": [
        {
          "output_type": "stream",
          "name": "stdout",
          "text": [
            "Input : you have a lot of strange ideas .\n",
            "Predicted translation : je suis . [end]\n"
          ]
        },
        {
          "output_type": "stream",
          "name": "stderr",
          "text": [
            "<ipython-input-71-37920296982a>:18: UserWarning: set_ticklabels() should only be used with a fixed number of ticks, i.e. after set_ticks() or using a FixedLocator.\n",
            "  ax.set_xticklabels([\"\"] + source, rotation=90)\n",
            "<ipython-input-71-37920296982a>:19: UserWarning: set_ticklabels() should only be used with a fixed number of ticks, i.e. after set_ticks() or using a FixedLocator.\n",
            "  ax.set_yticklabels([\"\"] + prediction)\n"
          ]
        },
        {
          "output_type": "display_data",
          "data": {
            "text/plain": [
              "<Figure size 800x800 with 1 Axes>"
            ],
            "image/png": "[encoded data removed]"
          },
          "metadata": {}
        }
      ]
    }
  ]
}