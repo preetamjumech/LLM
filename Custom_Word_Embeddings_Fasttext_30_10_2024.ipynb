{
  "nbformat": 4,
  "nbformat_minor": 0,
  "metadata": {
    "colab": {
      "provenance": [],
      "authorship_tag": "ABX9TyMmQDbWnhVEK/lMhizuJ2AC",
      "include_colab_link": true
    },
    "kernelspec": {
      "name": "python3",
      "display_name": "Python 3"
    },
    "language_info": {
      "name": "python"
    }
  },
  "cells": [
    {
      "cell_type": "markdown",
      "metadata": {
        "id": "view-in-github",
        "colab_type": "text"
      },
      "source": [
        "<a href=\"https://colab.research.google.com/github/preetamjumech/LLM/blob/main/Custom_Word_Embeddings_Fasttext_30_10_2024.ipynb\" target=\"_parent\"><img src=\"https://colab.research.google.com/assets/colab-badge.svg\" alt=\"Open In Colab\"/></a>"
      ]
    },
    {
      "cell_type": "code",
      "execution_count": null,
      "metadata": {
        "id": "6Gcy8ONpXdAr"
      },
      "outputs": [],
      "source": [
        "# fasttext-wheel\n",
        "# pandas"
      ]
    },
    {
      "cell_type": "code",
      "source": [
        "#download the model in .bin format save it into local directory\n",
        "model_en = fasttext.load_model(\"E:\\Preetam\\FastText\\cc.en.300.bin\")"
      ],
      "metadata": {
        "id": "dTNyl8Z7XyVw"
      },
      "execution_count": null,
      "outputs": []
    },
    {
      "cell_type": "code",
      "source": [
        "model_en.get_nearest_neighbors(\"good\")"
      ],
      "metadata": {
        "id": "gOeexqdsXyYn"
      },
      "execution_count": null,
      "outputs": []
    },
    {
      "cell_type": "code",
      "source": [
        "model_en.get_word_vector(\"good\")"
      ],
      "metadata": {
        "id": "iD3Vyi09Xya3"
      },
      "execution_count": null,
      "outputs": []
    },
    {
      "cell_type": "code",
      "source": [
        "model_en.get_analogies(\"berlin\", \"germany\", \"india\")"
      ],
      "metadata": {
        "id": "mpHvXx6UXydI"
      },
      "execution_count": null,
      "outputs": []
    },
    {
      "cell_type": "markdown",
      "source": [
        "# Unsupervised training on custom dataset"
      ],
      "metadata": {
        "id": "Jx-kbb_QYO0n"
      }
    },
    {
      "cell_type": "code",
      "source": [
        "# https://www.kaggle.com/datasets/sooryaprakash12/cleaned-indian-recipes-dataset?resource=download\n",
        "\n",
        "import pandas as pd\n",
        "\n",
        "df = pd.read_csv(\"E:\\Preetam\\FastText\\Cleaned_Indian_Food_Dataset.csv\")\n",
        "print(df.shape)\n",
        "df.head(3)\n"
      ],
      "metadata": {
        "id": "4vJ6uNtYXyfo"
      },
      "execution_count": null,
      "outputs": []
    },
    {
      "cell_type": "code",
      "source": [
        "def preprocess(text):\n",
        "    text = re.sub(r'[^\\w\\s\\']',' ', text)\n",
        "    text = re.sub(r'[ \\n]+', ' ', text)\n",
        "    return text.strip().lower()"
      ],
      "metadata": {
        "id": "vygtFf4LXyh_"
      },
      "execution_count": null,
      "outputs": []
    },
    {
      "cell_type": "code",
      "source": [
        "df.TranslatedInstructions = df.TranslatedInstructions.map(preprocess)"
      ],
      "metadata": {
        "id": "DFaXvm_vXykf"
      },
      "execution_count": null,
      "outputs": []
    },
    {
      "cell_type": "code",
      "source": [
        "df.to_csv(\"food_receipes.txt\", columns=[\"TranslatedInstructions\"], header=None, index=False)"
      ],
      "metadata": {
        "id": "Zhvg0u_qXym3"
      },
      "execution_count": null,
      "outputs": []
    },
    {
      "cell_type": "code",
      "source": [
        "model = fasttext.train_unsupervised(\"food_receipes.txt\")"
      ],
      "metadata": {
        "id": "1_mL4BGYXyqJ"
      },
      "execution_count": null,
      "outputs": []
    },
    {
      "cell_type": "code",
      "source": [
        "model.get_nearest_neighbors(\"paneer\")"
      ],
      "metadata": {
        "id": "SZKUoXyqYoIu"
      },
      "execution_count": null,
      "outputs": []
    }
  ]
}