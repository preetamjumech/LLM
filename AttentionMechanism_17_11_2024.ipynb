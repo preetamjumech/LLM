{
  "nbformat": 4,
  "nbformat_minor": 0,
  "metadata": {
    "colab": {
      "provenance": [],
      "authorship_tag": "ABX9TyNDxHeS0bB+RO+rEjgeFSQ7",
      "include_colab_link": true
    },
    "kernelspec": {
      "name": "python3",
      "display_name": "Python 3"
    },
    "language_info": {
      "name": "python"
    }
  },
  "cells": [
    {
      "cell_type": "markdown",
      "metadata": {
        "id": "view-in-github",
        "colab_type": "text"
      },
      "source": [
        "<a href=\"https://colab.research.google.com/github/preetamjumech/LLM/blob/main/AttentionMechanism_17_11_2024.ipynb\" target=\"_parent\"><img src=\"https://colab.research.google.com/assets/colab-badge.svg\" alt=\"Open In Colab\"/></a>"
      ]
    },
    {
      "cell_type": "code",
      "execution_count": 1,
      "metadata": {
        "id": "Ljo3ws5YVe9Q"
      },
      "outputs": [],
      "source": [
        "import numpy as np\n",
        "import tensorflow as tf"
      ]
    },
    {
      "cell_type": "code",
      "source": [
        "word_1 = tf.constant([[0, 1, 1, 2]])\n",
        "word_2 = tf.constant([[1, 0, 0, 2]])\n",
        "word_3 = tf.constant([[1, 1, 0, 2]])\n",
        "word_4 = tf.constant([[2, 1, 1, 1]])"
      ],
      "metadata": {
        "id": "DDoSj5UxXZzK"
      },
      "execution_count": 2,
      "outputs": []
    },
    {
      "cell_type": "code",
      "source": [
        "word_emb_stack = tf.stack([word_1, word_2, word_3, word_4], axis = 1)\n",
        "\n",
        "word_emb_stack"
      ],
      "metadata": {
        "colab": {
          "base_uri": "https://localhost:8080/"
        },
        "id": "nybf-sz_XZ2B",
        "outputId": "63ba3301-f324-4ba8-f1b9-357d15dc24ed"
      },
      "execution_count": 3,
      "outputs": [
        {
          "output_type": "execute_result",
          "data": {
            "text/plain": [
              "<tf.Tensor: shape=(1, 4, 4), dtype=int32, numpy=\n",
              "array([[[0, 1, 1, 2],\n",
              "        [1, 0, 0, 2],\n",
              "        [1, 1, 0, 2],\n",
              "        [2, 1, 1, 1]]], dtype=int32)>"
            ]
          },
          "metadata": {},
          "execution_count": 3
        }
      ]
    },
    {
      "cell_type": "code",
      "source": [
        "shape = (4, 4)\n",
        "\n",
        "W_Q = tf.random.uniform(shape = shape, minval = 0, maxval = 3, dtype = tf.int32)\n",
        "W_K = tf.random.uniform(shape = shape, minval = 0, maxval = 3, dtype = tf.int32)\n",
        "W_V = tf.random.uniform(shape = shape, minval = 0, maxval = 3, dtype = tf.int32)\n",
        "\n",
        "W_Q, W_K, W_V"
      ],
      "metadata": {
        "colab": {
          "base_uri": "https://localhost:8080/"
        },
        "id": "NlKvrSWjXZ4a",
        "outputId": "4006dfb3-8ac4-4ff2-d1ec-ca5edc980cf9"
      },
      "execution_count": 4,
      "outputs": [
        {
          "output_type": "execute_result",
          "data": {
            "text/plain": [
              "(<tf.Tensor: shape=(4, 4), dtype=int32, numpy=\n",
              " array([[0, 1, 1, 1],\n",
              "        [1, 1, 2, 2],\n",
              "        [0, 0, 1, 0],\n",
              "        [0, 1, 0, 0]], dtype=int32)>,\n",
              " <tf.Tensor: shape=(4, 4), dtype=int32, numpy=\n",
              " array([[2, 0, 0, 1],\n",
              "        [2, 0, 2, 1],\n",
              "        [0, 1, 2, 1],\n",
              "        [1, 1, 2, 2]], dtype=int32)>,\n",
              " <tf.Tensor: shape=(4, 4), dtype=int32, numpy=\n",
              " array([[0, 1, 0, 0],\n",
              "        [1, 2, 0, 2],\n",
              "        [0, 1, 1, 1],\n",
              "        [0, 2, 2, 2]], dtype=int32)>)"
            ]
          },
          "metadata": {},
          "execution_count": 4
        }
      ]
    },
    {
      "cell_type": "code",
      "source": [
        "# generating the queries, keys and values\n",
        "query_1 = tf.matmul(word_1, W_Q)\n",
        "key_1 = tf.matmul(word_1, W_K)\n",
        "value_1 = tf.matmul(word_1, W_V)\n",
        "\n",
        "query_2 = tf.matmul(word_2, W_Q)\n",
        "key_2 = tf.matmul(word_2, W_K)\n",
        "value_2 = tf.matmul(word_2, W_V)\n",
        "\n",
        "query_3 = tf.matmul(word_3, W_Q)\n",
        "key_3 = tf.matmul(word_3, W_K)\n",
        "value_3 = tf.matmul(word_3, W_V)\n",
        "\n",
        "query_4 = tf.matmul(word_4, W_Q)\n",
        "key_4 = tf.matmul(word_4, W_K)\n",
        "value_4 = tf.matmul(word_4, W_V)"
      ],
      "metadata": {
        "id": "ET51vTyqXZ6x"
      },
      "execution_count": 5,
      "outputs": []
    },
    {
      "cell_type": "code",
      "source": [
        "query_1, key_1, value_1"
      ],
      "metadata": {
        "colab": {
          "base_uri": "https://localhost:8080/"
        },
        "id": "DQBRhKYuXZ9Q",
        "outputId": "f5d05f5d-1285-43d2-875b-36462203256d"
      },
      "execution_count": 6,
      "outputs": [
        {
          "output_type": "execute_result",
          "data": {
            "text/plain": [
              "(<tf.Tensor: shape=(1, 4), dtype=int32, numpy=array([[1, 3, 3, 2]], dtype=int32)>,\n",
              " <tf.Tensor: shape=(1, 4), dtype=int32, numpy=array([[4, 3, 8, 6]], dtype=int32)>,\n",
              " <tf.Tensor: shape=(1, 4), dtype=int32, numpy=array([[1, 7, 5, 7]], dtype=int32)>)"
            ]
          },
          "metadata": {},
          "execution_count": 6
        }
      ]
    },
    {
      "cell_type": "code",
      "source": [
        "scores = tf.stack([\n",
        "    tf.matmul(query_1, key_1, transpose_b = True),\n",
        "    tf.matmul(query_1, key_2, transpose_b = True),\n",
        "    tf.matmul(query_1, key_3, transpose_b = True),\n",
        "    tf.matmul(query_1, key_4, transpose_b = True)]\n",
        ")\n",
        "\n",
        "scores"
      ],
      "metadata": {
        "colab": {
          "base_uri": "https://localhost:8080/"
        },
        "id": "ZM1q826AXZ_w",
        "outputId": "af90d8a1-7549-4d42-a8fc-197ea9205c80"
      },
      "execution_count": 7,
      "outputs": [
        {
          "output_type": "execute_result",
          "data": {
            "text/plain": [
              "<tf.Tensor: shape=(4, 1, 1), dtype=int32, numpy=\n",
              "array([[[49]],\n",
              "\n",
              "       [[32]],\n",
              "\n",
              "       [[42]],\n",
              "\n",
              "       [[43]]], dtype=int32)>"
            ]
          },
          "metadata": {},
          "execution_count": 7
        }
      ]
    },
    {
      "cell_type": "code",
      "source": [
        "weights = tf.nn.softmax(\n",
        "    tf.cast(tf.squeeze(scores), tf.float32) / tf.math.sqrt(tf.cast(tf.shape(key_1)[-1], tf.float32))\n",
        ")\n",
        "\n",
        "weights"
      ],
      "metadata": {
        "colab": {
          "base_uri": "https://localhost:8080/"
        },
        "id": "CAOnjfllXaCB",
        "outputId": "1b06b5ba-5038-4f92-e99b-f5d58ce0091c"
      },
      "execution_count": 8,
      "outputs": [
        {
          "output_type": "execute_result",
          "data": {
            "text/plain": [
              "<tf.Tensor: shape=(4,), dtype=float32, numpy=\n",
              "array([9.2576486e-01, 1.8836386e-04, 2.7955677e-02, 4.6091117e-02],\n",
              "      dtype=float32)>"
            ]
          },
          "metadata": {},
          "execution_count": 8
        }
      ]
    },
    {
      "cell_type": "code",
      "source": [
        "value_1 = tf.cast(value_1, tf.float32)\n",
        "value_2 = tf.cast(value_2, tf.float32)\n",
        "value_3 = tf.cast(value_3, tf.float32)\n",
        "value_4 = tf.cast(value_4, tf.float32)"
      ],
      "metadata": {
        "id": "gN7G6wveXaFA"
      },
      "execution_count": 9,
      "outputs": []
    },
    {
      "cell_type": "code",
      "source": [
        "attention = (weights[0] * value_1) + (weights[1] * value_2) + (weights[2] * value_3) + (weights[3] * value_4)\n",
        "\n",
        "print(attention)"
      ],
      "metadata": {
        "colab": {
          "base_uri": "https://localhost:8080/"
        },
        "id": "Z_ZDVzCmXaHq",
        "outputId": "16f58eca-0341-438a-d665-cfe70ccd79a6"
      },
      "execution_count": 10,
      "outputs": [
        {
          "output_type": "stream",
          "name": "stdout",
          "text": [
            "tf.Tensor([[0.99981165 6.9996233  4.8796735  6.879297  ]], shape=(1, 4), dtype=float32)\n"
          ]
        }
      ]
    },
    {
      "cell_type": "code",
      "source": [
        "word_emb_stack"
      ],
      "metadata": {
        "colab": {
          "base_uri": "https://localhost:8080/"
        },
        "id": "xylf_AtZXtT4",
        "outputId": "abc61ede-5509-4ce3-9ac8-d301325c86ae"
      },
      "execution_count": 11,
      "outputs": [
        {
          "output_type": "execute_result",
          "data": {
            "text/plain": [
              "<tf.Tensor: shape=(1, 4, 4), dtype=int32, numpy=\n",
              "array([[[0, 1, 1, 2],\n",
              "        [1, 0, 0, 2],\n",
              "        [1, 1, 0, 2],\n",
              "        [2, 1, 1, 1]]], dtype=int32)>"
            ]
          },
          "metadata": {},
          "execution_count": 11
        }
      ]
    },
    {
      "cell_type": "code",
      "source": [
        "word_emb_stack = tf.squeeze(word_emb_stack)\n",
        "\n",
        "word_emb_stack"
      ],
      "metadata": {
        "colab": {
          "base_uri": "https://localhost:8080/"
        },
        "id": "deVBBFElXtZI",
        "outputId": "e70c7f41-5d32-471d-e8ea-0fd41692dae7"
      },
      "execution_count": 12,
      "outputs": [
        {
          "output_type": "execute_result",
          "data": {
            "text/plain": [
              "<tf.Tensor: shape=(4, 4), dtype=int32, numpy=\n",
              "array([[0, 1, 1, 2],\n",
              "       [1, 0, 0, 2],\n",
              "       [1, 1, 0, 2],\n",
              "       [2, 1, 1, 1]], dtype=int32)>"
            ]
          },
          "metadata": {},
          "execution_count": 12
        }
      ]
    },
    {
      "cell_type": "code",
      "source": [
        "Query = word_emb_stack @ W_Q\n",
        "Key = word_emb_stack @ W_K\n",
        "Value = word_emb_stack @ W_V\n",
        "\n",
        "Query, Key, Value"
      ],
      "metadata": {
        "colab": {
          "base_uri": "https://localhost:8080/"
        },
        "id": "esiAtsmuXtbo",
        "outputId": "d70c4a5f-4194-4ab0-be02-ad7ab1ee927d"
      },
      "execution_count": 13,
      "outputs": [
        {
          "output_type": "execute_result",
          "data": {
            "text/plain": [
              "(<tf.Tensor: shape=(4, 4), dtype=int32, numpy=\n",
              " array([[1, 3, 3, 2],\n",
              "        [0, 3, 1, 1],\n",
              "        [1, 4, 3, 3],\n",
              "        [1, 4, 5, 4]], dtype=int32)>,\n",
              " <tf.Tensor: shape=(4, 4), dtype=int32, numpy=\n",
              " array([[4, 3, 8, 6],\n",
              "        [4, 2, 4, 5],\n",
              "        [6, 2, 6, 6],\n",
              "        [7, 2, 6, 6]], dtype=int32)>,\n",
              " <tf.Tensor: shape=(4, 4), dtype=int32, numpy=\n",
              " array([[1, 7, 5, 7],\n",
              "        [0, 5, 4, 4],\n",
              "        [1, 7, 4, 6],\n",
              "        [1, 7, 3, 5]], dtype=int32)>)"
            ]
          },
          "metadata": {},
          "execution_count": 13
        }
      ]
    },
    {
      "cell_type": "code",
      "source": [
        "scores = tf.matmul(Query, Key, transpose_b = True)\n",
        "\n",
        "scores"
      ],
      "metadata": {
        "colab": {
          "base_uri": "https://localhost:8080/"
        },
        "id": "KTFYxZbeXteR",
        "outputId": "3db4f416-959d-4831-9be9-cad8c6075244"
      },
      "execution_count": 14,
      "outputs": [
        {
          "output_type": "execute_result",
          "data": {
            "text/plain": [
              "<tf.Tensor: shape=(4, 4), dtype=int32, numpy=\n",
              "array([[49, 32, 42, 43],\n",
              "       [23, 15, 18, 18],\n",
              "       [58, 39, 50, 51],\n",
              "       [80, 52, 68, 69]], dtype=int32)>"
            ]
          },
          "metadata": {},
          "execution_count": 14
        }
      ]
    },
    {
      "cell_type": "code",
      "source": [
        "weights = tf.nn.softmax(tf.cast(scores, tf.float32) / tf.math.sqrt(tf.cast(tf.shape(Key)[-1], tf.float32)))\n",
        "\n",
        "weights"
      ],
      "metadata": {
        "colab": {
          "base_uri": "https://localhost:8080/"
        },
        "id": "LXxRBfgaXtgo",
        "outputId": "2dc7a9fb-6eb1-4a84-fb3d-7e510fbe72df"
      },
      "execution_count": 15,
      "outputs": [
        {
          "output_type": "execute_result",
          "data": {
            "text/plain": [
              "<tf.Tensor: shape=(4, 4), dtype=float32, numpy=\n",
              "array([[9.2576486e-01, 1.8836386e-04, 2.7955677e-02, 4.6091121e-02],\n",
              "       [8.4567618e-01, 1.5489100e-02, 6.9417328e-02, 6.9417328e-02],\n",
              "       [9.5366347e-01, 7.1383452e-05, 1.7466957e-02, 2.8798142e-02],\n",
              "       [9.9347657e-01, 8.2610433e-07, 2.4625824e-03, 4.0601119e-03]],\n",
              "      dtype=float32)>"
            ]
          },
          "metadata": {},
          "execution_count": 15
        }
      ]
    },
    {
      "cell_type": "code",
      "source": [
        "attention = tf.matmul(weights, tf.cast(Value, tf.float32))\n",
        "\n",
        "attention"
      ],
      "metadata": {
        "colab": {
          "base_uri": "https://localhost:8080/"
        },
        "id": "bukZRCwpXtjC",
        "outputId": "4451fac5-7bcf-4c34-caa0-b4b8736854fe"
      },
      "execution_count": 16,
      "outputs": [
        {
          "output_type": "execute_result",
          "data": {
            "text/plain": [
              "<tf.Tensor: shape=(4, 4), dtype=float32, numpy=\n",
              "array([[0.99981165, 6.9996233 , 4.8796735 , 6.8792973 ],\n",
              "       [0.9845109 , 6.9690213 , 4.776259  , 6.74528   ],\n",
              "       [0.9999286 , 6.999857  , 4.924865  , 6.924722  ],\n",
              "       [0.9999992 , 6.999999  , 4.989417  , 6.989415  ]], dtype=float32)>"
            ]
          },
          "metadata": {},
          "execution_count": 16
        }
      ]
    }
  ]
}