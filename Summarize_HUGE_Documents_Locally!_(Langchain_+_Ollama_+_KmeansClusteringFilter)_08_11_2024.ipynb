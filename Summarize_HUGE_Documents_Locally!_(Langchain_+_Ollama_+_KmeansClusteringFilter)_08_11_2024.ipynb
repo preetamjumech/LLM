{
  "nbformat": 4,
  "nbformat_minor": 0,
  "metadata": {
    "colab": {
      "provenance": [],
      "authorship_tag": "ABX9TyMGAlADRl2EUo6/iTE5J6WV",
      "include_colab_link": true
    },
    "kernelspec": {
      "name": "python3",
      "display_name": "Python 3"
    },
    "language_info": {
      "name": "python"
    }
  },
  "cells": [
    {
      "cell_type": "markdown",
      "metadata": {
        "id": "view-in-github",
        "colab_type": "text"
      },
      "source": [
        "<a href=\"https://colab.research.google.com/github/preetamjumech/LLM/blob/main/Summarize_HUGE_Documents_Locally!_(Langchain_%2B_Ollama_%2B_KmeansClusteringFilter)_08_11_2024.ipynb\" target=\"_parent\"><img src=\"https://colab.research.google.com/assets/colab-badge.svg\" alt=\"Open In Colab\"/></a>"
      ]
    },
    {
      "cell_type": "code",
      "execution_count": null,
      "metadata": {
        "id": "lnXJwhkHdiog"
      },
      "outputs": [],
      "source": [
        "!pip install langchain\n",
        "!pip install langchain-community\n",
        "!pip install langchain-ollama\n",
        "!pip install sentence-transformers\n",
        "!pip install langchain-text-splitters\n",
        "!pip install pypdf"
      ]
    },
    {
      "cell_type": "code",
      "source": [
        "from langchain_ollama import ChatOllama\n",
        "from langchain_text_splitters import RecursiveCharacterTextSplitter\n",
        "from langchain_community.document_loaders import PyPDFLoader\n",
        "from langchain.chains.summarize import load_summarize_chain\n",
        "from langchain_community.document_transformers import EmbeddingsClusteringFilter\n",
        "from langchain_community.embeddings import HuggingFaceBgeEmbeddings\n",
        "\n",
        "\n",
        "def extract(file_path):\n",
        "    loader = PyPDFLoader(file_path)\n",
        "    pages = loader.load()\n",
        "    text_splitter = RecursiveCharacterTextSplitter(chunk_size=2000, chunk_overlap=0)\n",
        "    texts = text_splitter.split_documents(pages)\n",
        "    return texts\n",
        "\n",
        "\n",
        "def summarize_document_with_kmeans_clustering(file, llm, embeddings):\n",
        "    filter = EmbeddingsClusteringFilter(embeddings=embeddings, num_clusters=10)\n",
        "\n",
        "    texts = extract(file)\n",
        "    try:\n",
        "        result = filter.transform_documents(documents=texts)\n",
        "        checker_chain = load_summarize_chain(llm, chain_type=\"stuff\")\n",
        "        summary = checker_chain.run(result)\n",
        "        return summary\n",
        "    except Exception as e:\n",
        "        return str(e)\n",
        "\n",
        "model_name = \"BAAI/bge-base-en-v1.5\"\n",
        "model_kwargs = {'device': 'cpu'}\n",
        "encode_kwargs = {'normalize_embeddings': True} # set True to compute cosine similarity\n",
        "\n",
        "model = HuggingFaceBgeEmbeddings(\n",
        "    model_name=model_name,\n",
        "    model_kwargs=model_kwargs,\n",
        "    encode_kwargs=encode_kwargs\n",
        ")\n",
        "\n",
        "\n",
        "llm = ChatOllama(\n",
        "    model=\"llama3.1\",\n",
        "    temperature=0,\n",
        "\n",
        ")\n",
        "\n",
        "print(summarize_document_with_kmeans_clustering(\"E:\\Preetam\\pdf summarization\\IBM_Annual_Report_2020.pdf\", llm, model))"
      ],
      "metadata": {
        "id": "dt6mYH4cdjbF"
      },
      "execution_count": null,
      "outputs": []
    }
  ]
}